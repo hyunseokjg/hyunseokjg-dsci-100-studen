{
 "cells": [
  {
   "cell_type": "markdown",
   "metadata": {
    "deletable": false,
    "editable": false,
    "nbgrader": {
     "cell_type": "markdown",
     "checksum": "0f71f59c092405b939b946c3c8fa6ca3",
     "grade": false,
     "grade_id": "cell-f9cd89ad16c3393f",
     "locked": true,
     "schema_version": 3,
     "solution": false,
     "task": false
    }
   },
   "source": [
    "# Tutorial 11 - Introduction to Statistical Inference\n",
    "\n",
    "### Lecture and Tutorial Learning Goals:\n",
    "\n",
    "After completing this week's lecture and tutorial work, you will be able to:\n",
    "- Describe real world examples of questions that can be answered with the statistical inference methods.\n",
    "- Name common population parameters (e.g., mean, proportion, median, variance, standard deviation) that are often estimated using sample data, and use computation to estimate these.\n",
    "- Define the following statistical sampling terms (population, sample, population parameter, point estimate, sampling distribution).\n",
    "- Explain the difference between a population parameter and sample point estimate.\n",
    "- Use computation to draw random samples from a finite population.\n",
    "- Use computation to create a sampling distribution from a finite population.\n",
    "- Describe how sample size influences the sampling distribution."
   ]
  },
  {
   "cell_type": "code",
   "execution_count": 1,
   "metadata": {
    "deletable": false,
    "editable": false,
    "nbgrader": {
     "cell_type": "code",
     "checksum": "bf68299bb1b5c7ddcd7e35b21673db9a",
     "grade": false,
     "grade_id": "cell-5e46ba6301dcd126",
     "locked": true,
     "schema_version": 3,
     "solution": false,
     "task": false
    }
   },
   "outputs": [
    {
     "name": "stderr",
     "output_type": "stream",
     "text": [
      "── \u001b[1mAttaching packages\u001b[22m ─────────────────────────────────────── tidyverse 1.3.0 ──\n",
      "\n",
      "\u001b[32m✔\u001b[39m \u001b[34mggplot2\u001b[39m 3.3.2     \u001b[32m✔\u001b[39m \u001b[34mpurrr  \u001b[39m 0.3.4\n",
      "\u001b[32m✔\u001b[39m \u001b[34mtibble \u001b[39m 3.0.3     \u001b[32m✔\u001b[39m \u001b[34mdplyr  \u001b[39m 1.0.2\n",
      "\u001b[32m✔\u001b[39m \u001b[34mtidyr  \u001b[39m 1.1.2     \u001b[32m✔\u001b[39m \u001b[34mstringr\u001b[39m 1.4.0\n",
      "\u001b[32m✔\u001b[39m \u001b[34mreadr  \u001b[39m 1.3.1     \u001b[32m✔\u001b[39m \u001b[34mforcats\u001b[39m 0.5.0\n",
      "\n",
      "Warning message:\n",
      "“package ‘ggplot2’ was built under R version 4.0.1”\n",
      "Warning message:\n",
      "“package ‘tibble’ was built under R version 4.0.2”\n",
      "Warning message:\n",
      "“package ‘tidyr’ was built under R version 4.0.2”\n",
      "Warning message:\n",
      "“package ‘dplyr’ was built under R version 4.0.2”\n",
      "── \u001b[1mConflicts\u001b[22m ────────────────────────────────────────── tidyverse_conflicts() ──\n",
      "\u001b[31m✖\u001b[39m \u001b[34mdplyr\u001b[39m::\u001b[32mfilter()\u001b[39m masks \u001b[34mstats\u001b[39m::filter()\n",
      "\u001b[31m✖\u001b[39m \u001b[34mdplyr\u001b[39m::\u001b[32mlag()\u001b[39m    masks \u001b[34mstats\u001b[39m::lag()\n",
      "\n",
      "Warning message:\n",
      "“package ‘infer’ was built under R version 4.0.3”\n",
      "\n",
      "Attaching package: ‘testthat’\n",
      "\n",
      "\n",
      "The following object is masked from ‘package:dplyr’:\n",
      "\n",
      "    matches\n",
      "\n",
      "\n",
      "The following object is masked from ‘package:purrr’:\n",
      "\n",
      "    is_null\n",
      "\n",
      "\n",
      "The following object is masked from ‘package:tidyr’:\n",
      "\n",
      "    matches\n",
      "\n",
      "\n"
     ]
    }
   ],
   "source": [
    "### Run this cell before continuing.\n",
    "library(tidyverse)\n",
    "library(repr)\n",
    "library(digest)\n",
    "library(infer)\n",
    "options(repr.matrix.max.rows = 6)\n",
    "source('tests.R')\n",
    "source('cleanup.R')"
   ]
  },
  {
   "cell_type": "markdown",
   "metadata": {
    "deletable": false,
    "editable": false,
    "nbgrader": {
     "cell_type": "markdown",
     "checksum": "d5afb375cb1ec9893e942d8172f7180b",
     "grade": false,
     "grade_id": "cell-45228c253c917b4f",
     "locked": true,
     "schema_version": 3,
     "solution": false,
     "task": false
    }
   },
   "source": [
    "###  Virtual sampling simulation\n",
    "\n",
    "In this tutorial you will study samples and sample means generated from different distributions. In real life, we rarely, if ever, have measurements for our entire population. Here, however, we will make simulated datasets so we can understand the behaviour of sample means.\n",
    "\n",
    "Suppose we had the data science final grades for a large population of students. "
   ]
  },
  {
   "cell_type": "code",
   "execution_count": 2,
   "metadata": {
    "deletable": false,
    "editable": false,
    "nbgrader": {
     "cell_type": "code",
     "checksum": "a548593285b2dc062060660d9561f2e9",
     "grade": false,
     "grade_id": "cell-0864bc512d509d18",
     "locked": true,
     "schema_version": 3,
     "solution": false,
     "task": false
    }
   },
   "outputs": [
    {
     "data": {
      "text/html": [
       "<table>\n",
       "<caption>A tibble: 10000 × 1</caption>\n",
       "<thead>\n",
       "\t<tr><th scope=col>grade</th></tr>\n",
       "\t<tr><th scope=col>&lt;dbl&gt;</th></tr>\n",
       "</thead>\n",
       "<tbody>\n",
       "\t<tr><td>82.47102</td></tr>\n",
       "\t<tr><td>73.29210</td></tr>\n",
       "\t<tr><td>72.24852</td></tr>\n",
       "\t<tr><td>⋮</td></tr>\n",
       "\t<tr><td>72.65407</td></tr>\n",
       "\t<tr><td>83.26502</td></tr>\n",
       "\t<tr><td>68.36166</td></tr>\n",
       "</tbody>\n",
       "</table>\n"
      ],
      "text/latex": [
       "A tibble: 10000 × 1\n",
       "\\begin{tabular}{l}\n",
       " grade\\\\\n",
       " <dbl>\\\\\n",
       "\\hline\n",
       "\t 82.47102\\\\\n",
       "\t 73.29210\\\\\n",
       "\t 72.24852\\\\\n",
       "\t ⋮\\\\\n",
       "\t 72.65407\\\\\n",
       "\t 83.26502\\\\\n",
       "\t 68.36166\\\\\n",
       "\\end{tabular}\n"
      ],
      "text/markdown": [
       "\n",
       "A tibble: 10000 × 1\n",
       "\n",
       "| grade &lt;dbl&gt; |\n",
       "|---|\n",
       "| 82.47102 |\n",
       "| 73.29210 |\n",
       "| 72.24852 |\n",
       "| ⋮ |\n",
       "| 72.65407 |\n",
       "| 83.26502 |\n",
       "| 68.36166 |\n",
       "\n"
      ],
      "text/plain": [
       "      grade   \n",
       "1     82.47102\n",
       "2     73.29210\n",
       "3     72.24852\n",
       "⋮     ⋮       \n",
       "9998  72.65407\n",
       "9999  83.26502\n",
       "10000 68.36166"
      ]
     },
     "metadata": {},
     "output_type": "display_data"
    }
   ],
   "source": [
    "# run this cell to simulate a finite population\n",
    "set.seed(20201) # DO NOT CHANGE\n",
    "students_pop <- tibble(grade = (rnorm(mean = 70, sd = 8, n = 10000)))\n",
    "students_pop"
   ]
  },
  {
   "cell_type": "markdown",
   "metadata": {
    "deletable": false,
    "editable": false,
    "nbgrader": {
     "cell_type": "markdown",
     "checksum": "f4fd861729dc54550b8e403f50446398",
     "grade": false,
     "grade_id": "cell-9b660b53ec2a2962",
     "locked": true,
     "schema_version": 3,
     "solution": false,
     "task": false
    }
   },
   "source": [
    "**Question 1.0** \n",
    "<br> {points: 1}\n",
    "\n",
    "Visualize the distribution of the population (`students_pop`) that was just created by plotting a histogram using `binwidth = 1` in the `geom_histogram` argument. Name the plot `pop_dist` and give x-axis a descriptive label."
   ]
  },
  {
   "cell_type": "code",
   "execution_count": 3,
   "metadata": {
    "deletable": false,
    "nbgrader": {
     "cell_type": "code",
     "checksum": "2d75c199b416e8720322c0bf54d42751",
     "grade": false,
     "grade_id": "cell-986bdfedad27901f",
     "locked": false,
     "schema_version": 3,
     "solution": true,
     "task": false
    }
   },
   "outputs": [
    {
     "data": {
      "image/png": "[encoded data removed]",
      "text/plain": [
       "plot without title"
      ]
     },
     "metadata": {
      "image/png": {
       "height": 360,
       "width": 480
      }
     },
     "output_type": "display_data"
    }
   ],
   "source": [
    "options(repr.plot.width = 8, repr.plot.height = 6)\n",
    "# ... <- ggplot(..., ...) + \n",
    "#    geom_...(...) +\n",
    "#    ... +\n",
    "#    ggtitle(\"Population distribution\")\n",
    "\n",
    "pop_dist <- ggplot(students_pop, aes(x = grade)) +\n",
    "    geom_histogram(binwidth = 1) +\n",
    "    labs(x = \"Grade\", y = \"Count\") +\n",
    "    ggtitle(\"Popuation Distribution\") +\n",
    "    theme(text = element_text(size = 20))\n",
    "pop_dist"
   ]
  },
  {
   "cell_type": "code",
   "execution_count": 43,
   "metadata": {
    "deletable": false,
    "editable": false,
    "nbgrader": {
     "cell_type": "code",
     "checksum": "9a54c40f8bc78bc3e33163edeb2b74d2",
     "grade": true,
     "grade_id": "cell-9e86388006978a3c",
     "locked": true,
     "points": 1,
     "schema_version": 3,
     "solution": false,
     "task": false
    }
   },
   "outputs": [
    {
     "name": "stdout",
     "output_type": "stream",
     "text": [
      "[1] \"Success!\"\n"
     ]
    }
   ],
   "source": [
    "test_1.0()"
   ]
  },
  {
   "cell_type": "markdown",
   "metadata": {
    "deletable": false,
    "editable": false,
    "nbgrader": {
     "cell_type": "markdown",
     "checksum": "5c60f7bd1600eca7a12ff1011679b5dc",
     "grade": false,
     "grade_id": "cell-b3a85dcae842e033",
     "locked": true,
     "schema_version": 3,
     "solution": false,
     "task": false
    }
   },
   "source": [
    "**Question 1.1** \n",
    "<br> {points: 3}\n",
    "\n",
    "Describe in words the distribution above, comment on the shape, center and how spread out the distribution is. "
   ]
  },
  {
   "cell_type": "markdown",
   "metadata": {
    "deletable": false,
    "nbgrader": {
     "cell_type": "markdown",
     "checksum": "fb82967f0dfaac8eebca91a17e0f6f88",
     "grade": true,
     "grade_id": "cell-7c51509618ad5c41",
     "locked": false,
     "points": 3,
     "schema_version": 3,
     "solution": true,
     "task": false
    }
   },
   "source": [
    "This is normal distribution with bell shape curve centered around the mean and is roughly symmetric. "
   ]
  },
  {
   "cell_type": "markdown",
   "metadata": {
    "deletable": false,
    "editable": false,
    "nbgrader": {
     "cell_type": "markdown",
     "checksum": "eed082e1722df9aa2c302eb30f79b762",
     "grade": false,
     "grade_id": "cell-a6d7523259c0ec45",
     "locked": true,
     "schema_version": 3,
     "solution": false,
     "task": false
    }
   },
   "source": [
    "**Question 1.2** \n",
    "<br> {points: 1}\n",
    "\n",
    "Use `summarise` to calculate the following population parameters from the `students_pop` population:\n",
    "- mean (use the `mean` function)\n",
    "- median (use the `median` function)\n",
    "- standard deviation (use the `sd` function)\n",
    "\n",
    "Name this data frame `pop_parameters` which has the column names `pop_mean`, `pop_med` and `pop_sd`."
   ]
  },
  {
   "cell_type": "code",
   "execution_count": 4,
   "metadata": {
    "deletable": false,
    "nbgrader": {
     "cell_type": "code",
     "checksum": "036c9553c3c1a5f32341e4d3ae7e620d",
     "grade": false,
     "grade_id": "cell-e351a7d3e55d1948",
     "locked": false,
     "schema_version": 3,
     "solution": true,
     "task": false
    }
   },
   "outputs": [
    {
     "data": {
      "text/html": [
       "<table>\n",
       "<caption>A tibble: 1 × 3</caption>\n",
       "<thead>\n",
       "\t<tr><th scope=col>pop_mean</th><th scope=col>pop_med</th><th scope=col>pop_sd</th></tr>\n",
       "\t<tr><th scope=col>&lt;dbl&gt;</th><th scope=col>&lt;dbl&gt;</th><th scope=col>&lt;dbl&gt;</th></tr>\n",
       "</thead>\n",
       "<tbody>\n",
       "\t<tr><td>70.03288</td><td>70.01299</td><td>8.05165</td></tr>\n",
       "</tbody>\n",
       "</table>\n"
      ],
      "text/latex": [
       "A tibble: 1 × 3\n",
       "\\begin{tabular}{lll}\n",
       " pop\\_mean & pop\\_med & pop\\_sd\\\\\n",
       " <dbl> & <dbl> & <dbl>\\\\\n",
       "\\hline\n",
       "\t 70.03288 & 70.01299 & 8.05165\\\\\n",
       "\\end{tabular}\n"
      ],
      "text/markdown": [
       "\n",
       "A tibble: 1 × 3\n",
       "\n",
       "| pop_mean &lt;dbl&gt; | pop_med &lt;dbl&gt; | pop_sd &lt;dbl&gt; |\n",
       "|---|---|---|\n",
       "| 70.03288 | 70.01299 | 8.05165 |\n",
       "\n"
      ],
      "text/plain": [
       "  pop_mean pop_med  pop_sd \n",
       "1 70.03288 70.01299 8.05165"
      ]
     },
     "metadata": {},
     "output_type": "display_data"
    }
   ],
   "source": [
    "pop_parameters <- students_pop %>%\n",
    "    summarize(\n",
    "        pop_mean = mean(grade),\n",
    "        pop_med = median(grade),\n",
    "        pop_sd = sd(grade))\n",
    "pop_parameters"
   ]
  },
  {
   "cell_type": "code",
   "execution_count": 5,
   "metadata": {
    "deletable": false,
    "editable": false,
    "nbgrader": {
     "cell_type": "code",
     "checksum": "c39f471ca3492b1ce4f9c2821d7a7e70",
     "grade": true,
     "grade_id": "cell-ebeb7e12fd1b5f86",
     "locked": true,
     "points": 1,
     "schema_version": 3,
     "solution": false,
     "task": false
    }
   },
   "outputs": [
    {
     "name": "stdout",
     "output_type": "stream",
     "text": [
      "[1] \"Success!\"\n"
     ]
    }
   ],
   "source": [
    "test_1.2()"
   ]
  },
  {
   "cell_type": "markdown",
   "metadata": {
    "deletable": false,
    "editable": false,
    "nbgrader": {
     "cell_type": "markdown",
     "checksum": "d0afc4afbaccc7d320188963e8a59ae5",
     "grade": false,
     "grade_id": "cell-38823954d60fbb09",
     "locked": true,
     "schema_version": 3,
     "solution": false,
     "task": false
    }
   },
   "source": [
    "**Question 1.2.1** \n",
    "<br> {points: 1}\n",
    "\n",
    "Draw one random sample of 5 students from our population of students (`students_pop`). \n",
    "Use `summarize` to calculate the mean, median, and standard deviation for these 5 students.\n",
    "\n",
    "Name this data frame `ests_5` which should have column names `mean_5`, `med_5` and `sd_5`. Use the seed `4321`. "
   ]
  },
  {
   "cell_type": "code",
   "execution_count": 11,
   "metadata": {
    "deletable": false,
    "nbgrader": {
     "cell_type": "code",
     "checksum": "a7f3fd7f5872b251166582bd8d420c11",
     "grade": false,
     "grade_id": "cell-7f4e5ad1421b18e7",
     "locked": false,
     "schema_version": 3,
     "solution": true,
     "task": false
    }
   },
   "outputs": [
    {
     "name": "stderr",
     "output_type": "stream",
     "text": [
      "`summarise()` ungrouping output (override with `.groups` argument)\n",
      "\n"
     ]
    },
    {
     "data": {
      "text/html": [
       "<table>\n",
       "<caption>A tibble: 1 × 4</caption>\n",
       "<thead>\n",
       "\t<tr><th scope=col>replicate</th><th scope=col>mean_5</th><th scope=col>med_5</th><th scope=col>sd_5</th></tr>\n",
       "\t<tr><th scope=col>&lt;int&gt;</th><th scope=col>&lt;dbl&gt;</th><th scope=col>&lt;dbl&gt;</th><th scope=col>&lt;dbl&gt;</th></tr>\n",
       "</thead>\n",
       "<tbody>\n",
       "\t<tr><td>1</td><td>69.76367</td><td>73.5182</td><td>16.88339</td></tr>\n",
       "</tbody>\n",
       "</table>\n"
      ],
      "text/latex": [
       "A tibble: 1 × 4\n",
       "\\begin{tabular}{llll}\n",
       " replicate & mean\\_5 & med\\_5 & sd\\_5\\\\\n",
       " <int> & <dbl> & <dbl> & <dbl>\\\\\n",
       "\\hline\n",
       "\t 1 & 69.76367 & 73.5182 & 16.88339\\\\\n",
       "\\end{tabular}\n"
      ],
      "text/markdown": [
       "\n",
       "A tibble: 1 × 4\n",
       "\n",
       "| replicate &lt;int&gt; | mean_5 &lt;dbl&gt; | med_5 &lt;dbl&gt; | sd_5 &lt;dbl&gt; |\n",
       "|---|---|---|---|\n",
       "| 1 | 69.76367 | 73.5182 | 16.88339 |\n",
       "\n"
      ],
      "text/plain": [
       "  replicate mean_5   med_5   sd_5    \n",
       "1 1         69.76367 73.5182 16.88339"
      ]
     },
     "metadata": {},
     "output_type": "display_data"
    }
   ],
   "source": [
    "set.seed(4321) # DO NOT CHANGE!\n",
    "\n",
    "sample_5 <- rep_sample_n(students_pop, size = 5)\n",
    "\n",
    "ests_5 <- sample_5 %>%\n",
    "    summarize(\n",
    "        mean_5 = mean(grade),\n",
    "        med_5 = median(grade),\n",
    "        sd_5 = sd(grade))\n",
    "ests_5"
   ]
  },
  {
   "cell_type": "code",
   "execution_count": 9,
   "metadata": {
    "deletable": false,
    "editable": false,
    "nbgrader": {
     "cell_type": "code",
     "checksum": "460d9f0fdfcecf6efd82d42af5e84d02",
     "grade": true,
     "grade_id": "cell-871bd1fb3f719754",
     "locked": true,
     "points": 1,
     "schema_version": 3,
     "solution": false,
     "task": false
    }
   },
   "outputs": [
    {
     "name": "stdout",
     "output_type": "stream",
     "text": [
      "[1] \"Success!\"\n"
     ]
    }
   ],
   "source": [
    "test_1.2.1()"
   ]
  },
  {
   "cell_type": "markdown",
   "metadata": {
    "deletable": false,
    "editable": false,
    "nbgrader": {
     "cell_type": "markdown",
     "checksum": "54757ff0661b65ed239cf383fe32f40f",
     "grade": false,
     "grade_id": "cell-ee5bab98b87f8434",
     "locked": true,
     "schema_version": 3,
     "solution": false,
     "task": false
    }
   },
   "source": [
    "**Question 1.2.2** Multiple Choice:\n",
    "<br> {points: 1}\n",
    "\n",
    "Which of the following is the point estimate for the average final grade for the population of data science students (rounded to two decimal places)? \n",
    "\n",
    "A. 70.03 \n",
    "\n",
    "B. 69.76\n",
    "\n",
    "C. 73.52\n",
    "\n",
    "D. 8.05 \n",
    "\n",
    "*Assign your answer to an object called `answer1.2.2`. Your answer should be a single character surrounded by quotes.*"
   ]
  },
  {
   "cell_type": "code",
   "execution_count": 10,
   "metadata": {
    "deletable": false,
    "nbgrader": {
     "cell_type": "code",
     "checksum": "9328798a4fa7f805ffd74f3c9adf56f4",
     "grade": false,
     "grade_id": "cell-a57f213f6b072dd1",
     "locked": false,
     "schema_version": 3,
     "solution": true,
     "task": false
    }
   },
   "outputs": [],
   "source": [
    "answer1.2.2 <- \"B\""
   ]
  },
  {
   "cell_type": "code",
   "execution_count": 12,
   "metadata": {
    "deletable": false,
    "editable": false,
    "nbgrader": {
     "cell_type": "code",
     "checksum": "a97d4e2c49f97f8178abbf6e3897fedd",
     "grade": true,
     "grade_id": "cell-94de426019ef00ca",
     "locked": true,
     "points": 1,
     "schema_version": 3,
     "solution": false,
     "task": false
    }
   },
   "outputs": [
    {
     "name": "stdout",
     "output_type": "stream",
     "text": [
      "[1] \"Success!\"\n"
     ]
    }
   ],
   "source": [
    "test_1.2.2()"
   ]
  },
  {
   "cell_type": "markdown",
   "metadata": {
    "deletable": false,
    "editable": false,
    "nbgrader": {
     "cell_type": "markdown",
     "checksum": "c6fad133b7df5ce26e0717d239b62614",
     "grade": false,
     "grade_id": "cell-7066481427f5ff30",
     "locked": true,
     "schema_version": 3,
     "solution": false,
     "task": false
    }
   },
   "source": [
    "**Question 1.2.3** \n",
    "<br> {points: 1}\n",
    "\n",
    "Draw one random sample of 100 students from our population of students (`students_pop`). Use `summarize` to calculate the mean, median and standard deviation for these 100 students.\n",
    "\n",
    "Name this data frame `ests_100` which has the column names `mean_100`, `med_100` and `sd_100`. Use the seed `4321`. "
   ]
  },
  {
   "cell_type": "code",
   "execution_count": 15,
   "metadata": {
    "deletable": false,
    "nbgrader": {
     "cell_type": "code",
     "checksum": "abb67f8223d95da5593f12908a2099e2",
     "grade": false,
     "grade_id": "cell-4ed6133da299d1f2",
     "locked": false,
     "schema_version": 3,
     "solution": true,
     "task": false
    }
   },
   "outputs": [
    {
     "name": "stderr",
     "output_type": "stream",
     "text": [
      "`summarise()` ungrouping output (override with `.groups` argument)\n",
      "\n"
     ]
    },
    {
     "data": {
      "text/html": [
       "<table>\n",
       "<caption>A tibble: 1 × 4</caption>\n",
       "<thead>\n",
       "\t<tr><th scope=col>replicate</th><th scope=col>mean_100</th><th scope=col>med_100</th><th scope=col>sd_100</th></tr>\n",
       "\t<tr><th scope=col>&lt;int&gt;</th><th scope=col>&lt;dbl&gt;</th><th scope=col>&lt;dbl&gt;</th><th scope=col>&lt;dbl&gt;</th></tr>\n",
       "</thead>\n",
       "<tbody>\n",
       "\t<tr><td>1</td><td>71.57394</td><td>73.53689</td><td>7.998619</td></tr>\n",
       "</tbody>\n",
       "</table>\n"
      ],
      "text/latex": [
       "A tibble: 1 × 4\n",
       "\\begin{tabular}{llll}\n",
       " replicate & mean\\_100 & med\\_100 & sd\\_100\\\\\n",
       " <int> & <dbl> & <dbl> & <dbl>\\\\\n",
       "\\hline\n",
       "\t 1 & 71.57394 & 73.53689 & 7.998619\\\\\n",
       "\\end{tabular}\n"
      ],
      "text/markdown": [
       "\n",
       "A tibble: 1 × 4\n",
       "\n",
       "| replicate &lt;int&gt; | mean_100 &lt;dbl&gt; | med_100 &lt;dbl&gt; | sd_100 &lt;dbl&gt; |\n",
       "|---|---|---|---|\n",
       "| 1 | 71.57394 | 73.53689 | 7.998619 |\n",
       "\n"
      ],
      "text/plain": [
       "  replicate mean_100 med_100  sd_100  \n",
       "1 1         71.57394 73.53689 7.998619"
      ]
     },
     "metadata": {},
     "output_type": "display_data"
    }
   ],
   "source": [
    "set.seed(4321) # DO NOT CHANGE!\n",
    "\n",
    "sample_100 <- rep_sample_n(students_pop, size = 100)\n",
    "\n",
    "ests_100 <- sample_100 %>%\n",
    "    summarize(\n",
    "    mean_100 = mean(grade),\n",
    "    med_100 = median(grade),\n",
    "    sd_100 = sd(grade))\n",
    "ests_100"
   ]
  },
  {
   "cell_type": "code",
   "execution_count": 16,
   "metadata": {
    "deletable": false,
    "editable": false,
    "nbgrader": {
     "cell_type": "code",
     "checksum": "a609c121986a80ba0d6b236121ba114c",
     "grade": true,
     "grade_id": "cell-4d5dffec10876bab",
     "locked": true,
     "points": 1,
     "schema_version": 3,
     "solution": false,
     "task": false
    }
   },
   "outputs": [
    {
     "name": "stdout",
     "output_type": "stream",
     "text": [
      "[1] \"Success!\"\n"
     ]
    }
   ],
   "source": [
    "test_1.2.3()"
   ]
  },
  {
   "cell_type": "markdown",
   "metadata": {
    "deletable": false,
    "editable": false,
    "nbgrader": {
     "cell_type": "markdown",
     "checksum": "461b282ea0f106214e0c331a7ebdfadf",
     "grade": false,
     "grade_id": "cell-23f4de8073700591",
     "locked": true,
     "schema_version": 3,
     "solution": false,
     "task": false
    }
   },
   "source": [
    "### Exploring the sampling distribution of the sample mean for different populations\n",
    "We will create the sampling distribution of the sample mean by taking 1500 random samples of size 5 from this population and visualize the distribution of the sample means. \n"
   ]
  },
  {
   "cell_type": "markdown",
   "metadata": {
    "deletable": false,
    "editable": false,
    "nbgrader": {
     "cell_type": "markdown",
     "checksum": "8208bdaada5c4c681a1d48840940dda8",
     "grade": false,
     "grade_id": "cell-d1e256c58e03abb7",
     "locked": true,
     "schema_version": 3,
     "solution": false,
     "task": false
    }
   },
   "source": [
    "**Question 1.3** \n",
    "<br> {points: 1}\n",
    "\n",
    "Draw 1500 random samples from our population of students (`students_pop`). Each sample should have 5 observations. Name the data frame `samples` and use the seed `4321`."
   ]
  },
  {
   "cell_type": "code",
   "execution_count": 19,
   "metadata": {
    "deletable": false,
    "nbgrader": {
     "cell_type": "code",
     "checksum": "f5dbe86c3c290a653d1d000d2a198bb0",
     "grade": false,
     "grade_id": "cell-695ac307a193414a",
     "locked": false,
     "schema_version": 3,
     "solution": true,
     "task": false
    }
   },
   "outputs": [
    {
     "data": {
      "text/html": [
       "<table>\n",
       "<caption>A grouped_df: 6 × 2</caption>\n",
       "<thead>\n",
       "\t<tr><th scope=col>replicate</th><th scope=col>grade</th></tr>\n",
       "\t<tr><th scope=col>&lt;int&gt;</th><th scope=col>&lt;dbl&gt;</th></tr>\n",
       "</thead>\n",
       "<tbody>\n",
       "\t<tr><td>1</td><td>59.23913</td></tr>\n",
       "\t<tr><td>1</td><td>76.06602</td></tr>\n",
       "\t<tr><td>1</td><td>73.51820</td></tr>\n",
       "\t<tr><td>1</td><td>92.08262</td></tr>\n",
       "\t<tr><td>1</td><td>47.91240</td></tr>\n",
       "\t<tr><td>2</td><td>85.42029</td></tr>\n",
       "</tbody>\n",
       "</table>\n"
      ],
      "text/latex": [
       "A grouped\\_df: 6 × 2\n",
       "\\begin{tabular}{ll}\n",
       " replicate & grade\\\\\n",
       " <int> & <dbl>\\\\\n",
       "\\hline\n",
       "\t 1 & 59.23913\\\\\n",
       "\t 1 & 76.06602\\\\\n",
       "\t 1 & 73.51820\\\\\n",
       "\t 1 & 92.08262\\\\\n",
       "\t 1 & 47.91240\\\\\n",
       "\t 2 & 85.42029\\\\\n",
       "\\end{tabular}\n"
      ],
      "text/markdown": [
       "\n",
       "A grouped_df: 6 × 2\n",
       "\n",
       "| replicate &lt;int&gt; | grade &lt;dbl&gt; |\n",
       "|---|---|\n",
       "| 1 | 59.23913 |\n",
       "| 1 | 76.06602 |\n",
       "| 1 | 73.51820 |\n",
       "| 1 | 92.08262 |\n",
       "| 1 | 47.91240 |\n",
       "| 2 | 85.42029 |\n",
       "\n"
      ],
      "text/plain": [
       "  replicate grade   \n",
       "1 1         59.23913\n",
       "2 1         76.06602\n",
       "3 1         73.51820\n",
       "4 1         92.08262\n",
       "5 1         47.91240\n",
       "6 2         85.42029"
      ]
     },
     "metadata": {},
     "output_type": "display_data"
    },
    {
     "data": {
      "text/html": [
       "<table>\n",
       "<caption>A grouped_df: 6 × 2</caption>\n",
       "<thead>\n",
       "\t<tr><th scope=col>replicate</th><th scope=col>grade</th></tr>\n",
       "\t<tr><th scope=col>&lt;int&gt;</th><th scope=col>&lt;dbl&gt;</th></tr>\n",
       "</thead>\n",
       "<tbody>\n",
       "\t<tr><td>1499</td><td>67.25662</td></tr>\n",
       "\t<tr><td>1500</td><td>71.57016</td></tr>\n",
       "\t<tr><td>1500</td><td>62.44389</td></tr>\n",
       "\t<tr><td>1500</td><td>76.56512</td></tr>\n",
       "\t<tr><td>1500</td><td>71.66241</td></tr>\n",
       "\t<tr><td>1500</td><td>76.21743</td></tr>\n",
       "</tbody>\n",
       "</table>\n"
      ],
      "text/latex": [
       "A grouped\\_df: 6 × 2\n",
       "\\begin{tabular}{ll}\n",
       " replicate & grade\\\\\n",
       " <int> & <dbl>\\\\\n",
       "\\hline\n",
       "\t 1499 & 67.25662\\\\\n",
       "\t 1500 & 71.57016\\\\\n",
       "\t 1500 & 62.44389\\\\\n",
       "\t 1500 & 76.56512\\\\\n",
       "\t 1500 & 71.66241\\\\\n",
       "\t 1500 & 76.21743\\\\\n",
       "\\end{tabular}\n"
      ],
      "text/markdown": [
       "\n",
       "A grouped_df: 6 × 2\n",
       "\n",
       "| replicate &lt;int&gt; | grade &lt;dbl&gt; |\n",
       "|---|---|\n",
       "| 1499 | 67.25662 |\n",
       "| 1500 | 71.57016 |\n",
       "| 1500 | 62.44389 |\n",
       "| 1500 | 76.56512 |\n",
       "| 1500 | 71.66241 |\n",
       "| 1500 | 76.21743 |\n",
       "\n"
      ],
      "text/plain": [
       "  replicate grade   \n",
       "1 1499      67.25662\n",
       "2 1500      71.57016\n",
       "3 1500      62.44389\n",
       "4 1500      76.56512\n",
       "5 1500      71.66241\n",
       "6 1500      76.21743"
      ]
     },
     "metadata": {},
     "output_type": "display_data"
    },
    {
     "data": {
      "text/html": [
       "<style>\n",
       ".list-inline {list-style: none; margin:0; padding: 0}\n",
       ".list-inline>li {display: inline-block}\n",
       ".list-inline>li:not(:last-child)::after {content: \"\\00b7\"; padding: 0 .5ex}\n",
       "</style>\n",
       "<ol class=list-inline><li>7500</li><li>2</li></ol>\n"
      ],
      "text/latex": [
       "\\begin{enumerate*}\n",
       "\\item 7500\n",
       "\\item 2\n",
       "\\end{enumerate*}\n"
      ],
      "text/markdown": [
       "1. 7500\n",
       "2. 2\n",
       "\n",
       "\n"
      ],
      "text/plain": [
       "[1] 7500    2"
      ]
     },
     "metadata": {},
     "output_type": "display_data"
    }
   ],
   "source": [
    "# ... <- rep_sample_n(..., size = ..., reps = ...)\n",
    "set.seed(4321) # DO NOT CHANGE!\n",
    "\n",
    "samples <- rep_sample_n(students_pop, size = 5, reps = 1500)\n",
    "\n",
    "head(samples)\n",
    "tail(samples)\n",
    "dim(samples)"
   ]
  },
  {
   "cell_type": "code",
   "execution_count": 20,
   "metadata": {
    "deletable": false,
    "editable": false,
    "nbgrader": {
     "cell_type": "code",
     "checksum": "fd0cf6d42e2c292e5c47d4f5792d036a",
     "grade": true,
     "grade_id": "cell-c58c6bf8b51e07c5",
     "locked": true,
     "points": 1,
     "schema_version": 3,
     "solution": false,
     "task": false
    }
   },
   "outputs": [
    {
     "name": "stdout",
     "output_type": "stream",
     "text": [
      "[1] \"Success!\"\n"
     ]
    }
   ],
   "source": [
    "test_1.3()"
   ]
  },
  {
   "cell_type": "markdown",
   "metadata": {
    "deletable": false,
    "editable": false,
    "nbgrader": {
     "cell_type": "markdown",
     "checksum": "1849432eeefa977f632c2a02f714e7f3",
     "grade": false,
     "grade_id": "cell-54d3669aec34e1c1",
     "locked": true,
     "schema_version": 3,
     "solution": false,
     "task": false
    }
   },
   "source": [
    "**Question 1.4** \n",
    "<br> {points: 1}\n",
    "\n",
    "Group by the sample replicate number, and then for each sample, calculate the mean. Name the data frame `sample_estimates`. The data frame should have the column names `replicate` and `sample_mean`."
   ]
  },
  {
   "cell_type": "code",
   "execution_count": 21,
   "metadata": {
    "deletable": false,
    "nbgrader": {
     "cell_type": "code",
     "checksum": "b23a4184d470fc3e91944e140d7decff",
     "grade": false,
     "grade_id": "cell-db790cf4f047972a",
     "locked": false,
     "schema_version": 3,
     "solution": true,
     "task": false
    }
   },
   "outputs": [
    {
     "name": "stderr",
     "output_type": "stream",
     "text": [
      "`summarise()` ungrouping output (override with `.groups` argument)\n",
      "\n"
     ]
    },
    {
     "data": {
      "text/html": [
       "<table>\n",
       "<caption>A tibble: 6 × 2</caption>\n",
       "<thead>\n",
       "\t<tr><th scope=col>replicate</th><th scope=col>sample_mean</th></tr>\n",
       "\t<tr><th scope=col>&lt;int&gt;</th><th scope=col>&lt;dbl&gt;</th></tr>\n",
       "</thead>\n",
       "<tbody>\n",
       "\t<tr><td>1</td><td>69.76367</td></tr>\n",
       "\t<tr><td>2</td><td>75.22476</td></tr>\n",
       "\t<tr><td>3</td><td>69.90881</td></tr>\n",
       "\t<tr><td>4</td><td>66.11345</td></tr>\n",
       "\t<tr><td>5</td><td>75.26159</td></tr>\n",
       "\t<tr><td>6</td><td>63.41461</td></tr>\n",
       "</tbody>\n",
       "</table>\n"
      ],
      "text/latex": [
       "A tibble: 6 × 2\n",
       "\\begin{tabular}{ll}\n",
       " replicate & sample\\_mean\\\\\n",
       " <int> & <dbl>\\\\\n",
       "\\hline\n",
       "\t 1 & 69.76367\\\\\n",
       "\t 2 & 75.22476\\\\\n",
       "\t 3 & 69.90881\\\\\n",
       "\t 4 & 66.11345\\\\\n",
       "\t 5 & 75.26159\\\\\n",
       "\t 6 & 63.41461\\\\\n",
       "\\end{tabular}\n"
      ],
      "text/markdown": [
       "\n",
       "A tibble: 6 × 2\n",
       "\n",
       "| replicate &lt;int&gt; | sample_mean &lt;dbl&gt; |\n",
       "|---|---|\n",
       "| 1 | 69.76367 |\n",
       "| 2 | 75.22476 |\n",
       "| 3 | 69.90881 |\n",
       "| 4 | 66.11345 |\n",
       "| 5 | 75.26159 |\n",
       "| 6 | 63.41461 |\n",
       "\n"
      ],
      "text/plain": [
       "  replicate sample_mean\n",
       "1 1         69.76367   \n",
       "2 2         75.22476   \n",
       "3 3         69.90881   \n",
       "4 4         66.11345   \n",
       "5 5         75.26159   \n",
       "6 6         63.41461   "
      ]
     },
     "metadata": {},
     "output_type": "display_data"
    },
    {
     "data": {
      "text/html": [
       "<table>\n",
       "<caption>A tibble: 6 × 2</caption>\n",
       "<thead>\n",
       "\t<tr><th scope=col>replicate</th><th scope=col>sample_mean</th></tr>\n",
       "\t<tr><th scope=col>&lt;int&gt;</th><th scope=col>&lt;dbl&gt;</th></tr>\n",
       "</thead>\n",
       "<tbody>\n",
       "\t<tr><td>1495</td><td>65.80124</td></tr>\n",
       "\t<tr><td>1496</td><td>66.44409</td></tr>\n",
       "\t<tr><td>1497</td><td>67.86570</td></tr>\n",
       "\t<tr><td>1498</td><td>69.39292</td></tr>\n",
       "\t<tr><td>1499</td><td>70.64449</td></tr>\n",
       "\t<tr><td>1500</td><td>71.69180</td></tr>\n",
       "</tbody>\n",
       "</table>\n"
      ],
      "text/latex": [
       "A tibble: 6 × 2\n",
       "\\begin{tabular}{ll}\n",
       " replicate & sample\\_mean\\\\\n",
       " <int> & <dbl>\\\\\n",
       "\\hline\n",
       "\t 1495 & 65.80124\\\\\n",
       "\t 1496 & 66.44409\\\\\n",
       "\t 1497 & 67.86570\\\\\n",
       "\t 1498 & 69.39292\\\\\n",
       "\t 1499 & 70.64449\\\\\n",
       "\t 1500 & 71.69180\\\\\n",
       "\\end{tabular}\n"
      ],
      "text/markdown": [
       "\n",
       "A tibble: 6 × 2\n",
       "\n",
       "| replicate &lt;int&gt; | sample_mean &lt;dbl&gt; |\n",
       "|---|---|\n",
       "| 1495 | 65.80124 |\n",
       "| 1496 | 66.44409 |\n",
       "| 1497 | 67.86570 |\n",
       "| 1498 | 69.39292 |\n",
       "| 1499 | 70.64449 |\n",
       "| 1500 | 71.69180 |\n",
       "\n"
      ],
      "text/plain": [
       "  replicate sample_mean\n",
       "1 1495      65.80124   \n",
       "2 1496      66.44409   \n",
       "3 1497      67.86570   \n",
       "4 1498      69.39292   \n",
       "5 1499      70.64449   \n",
       "6 1500      71.69180   "
      ]
     },
     "metadata": {},
     "output_type": "display_data"
    }
   ],
   "source": [
    "sample_estimates <- samples %>%\n",
    "    group_by(replicate) %>%\n",
    "    summarize(sample_mean = mean(grade))\n",
    "\n",
    "head(sample_estimates)\n",
    "tail(sample_estimates)"
   ]
  },
  {
   "cell_type": "code",
   "execution_count": 22,
   "metadata": {
    "deletable": false,
    "editable": false,
    "nbgrader": {
     "cell_type": "code",
     "checksum": "20fa4e9690d15ce2f868760bc10fcf6d",
     "grade": true,
     "grade_id": "cell-009a8fb2b91b528c",
     "locked": true,
     "points": 1,
     "schema_version": 3,
     "solution": false,
     "task": false
    }
   },
   "outputs": [
    {
     "name": "stdout",
     "output_type": "stream",
     "text": [
      "[1] \"Success!\"\n"
     ]
    }
   ],
   "source": [
    "test_1.4()"
   ]
  },
  {
   "cell_type": "markdown",
   "metadata": {
    "deletable": false,
    "editable": false,
    "nbgrader": {
     "cell_type": "markdown",
     "checksum": "9fcebbf90197043ea8e5af36ba7c697a",
     "grade": false,
     "grade_id": "cell-b37ce66b7bf8e8bf",
     "locked": true,
     "schema_version": 3,
     "solution": false,
     "task": false
    }
   },
   "source": [
    "**Question 1.5** \n",
    "<br> {points: 1}\n",
    "\n",
    "Visualize the distribution of the sample estimates (`sample_estimates`) you just calculated by plotting a histogram using `binwidth = 1` in the `geom_histogram` argument. Name the plot `sampling_distribution` and give the plot (using `ggtitle`) and the x axis a descriptive label."
   ]
  },
  {
   "cell_type": "code",
   "execution_count": 23,
   "metadata": {
    "deletable": false,
    "nbgrader": {
     "cell_type": "code",
     "checksum": "908e3bc1bbea1a3aeb68a24acf1e86b5",
     "grade": false,
     "grade_id": "cell-cc60d0afb72d45c2",
     "locked": false,
     "schema_version": 3,
     "solution": true,
     "task": false
    }
   },
   "outputs": [
    {
     "data": {
      "image/png": "[encoded data removed]",
      "text/plain": [
       "plot without title"
      ]
     },
     "metadata": {
      "image/png": {
       "height": 360,
       "width": 480
      }
     },
     "output_type": "display_data"
    }
   ],
   "source": [
    "options(repr.plot.width = 8, repr.plot.height = 6)\n",
    "\n",
    "sampling_distribution_5 <- ggplot(sample_estimates, aes(x = sample_mean)) +\n",
    "    geom_histogram(binwidth = 1) +\n",
    "    labs(x = \"Sample means\", y = \"Count\") +\n",
    "    ggtitle(\"n = 5 Sampling Distribution\") +\n",
    "    theme(text = element_text(size = 20))\n",
    "\n",
    "sampling_distribution_5"
   ]
  },
  {
   "cell_type": "code",
   "execution_count": 24,
   "metadata": {
    "deletable": false,
    "editable": false,
    "nbgrader": {
     "cell_type": "code",
     "checksum": "963034023aa77eef32f6620303a70792",
     "grade": true,
     "grade_id": "cell-63a57e1040dc4a79",
     "locked": true,
     "points": 1,
     "schema_version": 3,
     "solution": false,
     "task": false
    }
   },
   "outputs": [
    {
     "name": "stdout",
     "output_type": "stream",
     "text": [
      "[1] \"Success!\"\n"
     ]
    }
   ],
   "source": [
    "test_1.5()"
   ]
  },
  {
   "cell_type": "markdown",
   "metadata": {
    "deletable": false,
    "editable": false,
    "nbgrader": {
     "cell_type": "markdown",
     "checksum": "9af2ce7ca4306f5ed33b391494b5525d",
     "grade": false,
     "grade_id": "cell-cd211c77f0a630b0",
     "locked": true,
     "schema_version": 3,
     "solution": false,
     "task": false
    }
   },
   "source": [
    "**Question 1.6** \n",
    "<br> {points: 3}\n",
    "\n",
    "Describe in words the distribution above, comment on the shape, center and how spread out the distribution is. Compare this sampling distribution to the population distribution of students' grades above. "
   ]
  },
  {
   "cell_type": "markdown",
   "metadata": {
    "deletable": false,
    "nbgrader": {
     "cell_type": "markdown",
     "checksum": "f196d197651ac0de8c30d43641bf5848",
     "grade": true,
     "grade_id": "cell-aee3630dbf16cba9",
     "locked": false,
     "points": 3,
     "schema_version": 3,
     "solution": true,
     "task": false
    }
   },
   "source": [
    "The distribution is bell-shaped, with one large peak in the middle centered at the population mean. The sample means range from 60 to 80%, but most samples had a mean between about 65 to 75%. The shape of the sampling distribution is the same (bell-shaped, one peak, symmetric), but the spread is smaller than that of the population distribution."
   ]
  },
  {
   "cell_type": "markdown",
   "metadata": {
    "deletable": false,
    "editable": false,
    "nbgrader": {
     "cell_type": "markdown",
     "checksum": "a535c132c0caa22188d387592d5619bf",
     "grade": false,
     "grade_id": "cell-dc6298e11b0a6268",
     "locked": true,
     "schema_version": 3,
     "solution": false,
     "task": false
    }
   },
   "source": [
    "**Question 1.6.1** \n",
    "<br> {points: 3}\n",
    "\n",
    "Repeat **Q1.3 - 1.5**, but now for 100 observations:  \n",
    "1. Draw 1500 random samples from our population of students (`students_pop`). Each sample should have 100 observations. Use the seed `4321`.\n",
    "2. Group by the sample replicate number, and then for each sample, calculate the mean (call this column `sample_mean_100`).\n",
    "3. Visualize the distribution of the sample estimates you calculated by plotting a histogram using `binwidth = 0.5` in the `geom_histogram` argument. Name the plot `sampling_distribution_100` and give the plot title (using `ggtitle`) and the x axis a descriptive label."
   ]
  },
  {
   "cell_type": "code",
   "execution_count": 27,
   "metadata": {
    "deletable": false,
    "nbgrader": {
     "cell_type": "code",
     "checksum": "4fc7c334093a04e9aa7a5d00086c884a",
     "grade": false,
     "grade_id": "cell-51f9ab3174f7c63f",
     "locked": false,
     "schema_version": 3,
     "solution": true,
     "task": false
    }
   },
   "outputs": [
    {
     "name": "stderr",
     "output_type": "stream",
     "text": [
      "`summarise()` ungrouping output (override with `.groups` argument)\n",
      "\n",
      "Warning message:\n",
      "“Ignoring unknown parameters: bindwidth”\n",
      "`stat_bin()` using `bins = 30`. Pick better value with `binwidth`.\n",
      "\n"
     ]
    },
    {
     "data": {
      "image/png": "[encoded data removed]",
      "text/plain": [
       "plot without title"
      ]
     },
     "metadata": {
      "image/png": {
       "height": 360,
       "width": 480
      }
     },
     "output_type": "display_data"
    }
   ],
   "source": [
    "set.seed(4321) # DO NOT CHANGE!\n",
    "\n",
    "sample_100 <- rep_sample_n(students_pop, size = 100, reps = 1500)\n",
    "\n",
    "ests_100 <- sample_100 %>%\n",
    "    group_by(replicate) %>%\n",
    "    summarize(sample_mean_100 = mean(grade))\n",
    "\n",
    "sampling_distribution_100 <- ggplot(ests_100, aes(sample_mean_100)) +\n",
    "    geom_histogram(bindwidth = 0.5) +\n",
    "    labs(x = \"Mean grade\", y = \"Count\") +\n",
    "    ggtitle(\"n = 100 sampling distribution\") +\n",
    "    theme(text = element_text(size = 20))\n",
    "sampling_distribution_100"
   ]
  },
  {
   "cell_type": "code",
   "execution_count": 26,
   "metadata": {
    "deletable": false,
    "editable": false,
    "nbgrader": {
     "cell_type": "code",
     "checksum": "7d7037ef9aa1a8db35da6ecd561f0ee4",
     "grade": true,
     "grade_id": "cell-63af063e7e2dd7f4",
     "locked": true,
     "points": 3,
     "schema_version": 3,
     "solution": false,
     "task": false
    }
   },
   "outputs": [],
   "source": [
    "set.seed(4321) # DO NOT CHANGE!\n",
    "\n",
    "# We check that you've created objects with the right names below\n",
    "# But all other tests were intentionally hidden so that you can practice deciding \n",
    "# when you have the correct answer.\n",
    "test_that('Did not create objects named sampling_distribution_100', {\n",
    "    expect_true(exists(\"sampling_distribution_100\")) \n",
    "    })\n"
   ]
  },
  {
   "cell_type": "markdown",
   "metadata": {
    "deletable": false,
    "editable": false,
    "nbgrader": {
     "cell_type": "markdown",
     "checksum": "c8657dc9ce08518e531ae81c5a2b7d36",
     "grade": false,
     "grade_id": "cell-085f47a30dbfd414",
     "locked": true,
     "schema_version": 3,
     "solution": false,
     "task": false
    }
   },
   "source": [
    "**Question 1.6.2** \n",
    "<br> {points: 3}\n",
    "\n",
    "*Suppose we do not know the parameter value for the population of data science students (as is usually the case in real life).* Compare your point estimates for the population mean from **Q1.2.1 and 1.2.3** above. Which of the two point estimates is more likely to be closer to the actual value of the average final grade of the population of data science students? Briefly explain. (Hint: look at the sampling distributions for your samples of size 5 and size 100 to help you answer this question)."
   ]
  },
  {
   "cell_type": "markdown",
   "metadata": {
    "deletable": false,
    "nbgrader": {
     "cell_type": "markdown",
     "checksum": "d335a876c948417013e30f81e2746574",
     "grade": true,
     "grade_id": "cell-9871ae5a772065dd",
     "locked": false,
     "points": 3,
     "schema_version": 3,
     "solution": true,
     "task": false
    }
   },
   "source": [
    "DOUBLE CLICK TO EDIT **THIS CELL** AND REPLACE THIS TEXT WITH YOUR ANSWER."
   ]
  },
  {
   "cell_type": "markdown",
   "metadata": {
    "deletable": false,
    "editable": false,
    "nbgrader": {
     "cell_type": "markdown",
     "checksum": "540121e80285deee10dba6a695369530",
     "grade": false,
     "grade_id": "cell-c92333c25bef6721",
     "locked": true,
     "schema_version": 3,
     "solution": false,
     "task": false
    }
   },
   "source": [
    "**Question 1.7**\n",
    "<br> {points: 1}\n",
    "\n",
    "Let's create a simulated dataset of the number of cups of coffee drunk per week for our population of students. \n",
    "Describe in words the distribution, comment on the shape, center and how spread out the distribution is. "
   ]
  },
  {
   "cell_type": "code",
   "execution_count": 28,
   "metadata": {
    "deletable": false,
    "editable": false,
    "nbgrader": {
     "cell_type": "code",
     "checksum": "9da3d16dfa4fa4191dcadd384fddffcf",
     "grade": false,
     "grade_id": "cell-f2a1b2216a4cb5a8",
     "locked": true,
     "schema_version": 3,
     "solution": false,
     "task": false
    }
   },
   "outputs": [
    {
     "data": {
      "image/png": "[encoded data removed]",
      "text/plain": [
       "plot without title"
      ]
     },
     "metadata": {
      "image/png": {
       "height": 360,
       "width": 480
      }
     },
     "output_type": "display_data"
    }
   ],
   "source": [
    "# run this cell to simulate a finite population\n",
    "set.seed(2020) # DO NOT REMOVE\n",
    "coffee_data = tibble(cups = rexp(n = 2000, rate = 0.34))\n",
    "\n",
    "coffee_dist <- ggplot(coffee_data, aes(cups)) + \n",
    "    geom_histogram(binwidth = 0.5) +\n",
    "    xlab(\"Cups of coffee per week\") +\n",
    "    ggtitle(\"Population distribution\") +\n",
    "    theme(text = element_text(size = 20))\n",
    "coffee_dist"
   ]
  },
  {
   "cell_type": "markdown",
   "metadata": {
    "deletable": false,
    "nbgrader": {
     "cell_type": "markdown",
     "checksum": "8ccdb12338b0874dfe4ae80ed6ed6d27",
     "grade": true,
     "grade_id": "cell-e8e632e233dbdc51",
     "locked": false,
     "points": 3,
     "schema_version": 3,
     "solution": true,
     "task": false
    }
   },
   "source": [
    "DOUBLE CLICK TO EDIT **THIS CELL** AND REPLACE THIS TEXT WITH YOUR ANSWER."
   ]
  },
  {
   "cell_type": "markdown",
   "metadata": {
    "deletable": false,
    "editable": false,
    "nbgrader": {
     "cell_type": "markdown",
     "checksum": "cf83f87d5088fc809448f7b6ad0f3200",
     "grade": false,
     "grade_id": "cell-ce6a9b879bddca2b",
     "locked": true,
     "schema_version": 3,
     "solution": false,
     "task": false
    }
   },
   "source": [
    "**Question 1.8**\n",
    "<br> {points: 1}\n",
    "\n",
    "Draw 1500 random samples from `coffee_data`. Each sample should have 5 observations. Assign this data frame to an object called `coffee_samples_5`.\n",
    "\n",
    "Group by the sample replicate number, and then for each sample, calculate the mean. Name the data frame `coffee_sample_estimates_5`. The data frame should have the column names `replicate` and `coffee_sample_mean_5`.\n",
    "\n",
    "Finally, create a plot of the sampling distribution called `coffee_sampling_distribution_5`.\n",
    "\n",
    "> Hint: a bindwidth of 1 is a little too big for this data, try a bindwidth of 0.5 instead."
   ]
  },
  {
   "cell_type": "code",
   "execution_count": 29,
   "metadata": {
    "deletable": false,
    "nbgrader": {
     "cell_type": "code",
     "checksum": "325173252e608a9bbf168ed8917cd179",
     "grade": false,
     "grade_id": "cell-8812dd635aaf7132",
     "locked": false,
     "schema_version": 3,
     "solution": true,
     "task": false
    }
   },
   "outputs": [
    {
     "name": "stderr",
     "output_type": "stream",
     "text": [
      "`summarise()` ungrouping output (override with `.groups` argument)\n",
      "\n"
     ]
    },
    {
     "data": {
      "image/png": "[encoded data removed]",
      "text/plain": [
       "plot without title"
      ]
     },
     "metadata": {
      "image/png": {
       "height": 360,
       "width": 480
      }
     },
     "output_type": "display_data"
    }
   ],
   "source": [
    "set.seed(4321) # DO NOT CHANGE!\n",
    "\n",
    "coffee_samples_5 <- rep_sample_n(coffee_data, size = 5, reps = 1500) \n",
    "\n",
    "coffee_sample_estimates_5 <- coffee_samples_5 %>%\n",
    "    group_by(replicate) %>%\n",
    "    summarize(coffee_sample_mean_5 = mean(cups))\n",
    "\n",
    "coffee_sampling_distribution_5 <- ggplot(coffee_sample_estimates_5, aes(x = coffee_sample_mean_5)) +\n",
    "    geom_histogram(binwidth = 0.5) +\n",
    "    labs(x = \"Cups\", y = \"Count\") +\n",
    "    ggtitle(\"n = 5\") +\n",
    "    theme(text = element_text(size = 20))\n",
    "coffee_sampling_distribution_5"
   ]
  },
  {
   "cell_type": "code",
   "execution_count": 30,
   "metadata": {
    "deletable": false,
    "editable": false,
    "nbgrader": {
     "cell_type": "code",
     "checksum": "eaf8628e3e66802749ef329e935fe5cb",
     "grade": true,
     "grade_id": "cell-903e63e152454325",
     "locked": true,
     "points": 1,
     "schema_version": 3,
     "solution": false,
     "task": false
    }
   },
   "outputs": [
    {
     "name": "stdout",
     "output_type": "stream",
     "text": [
      "[1] \"Success!\"\n"
     ]
    }
   ],
   "source": [
    "test_1.8()"
   ]
  },
  {
   "cell_type": "markdown",
   "metadata": {
    "deletable": false,
    "editable": false,
    "nbgrader": {
     "cell_type": "markdown",
     "checksum": "4ed3cd0a924683fcb19b703a88dde638",
     "grade": false,
     "grade_id": "cell-2465e27157c638d7",
     "locked": true,
     "schema_version": 3,
     "solution": false,
     "task": false
    }
   },
   "source": [
    "**Question 1.9** \n",
    "<br> {points: 3}\n",
    "\n",
    "Describe in words the distribution above, comment on the shape, center and how spread out the distribution is. Compare this sampling distribution to the population distribution above. "
   ]
  },
  {
   "cell_type": "markdown",
   "metadata": {
    "deletable": false,
    "nbgrader": {
     "cell_type": "markdown",
     "checksum": "3d73c65fc7b44f092fcd1d6b9d2ba68e",
     "grade": true,
     "grade_id": "cell-cf34db0143c52463",
     "locked": false,
     "points": 3,
     "schema_version": 3,
     "solution": true,
     "task": false
    }
   },
   "source": [
    "DOUBLE CLICK TO EDIT **THIS CELL** AND REPLACE THIS TEXT WITH YOUR ANSWER."
   ]
  },
  {
   "cell_type": "markdown",
   "metadata": {
    "deletable": false,
    "editable": false,
    "nbgrader": {
     "cell_type": "markdown",
     "checksum": "2367d19c04f1508087106f0f80f3db9c",
     "grade": false,
     "grade_id": "cell-6f8f48470b96f334",
     "locked": true,
     "schema_version": 3,
     "solution": false,
     "task": false
    }
   },
   "source": [
    "**Question 2.0** \n",
    "<br> {points: 1}\n",
    "\n",
    "Draw 1500 random samples from `coffee_data`. Each sample should have 5 observations. Assign this data frame to an object called `coffee_samples_30`.\n",
    "\n",
    "Group by the sample replicate number, and then for each sample, calculate the mean. Name the data frame `coffee_sample_estimates_30`. The data frame should have the column names `replicate` and `coffee_sample_mean_30`.\n",
    "\n",
    "Finally, create a plot of the sampling distribution called `coffee_sampling_distribution_30`.\n",
    "\n",
    "> Hint: use `xlim` to control the x-axis limits so that they are similar to those in the histogram above. This will make it easier to compare this histogram with that one."
   ]
  },
  {
   "cell_type": "code",
   "execution_count": 36,
   "metadata": {
    "deletable": false,
    "nbgrader": {
     "cell_type": "code",
     "checksum": "7c25109d768b13fc34232dc5a0b3a4d5",
     "grade": false,
     "grade_id": "cell-8749c4c793527994",
     "locked": false,
     "schema_version": 3,
     "solution": true,
     "task": false
    }
   },
   "outputs": [
    {
     "name": "stderr",
     "output_type": "stream",
     "text": [
      "`summarise()` ungrouping output (override with `.groups` argument)\n",
      "\n",
      "Warning message:\n",
      "“Removed 2 rows containing missing values (geom_bar).”\n"
     ]
    },
    {
     "data": {
      "image/png": "[encoded data removed]",
      "text/plain": [
       "plot without title"
      ]
     },
     "metadata": {
      "image/png": {
       "height": 360,
       "width": 480
      }
     },
     "output_type": "display_data"
    }
   ],
   "source": [
    "set.seed(4321) # DO NOT CHANGE!\n",
    "\n",
    "coffee_samples_30 <- rep_sample_n(coffee_data, size = 30, reps = 1500)\n",
    "\n",
    "coffee_sample_estimates_30 <- coffee_samples_30 %>%\n",
    "    group_by(replicate) %>%\n",
    "    summarize(coffee_sample_mean_30 = mean(cups)) \n",
    "\n",
    "coffee_sampling_distribution_30 <- ggplot(coffee_sample_estimates_30, aes(x = coffee_sample_mean_30))+\n",
    "    geom_histogram(binwidth = 0.5) +\n",
    "    xlim(c(0,9)) +\n",
    "    xlab(\"Sample means \\n(mean cups of coffee per week)\") +\n",
    "    ggtitle(\"Sampling distribution of the \\n mean cups of coffee per week\") +\n",
    "    theme(text = element_text(size = 20))\n",
    "\n",
    "coffee_sampling_distribution_30 "
   ]
  },
  {
   "cell_type": "code",
   "execution_count": 37,
   "metadata": {
    "deletable": false,
    "editable": false,
    "nbgrader": {
     "cell_type": "code",
     "checksum": "8325a52b0a7084c6febe9bd3aef13870",
     "grade": true,
     "grade_id": "cell-343520899a993a48",
     "locked": true,
     "points": 1,
     "schema_version": 3,
     "solution": false,
     "task": false
    }
   },
   "outputs": [
    {
     "name": "stdout",
     "output_type": "stream",
     "text": [
      "[1] \"Success!\"\n"
     ]
    }
   ],
   "source": [
    "test_2.0()"
   ]
  },
  {
   "cell_type": "markdown",
   "metadata": {
    "deletable": false,
    "editable": false,
    "nbgrader": {
     "cell_type": "markdown",
     "checksum": "e2bf17e8740dbc9fd946e4d4e20f02c8",
     "grade": false,
     "grade_id": "cell-96acd1b43e68363c",
     "locked": true,
     "schema_version": 3,
     "solution": false,
     "task": false
    }
   },
   "source": [
    "**Question 2.1** \n",
    "<br> {points: 3}\n",
    "\n",
    "Describe in words the distribution above, comment on the shape, center and how spread out the distribution is. Compare this sampling distribution with samples of size 30 to the sampling distribution with samples of size 5. "
   ]
  },
  {
   "cell_type": "markdown",
   "metadata": {
    "deletable": false,
    "nbgrader": {
     "cell_type": "markdown",
     "checksum": "0bbd98baacefcbd55363330f5fd736f0",
     "grade": true,
     "grade_id": "cell-357c5ff2260d8e3e",
     "locked": false,
     "points": 3,
     "schema_version": 3,
     "solution": true,
     "task": false
    }
   },
   "source": [
    "DOUBLE CLICK TO EDIT **THIS CELL** AND REPLACE THIS TEXT WITH YOUR ANSWER."
   ]
  },
  {
   "cell_type": "code",
   "execution_count": null,
   "metadata": {
    "deletable": false,
    "editable": false,
    "nbgrader": {
     "cell_type": "code",
     "checksum": "176f0a3e9158ce2bd345a22f29a73707",
     "grade": false,
     "grade_id": "cell-5dc312e76f3e0a86",
     "locked": true,
     "schema_version": 3,
     "solution": false,
     "task": false
    }
   },
   "outputs": [],
   "source": [
    "source('cleanup.R')"
   ]
  },
  {
   "cell_type": "code",
   "execution_count": null,
   "metadata": {},
   "outputs": [],
   "source": []
  }
 ],
 "metadata": {
  "kernelspec": {
   "display_name": "R",
   "language": "R",
   "name": "ir"
  },
  "language_info": {
   "codemirror_mode": "r",
   "file_extension": ".r",
   "mimetype": "text/x-r-source",
   "name": "R",
   "pygments_lexer": "r",
   "version": "4.0.0"
  }
 },
 "nbformat": 4,
 "nbformat_minor": 4
}
