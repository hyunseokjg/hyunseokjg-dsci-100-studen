{
 "cells": [
  {
   "cell_type": "markdown",
   "metadata": {
    "deletable": false,
    "editable": false,
    "nbgrader": {
     "cell_type": "markdown",
     "checksum": "dadbb782882dedd96d1e8fb80ebdcf97",
     "grade": false,
     "grade_id": "cell-6093d584be2ad9ed",
     "locked": true,
     "schema_version": 3,
     "solution": false
    }
   },
   "source": [
    "# Worksheet 8 - Regression\n",
    "\n",
    "### Lecture and Tutorial Learning Goals:\n",
    "\n",
    "After completing this week's lecture and tutorial work, you will be able to:\n",
    "- Recognize situations where a simple regression analysis would be appropriate for making predictions.\n",
    "- Explain the k-nearest neighbour ($k$-nn) regression algorithm and describe how it differs from $k$-nn classification.\n",
    "- Interpret the output of a $k$-nn regression.\n",
    "- In a dataset with two variables, perform k-nearest neighbour regression in R using `tidymodels` to predict the values for a test dataset.\n",
    "- Using R, execute cross-validation in R to choose the number of neighbours.\n",
    "- Using R, evaluate $k$-nn regression prediction accuracy using a test data set and an appropriate metric (e.g., root mean square prediction error, RMSPE).\n",
    "- In the context of $k$-nn regression, compare and contrast goodness of fit and prediction properties (namely RMSE vs RMSPE).\n",
    "- Describe advantages and disadvantages of the $k$-nearest neighbour regression approach."
   ]
  },
  {
   "cell_type": "code",
   "execution_count": 76,
   "metadata": {
    "deletable": false,
    "editable": false,
    "nbgrader": {
     "cell_type": "code",
     "checksum": "9c92d700cff110d521da091493d33e90",
     "grade": false,
     "grade_id": "cell-53085d5554f9dcc8",
     "locked": true,
     "schema_version": 3,
     "solution": false,
     "task": false
    }
   },
   "outputs": [],
   "source": [
    "### Run this cell before continuing.\n",
    "library(tidyverse)\n",
    "library(testthat)\n",
    "library(digest)\n",
    "library(repr)\n",
    "library(tidymodels)\n",
    "options(repr.matrix.max.rows = 6)\n",
    "source(\"tests.R\")\n",
    "source('cleanup.R')"
   ]
  },
  {
   "cell_type": "markdown",
   "metadata": {
    "deletable": false,
    "editable": false,
    "nbgrader": {
     "cell_type": "markdown",
     "checksum": "004a90536551b93c7af8a8b5d3e92957",
     "grade": false,
     "grade_id": "cell-8e40e06455324a19",
     "locked": true,
     "schema_version": 3,
     "solution": false
    }
   },
   "source": [
    "**Question 0.0** Multiple Choice: \n",
    "<br> {points: 1}\n",
    "\n",
    "To predict a value of $Y$ for a new observation using $k$-nn **regression**, we identify the $k$-nearest neighbours and then:\n",
    "\n",
    "A. Assign it the median of the $k$-nearest neighbours as the predicted value\n",
    "\n",
    "B. Assign it the mean of the $k$-nearest neighbours as the predicted value\n",
    "\n",
    "C. Assign it the mode of the $k$-nearest neighbours as the predicted value\n",
    "\n",
    "D. Assign it the majority vote of the $k$-nearest neighbours as the predicted value\n",
    "\n",
    "*Save the letter of the answer you think is correct to a variable named `answer0.0`. Make sure your answer is an uppercase letter and is surrounded by quotation marks (e.g. `\"F\"`).*"
   ]
  },
  {
   "cell_type": "code",
   "execution_count": 77,
   "metadata": {
    "deletable": false,
    "nbgrader": {
     "cell_type": "code",
     "checksum": "b2a94d99e15ed916391daed3643fe923",
     "grade": false,
     "grade_id": "cell-108236d99368cc44",
     "locked": false,
     "schema_version": 3,
     "solution": true
    }
   },
   "outputs": [],
   "source": [
    "answer0.0 <- \"B\""
   ]
  },
  {
   "cell_type": "code",
   "execution_count": 78,
   "metadata": {
    "deletable": false,
    "editable": false,
    "nbgrader": {
     "cell_type": "code",
     "checksum": "e245528180447ef32eb2e47de0ac531e",
     "grade": true,
     "grade_id": "cell-7d5938e33a38edeb",
     "locked": true,
     "points": 1,
     "schema_version": 3,
     "solution": false
    }
   },
   "outputs": [
    {
     "name": "stdout",
     "output_type": "stream",
     "text": [
      "[1] \"Success!\"\n"
     ]
    }
   ],
   "source": [
    "test_0.0()"
   ]
  },
  {
   "cell_type": "markdown",
   "metadata": {
    "deletable": false,
    "editable": false,
    "nbgrader": {
     "cell_type": "markdown",
     "checksum": "fe13b300b073467ed185bbcb049aa62b",
     "grade": false,
     "grade_id": "cell-b0f4fa2237ef0429",
     "locked": true,
     "schema_version": 3,
     "solution": false,
     "task": false
    }
   },
   "source": [
    "**Question 0.1** Multiple Choice: \n",
    "<br> {points: 1}\n",
    "\n",
    "Of those shown below, which is the correct formula for RMSPE?\n",
    "\n",
    "\n",
    "A. $RMSPE = \\sqrt{\\frac{\\frac{1}{n}\\sum\\limits_{i=1}^{n}(y_i - \\hat{y_i})^2}{1 - n}}$\n",
    "\n",
    "B. $RMSPE = \\sqrt{\\frac{1}{n - 1}\\sum\\limits_{i=1}^{n}(y_i - \\hat{y_i})^2}$\n",
    "\n",
    "C. $RMSPE = \\sqrt{\\frac{1}{n}\\sum\\limits_{i=1}^{n}(y_i - \\hat{y_i})^2}$\n",
    "\n",
    "D. $RMSPE = \\sqrt{\\frac{1}{n}\\sum\\limits_{i=1}^{n}(y_i - \\hat{y_i})}$ \n",
    "\n",
    "*Save the letter of the answer you think is correct to a variable named `answer0.1`. Make sure you put quotations around the letter and pay attention to case.*"
   ]
  },
  {
   "cell_type": "code",
   "execution_count": 79,
   "metadata": {
    "deletable": false,
    "nbgrader": {
     "cell_type": "code",
     "checksum": "5fd4ab0d451691ecaad16cf85eeeeefc",
     "grade": false,
     "grade_id": "cell-93c565d6974de38f",
     "locked": false,
     "schema_version": 3,
     "solution": true,
     "task": false
    }
   },
   "outputs": [],
   "source": [
    "answer0.1 <- \"C\""
   ]
  },
  {
   "cell_type": "code",
   "execution_count": 80,
   "metadata": {
    "deletable": false,
    "editable": false,
    "nbgrader": {
     "cell_type": "code",
     "checksum": "f7b0eb36bc88d416ff71c8abeaa9227e",
     "grade": true,
     "grade_id": "cell-b1e66491132c1e30",
     "locked": true,
     "points": 1,
     "schema_version": 3,
     "solution": false,
     "task": false
    }
   },
   "outputs": [
    {
     "name": "stdout",
     "output_type": "stream",
     "text": [
      "[1] \"Success!\"\n"
     ]
    }
   ],
   "source": [
    "test_0.1()"
   ]
  },
  {
   "cell_type": "markdown",
   "metadata": {
    "deletable": false,
    "editable": false,
    "nbgrader": {
     "cell_type": "markdown",
     "checksum": "21c500779af0a719ec9869a1b56afd90",
     "grade": false,
     "grade_id": "cell-ded5f8fa4e621b81",
     "locked": true,
     "schema_version": 3,
     "solution": false
    }
   },
   "source": [
    "**Question 0.2**\n",
    "<br> {points: 1}\n",
    "\n",
    "The plot below is a very simple k-nn regression example, where the black dots are the data observations and the blue line is the predictions from a $k$-nn regression model created from this data where $k=2$.\n",
    "\n",
    "Using the formula for RMSE (given in the reading), and the graph below, by hand (pen and paper or use R as a calculator) calculate RMSE for this model. Use one decimal place of precision when inputting the heights of the black dots and blue line. Save your answer to a variable named `answer0.2`\n",
    "\n",
    "<img align=\"left\" src=\"img/k-nn_RMSE.jpeg\" />"
   ]
  },
  {
   "cell_type": "code",
   "execution_count": 81,
   "metadata": {
    "deletable": false,
    "nbgrader": {
     "cell_type": "code",
     "checksum": "67e086cc04ad4264b642781e233c7cd7",
     "grade": false,
     "grade_id": "cell-8dc7cc6f35de80cb",
     "locked": false,
     "schema_version": 3,
     "solution": true
    }
   },
   "outputs": [],
   "source": [
    "answer0.2 <- sqrt((1/6)*((1.0 - 1.3)^2 + (1.0 - 1.5)^2 + (2.0 - 1.5)^2 + (3.0 - 2.0)^2 + (5.0 - 6.0)^2 + (7.0 - 6.0)^2)) "
   ]
  },
  {
   "cell_type": "code",
   "execution_count": 2,
   "metadata": {},
   "outputs": [
    {
     "data": {
      "text/html": [
       "6.26498204307083"
      ],
      "text/latex": [
       "6.26498204307083"
      ],
      "text/markdown": [
       "6.26498204307083"
      ],
      "text/plain": [
       "[1] 6.264982"
      ]
     },
     "metadata": {},
     "output_type": "display_data"
    }
   ],
   "source": [
    "sqrt((1/4)*((110 - 100)^2 + (105 - 110)^2 + (50 - 54)^2 + (77 - 73)^2)) "
   ]
  },
  {
   "cell_type": "code",
   "execution_count": 82,
   "metadata": {
    "deletable": false,
    "editable": false,
    "nbgrader": {
     "cell_type": "code",
     "checksum": "cd327e469d66107c2a4ca6fc92b97eba",
     "grade": true,
     "grade_id": "cell-d90b3e7b890ce86b",
     "locked": true,
     "points": 1,
     "schema_version": 3,
     "solution": false
    }
   },
   "outputs": [
    {
     "name": "stdout",
     "output_type": "stream",
     "text": [
      "[1] \"Success!\"\n"
     ]
    }
   ],
   "source": [
    "test_0.2()"
   ]
  },
  {
   "cell_type": "markdown",
   "metadata": {
    "deletable": false,
    "editable": false,
    "nbgrader": {
     "cell_type": "markdown",
     "checksum": "5ae59861171794c4f66b5fc614187d8e",
     "grade": false,
     "grade_id": "cell-73d7913554df0781",
     "locked": true,
     "schema_version": 3,
     "solution": false,
     "task": false
    }
   },
   "source": [
    "### RMSPE Definition\n",
    "\n",
    "**Question 0.3** Multiple Choice: \n",
    "<br> {points: 1}\n",
    "\n",
    "What does RMSPE stand for?\n",
    "\n",
    "\n",
    "A. root mean squared prediction error\n",
    "\n",
    "B. root mean squared percentage error \n",
    "\n",
    "C. root mean squared performance error \n",
    "\n",
    "D. root mean squared preference error \n",
    "\n",
    "*Save the letter of the answer you think is correct to a variable named `answer0.3`. Make sure you put quotations around the letter and pay attention to case.*"
   ]
  },
  {
   "cell_type": "code",
   "execution_count": 83,
   "metadata": {
    "deletable": false,
    "nbgrader": {
     "cell_type": "code",
     "checksum": "a1690d2ede99022f3136074dccd5e638",
     "grade": false,
     "grade_id": "cell-81be027da315cb3f",
     "locked": false,
     "schema_version": 3,
     "solution": true,
     "task": false
    }
   },
   "outputs": [],
   "source": [
    "answer0.3 <- \"A\""
   ]
  },
  {
   "cell_type": "code",
   "execution_count": 84,
   "metadata": {
    "deletable": false,
    "editable": false,
    "nbgrader": {
     "cell_type": "code",
     "checksum": "3ff0cac1a6dea5c2b79a238504979c0e",
     "grade": true,
     "grade_id": "cell-db93265fd197f97f",
     "locked": true,
     "points": 1,
     "schema_version": 3,
     "solution": false,
     "task": false
    }
   },
   "outputs": [
    {
     "name": "stdout",
     "output_type": "stream",
     "text": [
      "[1] \"Success!\"\n"
     ]
    }
   ],
   "source": [
    "test_0.3()"
   ]
  },
  {
   "cell_type": "markdown",
   "metadata": {
    "deletable": false,
    "editable": false,
    "nbgrader": {
     "cell_type": "markdown",
     "checksum": "c94e4bc2ed7206d48d7655fae0781008",
     "grade": false,
     "grade_id": "cell-e612110169987c7b",
     "locked": true,
     "schema_version": 3,
     "solution": false,
     "task": false
    }
   },
   "source": [
    "## Marathon Training\n",
    "\n",
    "<img src='https://media.giphy.com/media/nUN6InE2CodRm/giphy.gif' width='400'>\n",
    "\n",
    "Source: https://media.giphy.com/media/nUN6InE2CodRm/giphy.gif\n",
    "\n",
    "What predicts which athletes will perform better than others? Specifically, we are interested in marathon runners, and looking at how the maximum distance ran per week (in miles) during race training predicts the time it takes a runner to finish the race? For this, we will be looking at the `marathon.csv` file in the `data/` folder."
   ]
  },
  {
   "cell_type": "markdown",
   "metadata": {
    "deletable": false,
    "editable": false,
    "nbgrader": {
     "cell_type": "markdown",
     "checksum": "9ea30c1434a67e3876226cd543d43d4c",
     "grade": false,
     "grade_id": "cell-16d7d432c49c9e53",
     "locked": true,
     "schema_version": 3,
     "solution": false
    }
   },
   "source": [
    "**Question 1.0** \n",
    "<br> {points: 1}\n",
    "\n",
    "Load the data and assign it to an object called `marathon`. "
   ]
  },
  {
   "cell_type": "code",
   "execution_count": 85,
   "metadata": {
    "deletable": false,
    "nbgrader": {
     "cell_type": "code",
     "checksum": "e808fb877b552ca26971fdb18432c347",
     "grade": false,
     "grade_id": "cell-5376dc2c39983258",
     "locked": false,
     "schema_version": 3,
     "solution": true
    }
   },
   "outputs": [
    {
     "name": "stderr",
     "output_type": "stream",
     "text": [
      "Parsed with column specification:\n",
      "cols(\n",
      "  age = \u001b[32mcol_double()\u001b[39m,\n",
      "  bmi = \u001b[32mcol_double()\u001b[39m,\n",
      "  female = \u001b[32mcol_double()\u001b[39m,\n",
      "  footwear = \u001b[32mcol_double()\u001b[39m,\n",
      "  group = \u001b[32mcol_double()\u001b[39m,\n",
      "  injury = \u001b[32mcol_double()\u001b[39m,\n",
      "  mf_d = \u001b[32mcol_double()\u001b[39m,\n",
      "  mf_di = \u001b[32mcol_double()\u001b[39m,\n",
      "  mf_ti = \u001b[32mcol_double()\u001b[39m,\n",
      "  max = \u001b[32mcol_double()\u001b[39m,\n",
      "  sprint = \u001b[32mcol_double()\u001b[39m,\n",
      "  mf_s = \u001b[32mcol_double()\u001b[39m,\n",
      "  time_hrs = \u001b[32mcol_double()\u001b[39m\n",
      ")\n",
      "\n"
     ]
    },
    {
     "data": {
      "text/html": [
       "<table>\n",
       "<caption>A spec_tbl_df: 929 × 13</caption>\n",
       "<thead>\n",
       "\t<tr><th scope=col>age</th><th scope=col>bmi</th><th scope=col>female</th><th scope=col>footwear</th><th scope=col>group</th><th scope=col>injury</th><th scope=col>mf_d</th><th scope=col>mf_di</th><th scope=col>mf_ti</th><th scope=col>max</th><th scope=col>sprint</th><th scope=col>mf_s</th><th scope=col>time_hrs</th></tr>\n",
       "\t<tr><th scope=col>&lt;dbl&gt;</th><th scope=col>&lt;dbl&gt;</th><th scope=col>&lt;dbl&gt;</th><th scope=col>&lt;dbl&gt;</th><th scope=col>&lt;dbl&gt;</th><th scope=col>&lt;dbl&gt;</th><th scope=col>&lt;dbl&gt;</th><th scope=col>&lt;dbl&gt;</th><th scope=col>&lt;dbl&gt;</th><th scope=col>&lt;dbl&gt;</th><th scope=col>&lt;dbl&gt;</th><th scope=col>&lt;dbl&gt;</th><th scope=col>&lt;dbl&gt;</th></tr>\n",
       "</thead>\n",
       "<tbody>\n",
       "\t<tr><td>35</td><td>23.59232</td><td>0</td><td>2</td><td>1</td><td>2</td><td>42195</td><td>4</td><td>10295</td><td>60</td><td>1</td><td>4.098592</td><td>2.859722</td></tr>\n",
       "\t<tr><td>33</td><td>22.51830</td><td>0</td><td>2</td><td>2</td><td>2</td><td>42195</td><td>3</td><td>12292</td><td>50</td><td>0</td><td>3.432720</td><td>3.414444</td></tr>\n",
       "\t<tr><td>38</td><td>25.56031</td><td>0</td><td>2</td><td>3</td><td>1</td><td>42195</td><td>4</td><td>10980</td><td>65</td><td>0</td><td>3.842896</td><td>3.050000</td></tr>\n",
       "\t<tr><td>⋮</td><td>⋮</td><td>⋮</td><td>⋮</td><td>⋮</td><td>⋮</td><td>⋮</td><td>⋮</td><td>⋮</td><td>⋮</td><td>⋮</td><td>⋮</td><td>⋮</td></tr>\n",
       "\t<tr><td>44</td><td>24.23762</td><td>0</td><td>2</td><td>3</td><td>1</td><td>42195</td><td>2</td><td>12289</td><td>63</td><td>1</td><td>3.433558</td><td>3.413611</td></tr>\n",
       "\t<tr><td>34</td><td>21.24975</td><td>0</td><td>2</td><td>3</td><td>1</td><td>42195</td><td>3</td><td>12602</td><td>32</td><td>0</td><td>3.348278</td><td>3.500556</td></tr>\n",
       "\t<tr><td>41</td><td>25.20479</td><td>0</td><td>2</td><td>1</td><td>1</td><td>42195</td><td>2</td><td>13500</td><td>20</td><td>1</td><td>3.125556</td><td>3.750000</td></tr>\n",
       "</tbody>\n",
       "</table>\n"
      ],
      "text/latex": [
       "A spec\\_tbl\\_df: 929 × 13\n",
       "\\begin{tabular}{lllllllllllll}\n",
       " age & bmi & female & footwear & group & injury & mf\\_d & mf\\_di & mf\\_ti & max & sprint & mf\\_s & time\\_hrs\\\\\n",
       " <dbl> & <dbl> & <dbl> & <dbl> & <dbl> & <dbl> & <dbl> & <dbl> & <dbl> & <dbl> & <dbl> & <dbl> & <dbl>\\\\\n",
       "\\hline\n",
       "\t 35 & 23.59232 & 0 & 2 & 1 & 2 & 42195 & 4 & 10295 & 60 & 1 & 4.098592 & 2.859722\\\\\n",
       "\t 33 & 22.51830 & 0 & 2 & 2 & 2 & 42195 & 3 & 12292 & 50 & 0 & 3.432720 & 3.414444\\\\\n",
       "\t 38 & 25.56031 & 0 & 2 & 3 & 1 & 42195 & 4 & 10980 & 65 & 0 & 3.842896 & 3.050000\\\\\n",
       "\t ⋮ & ⋮ & ⋮ & ⋮ & ⋮ & ⋮ & ⋮ & ⋮ & ⋮ & ⋮ & ⋮ & ⋮ & ⋮\\\\\n",
       "\t 44 & 24.23762 & 0 & 2 & 3 & 1 & 42195 & 2 & 12289 & 63 & 1 & 3.433558 & 3.413611\\\\\n",
       "\t 34 & 21.24975 & 0 & 2 & 3 & 1 & 42195 & 3 & 12602 & 32 & 0 & 3.348278 & 3.500556\\\\\n",
       "\t 41 & 25.20479 & 0 & 2 & 1 & 1 & 42195 & 2 & 13500 & 20 & 1 & 3.125556 & 3.750000\\\\\n",
       "\\end{tabular}\n"
      ],
      "text/markdown": [
       "\n",
       "A spec_tbl_df: 929 × 13\n",
       "\n",
       "| age &lt;dbl&gt; | bmi &lt;dbl&gt; | female &lt;dbl&gt; | footwear &lt;dbl&gt; | group &lt;dbl&gt; | injury &lt;dbl&gt; | mf_d &lt;dbl&gt; | mf_di &lt;dbl&gt; | mf_ti &lt;dbl&gt; | max &lt;dbl&gt; | sprint &lt;dbl&gt; | mf_s &lt;dbl&gt; | time_hrs &lt;dbl&gt; |\n",
       "|---|---|---|---|---|---|---|---|---|---|---|---|---|\n",
       "| 35 | 23.59232 | 0 | 2 | 1 | 2 | 42195 | 4 | 10295 | 60 | 1 | 4.098592 | 2.859722 |\n",
       "| 33 | 22.51830 | 0 | 2 | 2 | 2 | 42195 | 3 | 12292 | 50 | 0 | 3.432720 | 3.414444 |\n",
       "| 38 | 25.56031 | 0 | 2 | 3 | 1 | 42195 | 4 | 10980 | 65 | 0 | 3.842896 | 3.050000 |\n",
       "| ⋮ | ⋮ | ⋮ | ⋮ | ⋮ | ⋮ | ⋮ | ⋮ | ⋮ | ⋮ | ⋮ | ⋮ | ⋮ |\n",
       "| 44 | 24.23762 | 0 | 2 | 3 | 1 | 42195 | 2 | 12289 | 63 | 1 | 3.433558 | 3.413611 |\n",
       "| 34 | 21.24975 | 0 | 2 | 3 | 1 | 42195 | 3 | 12602 | 32 | 0 | 3.348278 | 3.500556 |\n",
       "| 41 | 25.20479 | 0 | 2 | 1 | 1 | 42195 | 2 | 13500 | 20 | 1 | 3.125556 | 3.750000 |\n",
       "\n"
      ],
      "text/plain": [
       "    age bmi      female footwear group injury mf_d  mf_di mf_ti max sprint\n",
       "1   35  23.59232 0      2        1     2      42195 4     10295 60  1     \n",
       "2   33  22.51830 0      2        2     2      42195 3     12292 50  0     \n",
       "3   38  25.56031 0      2        3     1      42195 4     10980 65  0     \n",
       "⋮   ⋮   ⋮        ⋮      ⋮        ⋮     ⋮      ⋮     ⋮     ⋮     ⋮   ⋮     \n",
       "927 44  24.23762 0      2        3     1      42195 2     12289 63  1     \n",
       "928 34  21.24975 0      2        3     1      42195 3     12602 32  0     \n",
       "929 41  25.20479 0      2        1     1      42195 2     13500 20  1     \n",
       "    mf_s     time_hrs\n",
       "1   4.098592 2.859722\n",
       "2   3.432720 3.414444\n",
       "3   3.842896 3.050000\n",
       "⋮   ⋮        ⋮       \n",
       "927 3.433558 3.413611\n",
       "928 3.348278 3.500556\n",
       "929 3.125556 3.750000"
      ]
     },
     "metadata": {},
     "output_type": "display_data"
    }
   ],
   "source": [
    "marathon <- read_csv(\"data/marathon.csv\")\n",
    "marathon"
   ]
  },
  {
   "cell_type": "code",
   "execution_count": 86,
   "metadata": {
    "deletable": false,
    "editable": false,
    "nbgrader": {
     "cell_type": "code",
     "checksum": "458c6058a4988dffc4082aca21145987",
     "grade": true,
     "grade_id": "cell-60554f6f6a56a16c",
     "locked": true,
     "points": 1,
     "schema_version": 3,
     "solution": false
    }
   },
   "outputs": [
    {
     "name": "stdout",
     "output_type": "stream",
     "text": [
      "[1] \"Success!\"\n"
     ]
    }
   ],
   "source": [
    "test_1.0()"
   ]
  },
  {
   "cell_type": "markdown",
   "metadata": {
    "deletable": false,
    "editable": false,
    "nbgrader": {
     "cell_type": "markdown",
     "checksum": "e60d5964d61d5758585592dfb52db3b2",
     "grade": false,
     "grade_id": "cell-26802c14f46a4d8e",
     "locked": true,
     "schema_version": 3,
     "solution": false
    }
   },
   "source": [
    "**Question 2.0**\n",
    "<br> {points: 1}\n",
    "\n",
    "We want to predict race time (in hours) (`time_hrs`) given a particular value of maximum distance ran per week (in miles) during race training (`max`). Let's take a subset of size 50 individuals of our marathon data and assign it to an object called `marathon_50`. With this subset, plot a scatterplot to assess the relationship between these two variables. Put `time_hrs` on the y-axis and `max` on the x-axis. **Assign this plot to an object called `answer2`.** Discuss, with a classmate, the relationship between race time and maximum distance ran per week during training based on the scatterplot you create below. \n",
    "\n",
    "*Hint: To take a subset of your data you can use the `sample_n()` function*"
   ]
  },
  {
   "cell_type": "code",
   "execution_count": 87,
   "metadata": {
    "deletable": false,
    "nbgrader": {
     "cell_type": "code",
     "checksum": "b1abc9f2084d66a2472030519f4e3235",
     "grade": false,
     "grade_id": "cell-6fcfc6ca32883f4d",
     "locked": false,
     "schema_version": 3,
     "solution": true
    }
   },
   "outputs": [
    {
     "data": {
      "image/png": "[encoded data removed]",
      "text/plain": [
       "plot without title"
      ]
     },
     "metadata": {
      "image/png": {
       "height": 480,
       "width": 480
      }
     },
     "output_type": "display_data"
    }
   ],
   "source": [
    "options(repr.plot.width = 8, repr.plot.height = 7)\n",
    "\n",
    "set.seed(2000) ### DO NOT CHANGE\n",
    "\n",
    "marathon_50 <- marathon %>%\n",
    "    sample_n(50)\n",
    "\n",
    "options(repr.plot.width = 8, repr.plot.height = 8)\n",
    "answer2 <- marathon_50 %>%\n",
    "    ggplot(aes(x = max, y = time_hrs)) +\n",
    "    geom_point() +\n",
    "    labs(x = \"Maximum Distance Ran Per Week (miles)\", y = \"Race Time (hours)\", title = \"Race time vs maximum distance ran per week\") +\n",
    "    theme(text = element_text(size = 20))\n",
    "answer2"
   ]
  },
  {
   "cell_type": "code",
   "execution_count": 88,
   "metadata": {
    "deletable": false,
    "editable": false,
    "nbgrader": {
     "cell_type": "code",
     "checksum": "b77a51825a4682065b05a3e849538c39",
     "grade": true,
     "grade_id": "cell-78ac50fb41cd9a86",
     "locked": true,
     "points": 1,
     "schema_version": 3,
     "solution": false
    }
   },
   "outputs": [
    {
     "name": "stdout",
     "output_type": "stream",
     "text": [
      "[1] \"Success!\"\n"
     ]
    }
   ],
   "source": [
    "test_2.0()"
   ]
  },
  {
   "cell_type": "markdown",
   "metadata": {
    "deletable": false,
    "editable": false,
    "nbgrader": {
     "cell_type": "markdown",
     "checksum": "34f89317595dbfcb55227675d68dc3a2",
     "grade": false,
     "grade_id": "cell-cbe9f9a5c4b7c264",
     "locked": true,
     "schema_version": 3,
     "solution": false
    }
   },
   "source": [
    "**Question 3.0**\n",
    "<br> {points: 1}\n",
    "\n",
    "Suppose we want to predict the race time for someone who ran a maximum distance of 100 miles per week during training. In the plot below we can see that no one has run a maximum distance of 100 miles per week. But, if we are interested in prediction, how can we predict with this data? We can use $k$-nn regression! To do this we get the $Y$ values (target/response variable) of the nearest $k$ values and then take their average and use that as the prediction. \n",
    "\n",
    "For this question predict the race time based on the 4 closest neighbors to the 100 miles per week during training.\n",
    "\n",
    "*Fill in the scaffolding below and assign your answer to an object named `answer3`.*"
   ]
  },
  {
   "cell_type": "code",
   "execution_count": 89,
   "metadata": {
    "deletable": false,
    "editable": false,
    "nbgrader": {
     "cell_type": "code",
     "checksum": "7a548a7aabd63c724a69f1af25eec7e3",
     "grade": false,
     "grade_id": "cell-51d4b16bee915d31",
     "locked": true,
     "schema_version": 3,
     "solution": false,
     "task": false
    }
   },
   "outputs": [
    {
     "data": {
      "image/png": "[encoded data removed]",
      "text/plain": [
       "plot without title"
      ]
     },
     "metadata": {
      "image/png": {
       "height": 360,
       "width": 420
      }
     },
     "output_type": "display_data"
    }
   ],
   "source": [
    "# run this cell to see a visualization of the 4 nearest neighbours\n",
    "options(repr.plot.height = 6, repr.plot.width = 7)\n",
    "marathon_50 %>%\n",
    "    ggplot(aes(x = max, y = time_hrs)) + \n",
    "        geom_point(color = 'dodgerblue', alpha = 0.4) +\n",
    "        geom_vline(xintercept = 100, linetype = \"dotted\") +\n",
    "        xlab(\"Maximum Distance Ran per \\n Week During Training (mi)\") +\n",
    "        ylab(\"Race Time (hours)\") + \n",
    "        geom_segment(aes(x = 100, y = 2.56, xend = 107, yend = 2.56), col = \"orange\") +\n",
    "        geom_segment(aes(x = 100, y = 2.65, xend = 90, yend = 2.65), col = \"orange\") +\n",
    "        geom_segment(aes(x = 100, y = 2.99, xend = 86, yend = 2.99), col = \"orange\") +\n",
    "        geom_segment(aes(x = 100, y = 3.05, xend = 82, yend = 3.05), col = \"orange\") +\n",
    "        theme(text = element_text(size = 20))"
   ]
  },
  {
   "cell_type": "code",
   "execution_count": 90,
   "metadata": {
    "deletable": false,
    "nbgrader": {
     "cell_type": "code",
     "checksum": "f72062175ddc2cea6736073cd3c3e4da",
     "grade": false,
     "grade_id": "cell-a8d1b15c312d9c3d",
     "locked": false,
     "schema_version": 3,
     "solution": true
    }
   },
   "outputs": [
    {
     "data": {
      "text/html": [
       "2.81034722222222"
      ],
      "text/latex": [
       "2.81034722222222"
      ],
      "text/markdown": [
       "2.81034722222222"
      ],
      "text/plain": [
       "[1] 2.810347"
      ]
     },
     "metadata": {},
     "output_type": "display_data"
    }
   ],
   "source": [
    "#... <- ... %>% \n",
    "#  mutate(diff = abs(100 - ...)) %>% \n",
    "#  ...(diff) %>% \n",
    "#  slice(...) %>%  \n",
    "#  summarise(predicted = ...(...)) %>%\n",
    "#  pull()\n",
    "\n",
    "answer3 <- marathon_50 %>%\n",
    "    mutate(diff = abs(100 - max)) %>%\n",
    "    arrange(diff) %>%\n",
    "    slice(1:4) %>%\n",
    "    summarize(predicted = mean(time_hrs)) %>%\n",
    "    pull()\n",
    "answer3"
   ]
  },
  {
   "cell_type": "code",
   "execution_count": 91,
   "metadata": {
    "deletable": false,
    "editable": false,
    "nbgrader": {
     "cell_type": "code",
     "checksum": "5009d7846f565e8a8bc680274fa8800b",
     "grade": true,
     "grade_id": "cell-af7afd4794001c7b",
     "locked": true,
     "points": 1,
     "schema_version": 3,
     "solution": false
    }
   },
   "outputs": [
    {
     "name": "stdout",
     "output_type": "stream",
     "text": [
      "[1] \"Success!\"\n"
     ]
    }
   ],
   "source": [
    "test_3.0()"
   ]
  },
  {
   "cell_type": "markdown",
   "metadata": {
    "deletable": false,
    "editable": false,
    "nbgrader": {
     "cell_type": "markdown",
     "checksum": "b1f9aa206f133969fcff7bf2009bbd0e",
     "grade": false,
     "grade_id": "cell-0c2107e7f52efb3d",
     "locked": true,
     "schema_version": 3,
     "solution": false,
     "task": false
    }
   },
   "source": [
    "**Question 4.0**\n",
    "<br> {points: 1}\n",
    "\n",
    "For this question, let's instead predict the race time based on the 2 closest neighbors to the 100 miles per week during training.\n",
    "\n",
    "*Assign your answer to an object named `answer4`.*"
   ]
  },
  {
   "cell_type": "code",
   "execution_count": 92,
   "metadata": {
    "deletable": false,
    "nbgrader": {
     "cell_type": "code",
     "checksum": "3371f7bb2081a1f1eb48c702eebd05b6",
     "grade": false,
     "grade_id": "cell-44994bbd299ff0d0",
     "locked": false,
     "schema_version": 3,
     "solution": true
    }
   },
   "outputs": [
    {
     "data": {
      "text/html": [
       "2.60472222222222"
      ],
      "text/latex": [
       "2.60472222222222"
      ],
      "text/markdown": [
       "2.60472222222222"
      ],
      "text/plain": [
       "[1] 2.604722"
      ]
     },
     "metadata": {},
     "output_type": "display_data"
    }
   ],
   "source": [
    "answer4 <- marathon_50 %>%\n",
    "    mutate(diff = abs(100 - max)) %>%\n",
    "    arrange(diff) %>%\n",
    "    slice(1:2) %>%\n",
    "    summarize(predicted = mean(time_hrs)) %>%\n",
    "    pull()\n",
    "answer4"
   ]
  },
  {
   "cell_type": "code",
   "execution_count": 93,
   "metadata": {
    "deletable": false,
    "editable": false,
    "nbgrader": {
     "cell_type": "code",
     "checksum": "583a4300b1df6b60f37f8ac9470137e8",
     "grade": true,
     "grade_id": "cell-690e322810064165",
     "locked": true,
     "points": 1,
     "schema_version": 3,
     "solution": false
    }
   },
   "outputs": [
    {
     "name": "stdout",
     "output_type": "stream",
     "text": [
      "[1] \"Success!\"\n"
     ]
    }
   ],
   "source": [
    "test_4.0()"
   ]
  },
  {
   "cell_type": "markdown",
   "metadata": {
    "deletable": false,
    "editable": false,
    "nbgrader": {
     "cell_type": "markdown",
     "checksum": "a7b5791bb4f841adb405ff5f20f2fc83",
     "grade": false,
     "grade_id": "cell-3311ba44befa3767",
     "locked": true,
     "schema_version": 3,
     "solution": false
    }
   },
   "source": [
    "**Question 5.0** Multiple Choice:\n",
    "<br> {points: 1}\n",
    "\n",
    "So far you have calculated the $k$ nearest neighbors predictions manually based on $k$'s we have told you to use. However, last week we learned how to use a better method to choose the best $k$ for classification. \n",
    "\n",
    "Based on what you learned last week and what you have learned about $k$-nn regression so far this week, which method would you use to choose the $k$ (in the situation where we don't tell you which $k$ to use)?\n",
    "\n",
    "- A) Choose the $k$ that excludes most outliers\n",
    "- B) Choose the $k$ with the lowest training error\n",
    "- C) Choose the $k$ with the lowest cross-validation error\n",
    "- D) Choose the $k$ that includes the most data points\n",
    "- E) Choose the $k$ with the lowest testing error\n",
    "\n",
    "*Assign your answer to an object called `answer5`.  Make sure your answer is an uppercase letter and is surrounded by quotation marks (e.g. `\"F\"`).*"
   ]
  },
  {
   "cell_type": "code",
   "execution_count": 94,
   "metadata": {
    "deletable": false,
    "nbgrader": {
     "cell_type": "code",
     "checksum": "fe8b9cbbbd4aa881d0e9ab40c0a0b96e",
     "grade": false,
     "grade_id": "cell-01b498d6b1415bf5",
     "locked": false,
     "schema_version": 3,
     "solution": true
    }
   },
   "outputs": [],
   "source": [
    "answer5 <- \"C\""
   ]
  },
  {
   "cell_type": "code",
   "execution_count": 95,
   "metadata": {
    "deletable": false,
    "editable": false,
    "nbgrader": {
     "cell_type": "code",
     "checksum": "a6e6dbf472457ba6aaecfaaff0437f27",
     "grade": true,
     "grade_id": "cell-7cbe965dbdb7228d",
     "locked": true,
     "points": 1,
     "schema_version": 3,
     "solution": false
    }
   },
   "outputs": [
    {
     "name": "stdout",
     "output_type": "stream",
     "text": [
      "[1] \"Success!\"\n"
     ]
    }
   ],
   "source": [
    "test_5.0()"
   ]
  },
  {
   "cell_type": "markdown",
   "metadata": {
    "deletable": false,
    "editable": false,
    "nbgrader": {
     "cell_type": "markdown",
     "checksum": "1ac1a0e15ea3ffa70b2260b0aa682b40",
     "grade": false,
     "grade_id": "cell-b3b34499fe540e49",
     "locked": true,
     "schema_version": 3,
     "solution": false
    }
   },
   "source": [
    "**Question 6.0**\n",
    "<br> {points: 1}\n",
    "\n",
    "We have just seen how to perform k-nn regression manually, now we will apply it to the whole dataset using the `tidymodels` package. To do so, we will first need to create the training and testing datasets. Split the data using *75%* of the `marathon` data as your training set and set `time_hrs` as the `strata` argument. Store this data into an object called `marathon_split`. \n",
    "\n",
    "Then, use the appropriate `training` and `testing` functions to create your training set which you will call `marathon_training` and your testing set which you will call `marathon_testing`. Remember we won't touch the test dataset until the end. "
   ]
  },
  {
   "cell_type": "code",
   "execution_count": 96,
   "metadata": {
    "deletable": false,
    "nbgrader": {
     "cell_type": "code",
     "checksum": "f1bfffda9ee38c9d79c21ae78613aac4",
     "grade": false,
     "grade_id": "cell-8257a9338314019e",
     "locked": false,
     "schema_version": 3,
     "solution": true
    }
   },
   "outputs": [],
   "source": [
    "set.seed(2000) ### DO NOT CHANGE\n",
    "\n",
    "#... <- initial_split(..., prop = ..., strata = ...)\n",
    "#... <- training(...)\n",
    "#... <- testing(...)\n",
    "\n",
    "marathon_split <- initial_split(marathon, prop = 0.75, strata = time_hrs) \n",
    "marathon_training <- training(marathon_split)\n",
    "marathon_testing <- testing(marathon_split)\n"
   ]
  },
  {
   "cell_type": "code",
   "execution_count": 97,
   "metadata": {
    "deletable": false,
    "editable": false,
    "nbgrader": {
     "cell_type": "code",
     "checksum": "25046704f1a619c093f639895b03bc5b",
     "grade": true,
     "grade_id": "cell-381c8aeacf15fd35",
     "locked": true,
     "points": 1,
     "schema_version": 3,
     "solution": false
    }
   },
   "outputs": [
    {
     "name": "stdout",
     "output_type": "stream",
     "text": [
      "[1] \"Success!\"\n"
     ]
    }
   ],
   "source": [
    "test_6.0()"
   ]
  },
  {
   "cell_type": "markdown",
   "metadata": {
    "deletable": false,
    "editable": false,
    "nbgrader": {
     "cell_type": "markdown",
     "checksum": "74ff1bb05f9e4c9cef9bc64375ead59a",
     "grade": false,
     "grade_id": "cell-0c01c0b6cf4d8e91",
     "locked": true,
     "schema_version": 3,
     "solution": false,
     "task": false
    }
   },
   "source": [
    "**Question 7.0**\n",
    "<br> {points: 1}\n",
    "\n",
    "Next, we’ll use cross-validation on our **training data** to choose $k$. In $k$-nn classification, we used accuracy to see how well our predictions matched the true labels. In the context of $k$-nn *regression*, we will use RMPSE instead. Interpreting the RMPSE value can be tricky but generally speaking, if the prediction values are very close to the true values, the RMSPE will be small. Conversely, if the prediction values are *not* very close to the true values, the RMSPE will be quite large. \n",
    "\n",
    "Let's perform a cross-validation and choose the optimal $k$. First, create a model specification for $k$-nn. We are still using the $k$-nearest neighbours algorithm, and so we will still use the same package for the model engine as we did in classification (`\"kknn\"`). As usual, specify that we want to use the *straight-line distance*. However, since this will be a regression problem, we will use `set_mode(\"regression\")` in the model specification. Store your model specification in an object called `marathon_spec`. \n",
    "\n",
    "Moreover, create a recipe to preprocess our data. Store your recipe in an object called `marathon_recipe`. The recipe should specify that the response variable is race time (hrs) and the predictor is maximum distance ran per week during training."
   ]
  },
  {
   "cell_type": "code",
   "execution_count": 98,
   "metadata": {
    "deletable": false,
    "nbgrader": {
     "cell_type": "code",
     "checksum": "e97bf33848507629a9d887233d552975",
     "grade": false,
     "grade_id": "cell-766f1e094dd32efc",
     "locked": false,
     "schema_version": 3,
     "solution": true
    }
   },
   "outputs": [
    {
     "data": {
      "text/plain": [
       "Data Recipe\n",
       "\n",
       "Inputs:\n",
       "\n",
       "      role #variables\n",
       "   outcome          1\n",
       " predictor          1\n",
       "\n",
       "Operations:\n",
       "\n",
       "Scaling for all_predictors()\n",
       "Centering for all_predictors()"
      ]
     },
     "metadata": {},
     "output_type": "display_data"
    }
   ],
   "source": [
    "set.seed(1234) #DO NOT REMOVE\n",
    "\n",
    "#... <- nearest_neighbor(weight_func = ..., neighbors = ...) %>% \n",
    "#       set_engine(...) %>%\n",
    "#       set_mode(...) \n",
    "\n",
    "#... <- recipe(... ~ ..., data = ...) %>%\n",
    "#       step_scale(...) %>%\n",
    "#       step_center(...)\n",
    "\n",
    "marathon_spec <- nearest_neighbor(weight_func = \"rectangular\", neighbors = tune()) %>%\n",
    "    set_engine(\"kknn\") %>%\n",
    "    set_mode(\"regression\")\n",
    "\n",
    "marathon_recipe <- recipe(time_hrs ~ max, data = marathon_training) %>%\n",
    "    step_scale(all_predictors()) %>%\n",
    "    step_center(all_predictors())\n",
    "\n",
    "marathon_recipe"
   ]
  },
  {
   "cell_type": "code",
   "execution_count": 99,
   "metadata": {
    "deletable": false,
    "editable": false,
    "nbgrader": {
     "cell_type": "code",
     "checksum": "81e32ccc9a1601d188f1378e8aecfc6d",
     "grade": true,
     "grade_id": "cell-289bc7a299c4f482",
     "locked": true,
     "points": 1,
     "schema_version": 3,
     "solution": false
    }
   },
   "outputs": [
    {
     "name": "stdout",
     "output_type": "stream",
     "text": [
      "[1] \"Success!\"\n"
     ]
    }
   ],
   "source": [
    "test_7.0()"
   ]
  },
  {
   "cell_type": "markdown",
   "metadata": {
    "deletable": false,
    "editable": false,
    "nbgrader": {
     "cell_type": "markdown",
     "checksum": "fdb61bca28c896af8e834aa8bcbc05a0",
     "grade": false,
     "grade_id": "cell-9bbc49f6977aa3fc",
     "locked": true,
     "schema_version": 3,
     "solution": false,
     "task": false
    }
   },
   "source": [
    "**Question 7.1**\n",
    "<br>{points: 1}\n",
    "\n",
    "Now, perform a cross-validation with *5 folds* using the `vfold_cv` function. Store your answer in an object called `marathon_vfold`. Make sure to set the `strata` argument.\n",
    "\n",
    "Then, use the `workflow` function to combine your model specification and recipe. Store your answer in an object called `marathon_workflow`. "
   ]
  },
  {
   "cell_type": "code",
   "execution_count": 100,
   "metadata": {
    "deletable": false,
    "nbgrader": {
     "cell_type": "code",
     "checksum": "c551fd220ee0f022dd4d1aa49e0a74b9",
     "grade": false,
     "grade_id": "cell-7cf222d5ae9a2f89",
     "locked": false,
     "schema_version": 3,
     "solution": true,
     "task": false
    }
   },
   "outputs": [
    {
     "data": {
      "text/plain": [
       "══ Workflow ════════════════════════════════════════════════════════════════════\n",
       "\u001b[3mPreprocessor:\u001b[23m Recipe\n",
       "\u001b[3mModel:\u001b[23m nearest_neighbor()\n",
       "\n",
       "── Preprocessor ────────────────────────────────────────────────────────────────\n",
       "2 Recipe Steps\n",
       "\n",
       "● step_scale()\n",
       "● step_center()\n",
       "\n",
       "── Model ───────────────────────────────────────────────────────────────────────\n",
       "K-Nearest Neighbor Model Specification (regression)\n",
       "\n",
       "Main Arguments:\n",
       "  neighbors = tune()\n",
       "  weight_func = rectangular\n",
       "\n",
       "Computational engine: kknn \n"
      ]
     },
     "metadata": {},
     "output_type": "display_data"
    }
   ],
   "source": [
    "set.seed(1234) # DO NOT REMOVE\n",
    "\n",
    "marathon_vfold <- vfold_cv(marathon_training, v = 5, strata = time_hrs)\n",
    "\n",
    "marathon_workflow <- workflow() %>%\n",
    "    add_recipe(marathon_recipe) %>%\n",
    "    add_model(marathon_spec)\n",
    "marathon_workflow"
   ]
  },
  {
   "cell_type": "code",
   "execution_count": 101,
   "metadata": {
    "deletable": false,
    "editable": false,
    "nbgrader": {
     "cell_type": "code",
     "checksum": "5d53d69530adfeb056d80929692536d9",
     "grade": true,
     "grade_id": "cell-88d9f578265d6294",
     "locked": true,
     "points": 1,
     "schema_version": 3,
     "solution": false,
     "task": false
    }
   },
   "outputs": [
    {
     "name": "stdout",
     "output_type": "stream",
     "text": [
      "[1] \"Success!\"\n"
     ]
    }
   ],
   "source": [
    "test_7.1()"
   ]
  },
  {
   "cell_type": "markdown",
   "metadata": {
    "deletable": false,
    "editable": false,
    "nbgrader": {
     "cell_type": "markdown",
     "checksum": "a6342a7dc45eb16b424992b894d9c860",
     "grade": false,
     "grade_id": "cell-7cd5193eecc27c30",
     "locked": true,
     "schema_version": 3,
     "solution": false
    }
   },
   "source": [
    "**Question 8.0**\n",
    "<br> {points: 1}\n",
    "\n",
    "If you haven't noticed by now, the major difference compared to other workflows from Chapters 6 and 7 is that we are running a *regression* rather than a *classification*. Specifying *regression* in the `set_mode` function essentially tells `tidymodels` that we need to use different metrics (RMPSE rather than accuracy) for tuning and evaluation. \n",
    "\n",
    "Now, let's use the RMSPE to find the best setting for $k$ from our workflow. Let's test 200 values of $k$. \n",
    "\n",
    "First, create a tibble with a column called `neighbors` that contains a sequence of values, 1 to 200. Assign that tibble to an object called `gridvals`. \n",
    "\n",
    "Next, tune your workflow such that it tests all the values in `gridvals` and *resamples* using your cross-validation data set. Finally, collect the statistics from your model. Assign your answer to an object called `marathon_results`."
   ]
  },
  {
   "cell_type": "code",
   "execution_count": 108,
   "metadata": {
    "deletable": false,
    "nbgrader": {
     "cell_type": "code",
     "checksum": "79b57741a3f0d43055e78fc0f333749c",
     "grade": false,
     "grade_id": "cell-8c7e7ded673d28ec",
     "locked": false,
     "schema_version": 3,
     "solution": true
    }
   },
   "outputs": [
    {
     "data": {
      "text/html": [
       "<table>\n",
       "<caption>A tibble: 400 × 7</caption>\n",
       "<thead>\n",
       "\t<tr><th scope=col>neighbors</th><th scope=col>.metric</th><th scope=col>.estimator</th><th scope=col>mean</th><th scope=col>n</th><th scope=col>std_err</th><th scope=col>.config</th></tr>\n",
       "\t<tr><th scope=col>&lt;int&gt;</th><th scope=col>&lt;chr&gt;</th><th scope=col>&lt;chr&gt;</th><th scope=col>&lt;dbl&gt;</th><th scope=col>&lt;int&gt;</th><th scope=col>&lt;dbl&gt;</th><th scope=col>&lt;chr&gt;</th></tr>\n",
       "</thead>\n",
       "<tbody>\n",
       "\t<tr><td>1</td><td>rmse</td><td>standard</td><td>0.8599846</td><td>5</td><td>0.02490756</td><td>Model001</td></tr>\n",
       "\t<tr><td>1</td><td>rsq </td><td>standard</td><td>0.1289059</td><td>5</td><td>0.02016052</td><td>Model001</td></tr>\n",
       "\t<tr><td>2</td><td>rmse</td><td>standard</td><td>0.7327371</td><td>5</td><td>0.01704874</td><td>Model002</td></tr>\n",
       "\t<tr><td>⋮</td><td>⋮</td><td>⋮</td><td>⋮</td><td>⋮</td><td>⋮</td><td>⋮</td></tr>\n",
       "\t<tr><td>199</td><td>rsq </td><td>standard</td><td>0.3515478</td><td>5</td><td>0.02309739</td><td>Model199</td></tr>\n",
       "\t<tr><td>200</td><td>rmse</td><td>standard</td><td>0.5871165</td><td>5</td><td>0.01089688</td><td>Model200</td></tr>\n",
       "\t<tr><td>200</td><td>rsq </td><td>standard</td><td>0.3504695</td><td>5</td><td>0.02278254</td><td>Model200</td></tr>\n",
       "</tbody>\n",
       "</table>\n"
      ],
      "text/latex": [
       "A tibble: 400 × 7\n",
       "\\begin{tabular}{lllllll}\n",
       " neighbors & .metric & .estimator & mean & n & std\\_err & .config\\\\\n",
       " <int> & <chr> & <chr> & <dbl> & <int> & <dbl> & <chr>\\\\\n",
       "\\hline\n",
       "\t 1 & rmse & standard & 0.8599846 & 5 & 0.02490756 & Model001\\\\\n",
       "\t 1 & rsq  & standard & 0.1289059 & 5 & 0.02016052 & Model001\\\\\n",
       "\t 2 & rmse & standard & 0.7327371 & 5 & 0.01704874 & Model002\\\\\n",
       "\t ⋮ & ⋮ & ⋮ & ⋮ & ⋮ & ⋮ & ⋮\\\\\n",
       "\t 199 & rsq  & standard & 0.3515478 & 5 & 0.02309739 & Model199\\\\\n",
       "\t 200 & rmse & standard & 0.5871165 & 5 & 0.01089688 & Model200\\\\\n",
       "\t 200 & rsq  & standard & 0.3504695 & 5 & 0.02278254 & Model200\\\\\n",
       "\\end{tabular}\n"
      ],
      "text/markdown": [
       "\n",
       "A tibble: 400 × 7\n",
       "\n",
       "| neighbors &lt;int&gt; | .metric &lt;chr&gt; | .estimator &lt;chr&gt; | mean &lt;dbl&gt; | n &lt;int&gt; | std_err &lt;dbl&gt; | .config &lt;chr&gt; |\n",
       "|---|---|---|---|---|---|---|\n",
       "| 1 | rmse | standard | 0.8599846 | 5 | 0.02490756 | Model001 |\n",
       "| 1 | rsq  | standard | 0.1289059 | 5 | 0.02016052 | Model001 |\n",
       "| 2 | rmse | standard | 0.7327371 | 5 | 0.01704874 | Model002 |\n",
       "| ⋮ | ⋮ | ⋮ | ⋮ | ⋮ | ⋮ | ⋮ |\n",
       "| 199 | rsq  | standard | 0.3515478 | 5 | 0.02309739 | Model199 |\n",
       "| 200 | rmse | standard | 0.5871165 | 5 | 0.01089688 | Model200 |\n",
       "| 200 | rsq  | standard | 0.3504695 | 5 | 0.02278254 | Model200 |\n",
       "\n"
      ],
      "text/plain": [
       "    neighbors .metric .estimator mean      n std_err    .config \n",
       "1   1         rmse    standard   0.8599846 5 0.02490756 Model001\n",
       "2   1         rsq     standard   0.1289059 5 0.02016052 Model001\n",
       "3   2         rmse    standard   0.7327371 5 0.01704874 Model002\n",
       "⋮   ⋮         ⋮       ⋮          ⋮         ⋮ ⋮          ⋮       \n",
       "398 199       rsq     standard   0.3515478 5 0.02309739 Model199\n",
       "399 200       rmse    standard   0.5871165 5 0.01089688 Model200\n",
       "400 200       rsq     standard   0.3504695 5 0.02278254 Model200"
      ]
     },
     "metadata": {},
     "output_type": "display_data"
    }
   ],
   "source": [
    "set.seed(2019) # DO NOT CHANGE\n",
    "\n",
    "gridvals <- tibble(neighbors = seq(1,200))\n",
    "\n",
    "marathon_results <- marathon_workflow %>%\n",
    "    tune_grid(resamples = marathon_vfold, grid = gridvals) %>%\n",
    "    collect_metrics()\n",
    "\n",
    "marathon_results"
   ]
  },
  {
   "cell_type": "code",
   "execution_count": 109,
   "metadata": {
    "deletable": false,
    "editable": false,
    "nbgrader": {
     "cell_type": "code",
     "checksum": "7c81641a87fa6819b68973bf5315d3c1",
     "grade": true,
     "grade_id": "cell-29d608ebfdd11366",
     "locked": true,
     "points": 1,
     "schema_version": 3,
     "solution": false
    }
   },
   "outputs": [
    {
     "name": "stdout",
     "output_type": "stream",
     "text": [
      "[1] \"Success!\"\n"
     ]
    }
   ],
   "source": [
    "test_8.0()"
   ]
  },
  {
   "cell_type": "markdown",
   "metadata": {
    "deletable": false,
    "editable": false,
    "nbgrader": {
     "cell_type": "markdown",
     "checksum": "ffc7314876aa53957c34b549d51a8367",
     "grade": false,
     "grade_id": "cell-35eaea9c384c5f6c",
     "locked": true,
     "schema_version": 3,
     "solution": false
    }
   },
   "source": [
    "**Question 8.1**\n",
    "<br> {points: 1}\n",
    "\n",
    "Great! Now find the *minimum* RMSPE along with it's associated metrics such as the mean and standard error, to help us find the number of neighbors that will serve as our best $k$ value. Your answer should simply be a tibble with one row. Assign your answer to an object called `marathon_min`."
   ]
  },
  {
   "cell_type": "code",
   "execution_count": 118,
   "metadata": {
    "deletable": false,
    "nbgrader": {
     "cell_type": "code",
     "checksum": "1b21f631a9ba3e2a81b8b70606158bb9",
     "grade": false,
     "grade_id": "cell-f9738d45da9e8a77",
     "locked": false,
     "schema_version": 3,
     "solution": true
    }
   },
   "outputs": [
    {
     "data": {
      "text/html": [
       "<table>\n",
       "<caption>A tibble: 1 × 7</caption>\n",
       "<thead>\n",
       "\t<tr><th scope=col>neighbors</th><th scope=col>.metric</th><th scope=col>.estimator</th><th scope=col>mean</th><th scope=col>n</th><th scope=col>std_err</th><th scope=col>.config</th></tr>\n",
       "\t<tr><th scope=col>&lt;int&gt;</th><th scope=col>&lt;chr&gt;</th><th scope=col>&lt;chr&gt;</th><th scope=col>&lt;dbl&gt;</th><th scope=col>&lt;int&gt;</th><th scope=col>&lt;dbl&gt;</th><th scope=col>&lt;chr&gt;</th></tr>\n",
       "</thead>\n",
       "<tbody>\n",
       "\t<tr><td>76</td><td>rmse</td><td>standard</td><td>0.5755473</td><td>5</td><td>0.01094282</td><td>Model076</td></tr>\n",
       "</tbody>\n",
       "</table>\n"
      ],
      "text/latex": [
       "A tibble: 1 × 7\n",
       "\\begin{tabular}{lllllll}\n",
       " neighbors & .metric & .estimator & mean & n & std\\_err & .config\\\\\n",
       " <int> & <chr> & <chr> & <dbl> & <int> & <dbl> & <chr>\\\\\n",
       "\\hline\n",
       "\t 76 & rmse & standard & 0.5755473 & 5 & 0.01094282 & Model076\\\\\n",
       "\\end{tabular}\n"
      ],
      "text/markdown": [
       "\n",
       "A tibble: 1 × 7\n",
       "\n",
       "| neighbors &lt;int&gt; | .metric &lt;chr&gt; | .estimator &lt;chr&gt; | mean &lt;dbl&gt; | n &lt;int&gt; | std_err &lt;dbl&gt; | .config &lt;chr&gt; |\n",
       "|---|---|---|---|---|---|---|\n",
       "| 76 | rmse | standard | 0.5755473 | 5 | 0.01094282 | Model076 |\n",
       "\n"
      ],
      "text/plain": [
       "  neighbors .metric .estimator mean      n std_err    .config \n",
       "1 76        rmse    standard   0.5755473 5 0.01094282 Model076"
      ]
     },
     "metadata": {},
     "output_type": "display_data"
    }
   ],
   "source": [
    "set.seed(2020) # DO NOT REMOVE\n",
    "\n",
    "#... <- marathon_results %>%\n",
    "#    filter(.metric == ...) %>%\n",
    "#    arrange(...) %>% \n",
    "#    ...\n",
    "\n",
    "marathon_min <- marathon_results %>%\n",
    "    filter(.metric == \"rmse\") %>%\n",
    "    filter(mean == min(mean))\n",
    "\n",
    "marathon_min"
   ]
  },
  {
   "cell_type": "code",
   "execution_count": 119,
   "metadata": {
    "deletable": false,
    "editable": false,
    "nbgrader": {
     "cell_type": "code",
     "checksum": "f6e36629a5557baacb615205df90e6f7",
     "grade": true,
     "grade_id": "cell-a1e34e1fb62d79f5",
     "locked": true,
     "points": 1,
     "schema_version": 3,
     "solution": false
    }
   },
   "outputs": [
    {
     "name": "stdout",
     "output_type": "stream",
     "text": [
      "[1] \"Success!\"\n"
     ]
    }
   ],
   "source": [
    "test_8.1()"
   ]
  },
  {
   "cell_type": "markdown",
   "metadata": {
    "deletable": false,
    "editable": false,
    "nbgrader": {
     "cell_type": "markdown",
     "checksum": "059df927a68d576994b89a53009dd594",
     "grade": false,
     "grade_id": "cell-28a414eb59f5ae20",
     "locked": true,
     "schema_version": 3,
     "solution": false
    }
   },
   "source": [
    "**Question 8.2**\n",
    "<br> {points: 1}\n",
    "\n",
    "To assess how well our model might do at predicting on unseen data, we will assess its RMSPE on the test data. To do this, we will first re-train our $k$-nn regression model on the entire training data set, using the $K$ value we obtained from **Question 8.1**. \n",
    "\n",
    "To start, pull the best `neighbors` value from `marathon_min` and store it an object called `k_min`. \n",
    "\n",
    "Following that, we will repeat the workflow analysis again but with a brand new model specification with `k_min`. Remember, we are doing a regression analysis, so please select the appropriate mode. Store your new model specification in an object called `marathon_best_spec` and your new workflow analysis in an object called `marathon_best_fit`. You can reuse this `marathon_recipe` for this workflow, as we do not need to change it for this task.\n",
    "\n",
    "Then, we will use the `predict` function to make predictions on the test data, and use the `metrics` function again to compute a summary of the regression's quality. Store your answer in an object called `marathon_summary`. "
   ]
  },
  {
   "cell_type": "code",
   "execution_count": 125,
   "metadata": {
    "deletable": false,
    "nbgrader": {
     "cell_type": "code",
     "checksum": "47f4305dff23a9a5b3678b5e7979a761",
     "grade": false,
     "grade_id": "cell-a4de6046a0bd5f96",
     "locked": false,
     "schema_version": 3,
     "solution": true
    }
   },
   "outputs": [
    {
     "data": {
      "text/html": [
       "<table>\n",
       "<caption>A tibble: 3 × 3</caption>\n",
       "<thead>\n",
       "\t<tr><th scope=col>.metric</th><th scope=col>.estimator</th><th scope=col>.estimate</th></tr>\n",
       "\t<tr><th scope=col>&lt;chr&gt;</th><th scope=col>&lt;chr&gt;</th><th scope=col>&lt;dbl&gt;</th></tr>\n",
       "</thead>\n",
       "<tbody>\n",
       "\t<tr><td>rmse</td><td>standard</td><td>0.6064985</td></tr>\n",
       "\t<tr><td>rsq </td><td>standard</td><td>0.3901868</td></tr>\n",
       "\t<tr><td>mae </td><td>standard</td><td>0.4536921</td></tr>\n",
       "</tbody>\n",
       "</table>\n"
      ],
      "text/latex": [
       "A tibble: 3 × 3\n",
       "\\begin{tabular}{lll}\n",
       " .metric & .estimator & .estimate\\\\\n",
       " <chr> & <chr> & <dbl>\\\\\n",
       "\\hline\n",
       "\t rmse & standard & 0.6064985\\\\\n",
       "\t rsq  & standard & 0.3901868\\\\\n",
       "\t mae  & standard & 0.4536921\\\\\n",
       "\\end{tabular}\n"
      ],
      "text/markdown": [
       "\n",
       "A tibble: 3 × 3\n",
       "\n",
       "| .metric &lt;chr&gt; | .estimator &lt;chr&gt; | .estimate &lt;dbl&gt; |\n",
       "|---|---|---|\n",
       "| rmse | standard | 0.6064985 |\n",
       "| rsq  | standard | 0.3901868 |\n",
       "| mae  | standard | 0.4536921 |\n",
       "\n"
      ],
      "text/plain": [
       "  .metric .estimator .estimate\n",
       "1 rmse    standard   0.6064985\n",
       "2 rsq     standard   0.3901868\n",
       "3 mae     standard   0.4536921"
      ]
     },
     "metadata": {},
     "output_type": "display_data"
    }
   ],
   "source": [
    "set.seed(1234) # DO NOT REMOVE\n",
    "\n",
    "#... <- marathon_min %>%\n",
    "#          pull(...)\n",
    "\n",
    "k_min <- marathon_min %>%\n",
    "    pull(neighbors)\n",
    "\n",
    "#... <- nearest_neighbor(weight_func = ..., neighbors = ...) %>%\n",
    "#          set_engine(...) %>%\n",
    "#          set_mode(...)\n",
    "\n",
    "marathon_best_spec <- nearest_neighbor(weight_func = \"rectangular\", neighbors = k_min) %>%\n",
    "    set_engine(\"kknn\") %>%\n",
    "    set_mode(\"regression\")\n",
    "\n",
    "#... <- workflow() %>%\n",
    "#          add_recipe(...) %>%\n",
    "#          add_model(...) %>%\n",
    "#          fit(data = ...)\n",
    "\n",
    "marathon_best_fit <- workflow() %>%\n",
    "    add_recipe(marathon_recipe) %>%\n",
    "    add_model(marathon_best_spec) %>%\n",
    "    fit(data = marathon_training)\n",
    "\n",
    "#... <- marathon_best_fit %>%\n",
    "#           predict(...) %>%\n",
    "#           bind_cols(...) %>%\n",
    "#           metrics(truth = ..., estimate = ...)\n",
    "\n",
    "marathon_summary <- marathon_best_fit %>%\n",
    "    predict(marathon_testing) %>%\n",
    "    bind_cols(marathon_testing) %>%\n",
    "    metrics(truth = time_hrs, estimate = .pred)\n",
    "\n",
    "marathon_summary"
   ]
  },
  {
   "cell_type": "code",
   "execution_count": 126,
   "metadata": {
    "deletable": false,
    "editable": false,
    "nbgrader": {
     "cell_type": "code",
     "checksum": "bf6b13b252a8b4c0bb2fb63a8e8623e3",
     "grade": true,
     "grade_id": "cell-94fab75dca459b65",
     "locked": true,
     "points": 1,
     "schema_version": 3,
     "solution": false
    }
   },
   "outputs": [
    {
     "name": "stdout",
     "output_type": "stream",
     "text": [
      "[1] \"Success!\"\n"
     ]
    }
   ],
   "source": [
    "test_8.2()"
   ]
  },
  {
   "cell_type": "markdown",
   "metadata": {
    "deletable": false,
    "editable": false,
    "nbgrader": {
     "cell_type": "markdown",
     "checksum": "1feec2b034696ca26148ef224854254e",
     "grade": false,
     "grade_id": "cell-dffef3173aff9b72",
     "locked": true,
     "schema_version": 3,
     "solution": false,
     "task": false
    }
   },
   "source": [
    "What does this RMSPE score mean? RMSPE is measured in the units of the target/response variable, so it can sometimes be a bit hard to interpret. But in this case, we know that a typical marathon race time is somewhere between 3 - 5 hours. So this model allows us to predict a runner's race time up to about +/-0.6 of an hour, or +/- 36 minutes. This is not *fantastic*, but not *terrible* either. We can certainly use the model to determine roughly whether an athlete will have a bad, good, or excellent race time, but probably cannot reliably distinguish between athletes of a similar caliber.\n",
    "\n",
    "For now, let’s consider this approach to thinking about RMSPE from our testing data set: as long as its not significantly worse than the cross-validation RMSPE of our best model (**Question 8.1**), then we can say that we’re not doing too much worse on the test data than we did on the training data. In future courses on statistical/machine learning, you will learn more about how to interpret RMSPE from testing data and other ways to assess models.  "
   ]
  },
  {
   "cell_type": "markdown",
   "metadata": {
    "deletable": false,
    "editable": false,
    "nbgrader": {
     "cell_type": "markdown",
     "checksum": "553011861ab39af59d82c7ff28c78d80",
     "grade": false,
     "grade_id": "cell-ed97bb769cc923e5",
     "locked": true,
     "schema_version": 3,
     "solution": false,
     "task": false
    }
   },
   "source": [
    "**Question 8.3** True or False:\n",
    "<br>{points: 1}\n",
    "\n",
    "The RMPSE from our testing data set is *much worse* than the cross-validation RMPSE of our best model. \n",
    "\n",
    "*Assign your answer to an object named `answer8.3`. Make sure your answer is in lowercase and is surrounded by quotation marks (e.g. `\"true\"` or `\"false\"`).*"
   ]
  },
  {
   "cell_type": "code",
   "execution_count": 130,
   "metadata": {
    "deletable": false,
    "nbgrader": {
     "cell_type": "code",
     "checksum": "57ecd2f6ac40fa40cd040ffc75fc7ce5",
     "grade": false,
     "grade_id": "cell-24ccc13552b0fff1",
     "locked": false,
     "schema_version": 3,
     "solution": true,
     "task": false
    }
   },
   "outputs": [],
   "source": [
    "answer8.3 <- \"false\""
   ]
  },
  {
   "cell_type": "code",
   "execution_count": 131,
   "metadata": {
    "deletable": false,
    "editable": false,
    "nbgrader": {
     "cell_type": "code",
     "checksum": "3b2b852563c34672bc858020794b7a51",
     "grade": true,
     "grade_id": "cell-f39ed1223c189ec6",
     "locked": true,
     "points": 1,
     "schema_version": 3,
     "solution": false,
     "task": false
    }
   },
   "outputs": [
    {
     "name": "stdout",
     "output_type": "stream",
     "text": [
      "[1] \"Success!\"\n"
     ]
    }
   ],
   "source": [
    "test_8.3()"
   ]
  },
  {
   "cell_type": "markdown",
   "metadata": {
    "deletable": false,
    "editable": false,
    "nbgrader": {
     "cell_type": "markdown",
     "checksum": "deaf4725250f9437bce2f1df58c463f0",
     "grade": false,
     "grade_id": "cell-f527fba0cc1ca89d",
     "locked": true,
     "schema_version": 3,
     "solution": false
    }
   },
   "source": [
    "**Question 9.0**\n",
    "<br> {points: 1}\n",
    "\n",
    "Let's visualize what the relationship between `max` and `time_hrs` looks like with our best $k$ value to ultimately explore how the $k$ value affects $k$-nn regression.\n",
    "\n",
    "To do so, use the `predict` function on the workflow analysis that utilizes the best $k$ value (`marathon_best_fit`) to create predictions for the `marathon_training` data. Then, add the column of predictions to the `marathon_training` data frame. Name the resulting data frame `marathon_preds`.\n",
    "\n",
    "Next, create a scatterplot with the maximum distance ran per week against the marathon time from `marathon_preds`. Assign your plot to an object called `marathon_plot`. **Plot the predictions as a blue line over the data points.** Remember the fundamentals of effective visualizations such as having a **title** and **human-readable axes**. "
   ]
  },
  {
   "cell_type": "code",
   "execution_count": 143,
   "metadata": {
    "deletable": false,
    "nbgrader": {
     "cell_type": "code",
     "checksum": "dd315f90974d6f742929f677f91a1807",
     "grade": false,
     "grade_id": "cell-e623a65f902a7e98",
     "locked": false,
     "schema_version": 3,
     "solution": true
    }
   },
   "outputs": [
    {
     "data": {
      "image/png": "[encoded data removed]",
      "text/plain": [
       "plot without title"
      ]
     },
     "metadata": {
      "image/png": {
       "height": 420,
       "width": 420
      }
     },
     "output_type": "display_data"
    }
   ],
   "source": [
    "set.seed(2019) # DO NOT CHANGE\n",
    "\n",
    "options(repr.plot.width = 7, repr.plot.height = 7)\n",
    "\n",
    "marathon_preds <- marathon_best_fit %>%\n",
    "    predict(marathon_training) %>%\n",
    "    bind_cols(marathon_training)\n",
    "\n",
    "marathon_plot <- ggplot(marathon_training, aes(x = max, y = time_hrs)) +\n",
    "    geom_point(alpha = 0.4) +\n",
    "    geom_line(data = marathon_preds,\n",
    "              mapping = aes(x = max, y = .pred),\n",
    "              color = \"blue\") +\n",
    "    labs(x = \"Maximum Distance Ran Per Week (miles)\", y = \"Race Time (hours)\", title = \"Race time vs maximum distance ran per \\nweek\") +\n",
    "    theme(text = element_text(size = 20))\n",
    "\n",
    "marathon_plot"
   ]
  },
  {
   "cell_type": "code",
   "execution_count": 144,
   "metadata": {
    "deletable": false,
    "editable": false,
    "nbgrader": {
     "cell_type": "code",
     "checksum": "4a77a1e19f18c0f4a00480edc90d717c",
     "grade": true,
     "grade_id": "cell-5eff9c974a058bdf",
     "locked": true,
     "points": 1,
     "schema_version": 3,
     "solution": false
    }
   },
   "outputs": [
    {
     "name": "stdout",
     "output_type": "stream",
     "text": [
      "[1] \"Success!\"\n"
     ]
    }
   ],
   "source": [
    "test_9.0()"
   ]
  },
  {
   "cell_type": "code",
   "execution_count": 1,
   "metadata": {},
   "outputs": [
    {
     "data": {
      "text/html": [
       "3.77491721763537"
      ],
      "text/latex": [
       "3.77491721763537"
      ],
      "text/markdown": [
       "3.77491721763537"
      ],
      "text/plain": [
       "[1] 3.774917"
      ]
     },
     "metadata": {},
     "output_type": "display_data"
    }
   ],
   "source": [
    "sqrt((1/4)*((100 - 100)^2 + (105 - 110)^2 + (50 - 54)^2 + (77 - 73)^2)) "
   ]
  },
  {
   "cell_type": "code",
   "execution_count": null,
   "metadata": {
    "deletable": false,
    "editable": false,
    "nbgrader": {
     "cell_type": "code",
     "checksum": "d5cf62004c345beddfaf41df95ed2cf3",
     "grade": false,
     "grade_id": "cell-9e4e71e1e8bff87c",
     "locked": true,
     "schema_version": 3,
     "solution": false,
     "task": false
    }
   },
   "outputs": [],
   "source": [
    "source('cleanup.R')"
   ]
  }
 ],
 "metadata": {
  "kernelspec": {
   "display_name": "R",
   "language": "R",
   "name": "ir"
  },
  "language_info": {
   "codemirror_mode": "r",
   "file_extension": ".r",
   "mimetype": "text/x-r-source",
   "name": "R",
   "pygments_lexer": "r",
   "version": "4.0.0"
  }
 },
 "nbformat": 4,
 "nbformat_minor": 4
}
