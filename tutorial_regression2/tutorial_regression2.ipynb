{
 "cells": [
  {
   "cell_type": "markdown",
   "metadata": {
    "deletable": false,
    "editable": false,
    "nbgrader": {
     "cell_type": "markdown",
     "checksum": "55a117f86a846cddbdc9c41f1dca04a7",
     "grade": false,
     "grade_id": "cell-63e551f4dad255b8",
     "locked": true,
     "schema_version": 3,
     "solution": false,
     "task": false
    }
   },
   "source": [
    "# Tutorial 9: Regression Continued\n",
    "\n",
    "**Regression learning objectives**: \n",
    "\n",
    "* Recognize situations where a simple regression analysis would be appropriate for making predictions.\n",
    "* Explain the $k$-nearest neighbour ($k$-nn) regression algorithm and describe how it differs from k-nn classification.\n",
    "* Interpret the output of a $k$-nn regression.\n",
    "* In a dataset with two variables, perform $k$-nearest neighbour regression in R using `tidymodels` to predict the values for a test dataset.\n",
    "* Using R, execute cross-validation in R to choose the number of neighbours.\n",
    "* Using R, evaluate $k$-nn regression prediction accuracy using  a test data set and an appropriate metric (*e.g.*, root means square prediction error).\n",
    "* In a dataset with > 2 variables, perform $k$-nn regression in R using `tidymodels` to predict the values for a test dataset.\n",
    "* In the context of $k$-nn regression, compare and contrast goodness of fit and prediction properties (namely RMSE vs RMSPE).\n",
    "* Describe advantages and disadvantages of the $k$-nearest neighbour regression approach.\n",
    "* Perform ordinary least squares regression in R using `tidymodels` to predict the values for a test dataset.\n",
    "* Compare and contrast predictions obtained from $k$-nearest neighbour regression to those obtained using simple ordinary least squares regression from the same dataset.\n",
    "* In R, overlay the ordinary least squares regression lines from `geom_smooth` on a single plot. "
   ]
  },
  {
   "cell_type": "code",
   "execution_count": 1,
   "metadata": {
    "deletable": false,
    "editable": false,
    "nbgrader": {
     "cell_type": "code",
     "checksum": "8a61466512d3e2ccc8d8cd160542545a",
     "grade": false,
     "grade_id": "cell-7b457a3bc36388de",
     "locked": true,
     "schema_version": 3,
     "solution": false,
     "task": false
    }
   },
   "outputs": [
    {
     "name": "stderr",
     "output_type": "stream",
     "text": [
      "── \u001b[1mAttaching packages\u001b[22m ─────────────────────────────────────── tidyverse 1.3.0 ──\n",
      "\n",
      "\u001b[32m✔\u001b[39m \u001b[34mggplot2\u001b[39m 3.3.2     \u001b[32m✔\u001b[39m \u001b[34mpurrr  \u001b[39m 0.3.4\n",
      "\u001b[32m✔\u001b[39m \u001b[34mtibble \u001b[39m 3.0.3     \u001b[32m✔\u001b[39m \u001b[34mdplyr  \u001b[39m 1.0.2\n",
      "\u001b[32m✔\u001b[39m \u001b[34mtidyr  \u001b[39m 1.1.2     \u001b[32m✔\u001b[39m \u001b[34mstringr\u001b[39m 1.4.0\n",
      "\u001b[32m✔\u001b[39m \u001b[34mreadr  \u001b[39m 1.3.1     \u001b[32m✔\u001b[39m \u001b[34mforcats\u001b[39m 0.5.0\n",
      "\n",
      "Warning message:\n",
      "“package ‘ggplot2’ was built under R version 4.0.1”\n",
      "Warning message:\n",
      "“package ‘tibble’ was built under R version 4.0.2”\n",
      "Warning message:\n",
      "“package ‘tidyr’ was built under R version 4.0.2”\n",
      "Warning message:\n",
      "“package ‘dplyr’ was built under R version 4.0.2”\n",
      "── \u001b[1mConflicts\u001b[22m ────────────────────────────────────────── tidyverse_conflicts() ──\n",
      "\u001b[31m✖\u001b[39m \u001b[34mdplyr\u001b[39m::\u001b[32mfilter()\u001b[39m masks \u001b[34mstats\u001b[39m::filter()\n",
      "\u001b[31m✖\u001b[39m \u001b[34mdplyr\u001b[39m::\u001b[32mlag()\u001b[39m    masks \u001b[34mstats\u001b[39m::lag()\n",
      "\n",
      "\n",
      "Attaching package: ‘testthat’\n",
      "\n",
      "\n",
      "The following object is masked from ‘package:dplyr’:\n",
      "\n",
      "    matches\n",
      "\n",
      "\n",
      "The following object is masked from ‘package:purrr’:\n",
      "\n",
      "    is_null\n",
      "\n",
      "\n",
      "The following object is masked from ‘package:tidyr’:\n",
      "\n",
      "    matches\n",
      "\n",
      "\n",
      "Warning message:\n",
      "“package ‘tidymodels’ was built under R version 4.0.2”\n",
      "── \u001b[1mAttaching packages\u001b[22m ────────────────────────────────────── tidymodels 0.1.1 ──\n",
      "\n",
      "\u001b[32m✔\u001b[39m \u001b[34mbroom    \u001b[39m 0.7.0      \u001b[32m✔\u001b[39m \u001b[34mrecipes  \u001b[39m 0.1.13\n",
      "\u001b[32m✔\u001b[39m \u001b[34mdials    \u001b[39m 0.0.9      \u001b[32m✔\u001b[39m \u001b[34mrsample  \u001b[39m 0.0.7 \n",
      "\u001b[32m✔\u001b[39m \u001b[34minfer    \u001b[39m 0.5.4      \u001b[32m✔\u001b[39m \u001b[34mtune     \u001b[39m 0.1.1 \n",
      "\u001b[32m✔\u001b[39m \u001b[34mmodeldata\u001b[39m 0.0.2      \u001b[32m✔\u001b[39m \u001b[34mworkflows\u001b[39m 0.2.0 \n",
      "\u001b[32m✔\u001b[39m \u001b[34mparsnip  \u001b[39m 0.1.3      \u001b[32m✔\u001b[39m \u001b[34myardstick\u001b[39m 0.0.7 \n",
      "\n",
      "Warning message:\n",
      "“package ‘broom’ was built under R version 4.0.2”\n",
      "Warning message:\n",
      "“package ‘dials’ was built under R version 4.0.2”\n",
      "Warning message:\n",
      "“package ‘infer’ was built under R version 4.0.3”\n",
      "Warning message:\n",
      "“package ‘modeldata’ was built under R version 4.0.1”\n",
      "Warning message:\n",
      "“package ‘parsnip’ was built under R version 4.0.2”\n",
      "Warning message:\n",
      "“package ‘recipes’ was built under R version 4.0.1”\n",
      "Warning message:\n",
      "“package ‘tune’ was built under R version 4.0.2”\n",
      "Warning message:\n",
      "“package ‘workflows’ was built under R version 4.0.2”\n",
      "Warning message:\n",
      "“package ‘yardstick’ was built under R version 4.0.2”\n",
      "── \u001b[1mConflicts\u001b[22m ───────────────────────────────────────── tidymodels_conflicts() ──\n",
      "\u001b[31m✖\u001b[39m \u001b[34mscales\u001b[39m::\u001b[32mdiscard()\u001b[39m   masks \u001b[34mpurrr\u001b[39m::discard()\n",
      "\u001b[31m✖\u001b[39m \u001b[34mdplyr\u001b[39m::\u001b[32mfilter()\u001b[39m     masks \u001b[34mstats\u001b[39m::filter()\n",
      "\u001b[31m✖\u001b[39m \u001b[34mrecipes\u001b[39m::\u001b[32mfixed()\u001b[39m    masks \u001b[34mstringr\u001b[39m::fixed()\n",
      "\u001b[31m✖\u001b[39m \u001b[34mtestthat\u001b[39m::\u001b[32mis_null()\u001b[39m masks \u001b[34mpurrr\u001b[39m::is_null()\n",
      "\u001b[31m✖\u001b[39m \u001b[34mdplyr\u001b[39m::\u001b[32mlag()\u001b[39m        masks \u001b[34mstats\u001b[39m::lag()\n",
      "\u001b[31m✖\u001b[39m \u001b[34mtestthat\u001b[39m::\u001b[32mmatches()\u001b[39m masks \u001b[34mdplyr\u001b[39m::matches(), \u001b[34mtidyr\u001b[39m::matches()\n",
      "\u001b[31m✖\u001b[39m \u001b[34myardstick\u001b[39m::\u001b[32mspec()\u001b[39m   masks \u001b[34mreadr\u001b[39m::spec()\n",
      "\u001b[31m✖\u001b[39m \u001b[34mrecipes\u001b[39m::\u001b[32mstep()\u001b[39m     masks \u001b[34mstats\u001b[39m::step()\n",
      "\n",
      "Registered S3 method overwritten by 'GGally':\n",
      "  method from   \n",
      "  +.gg   ggplot2\n",
      "\n",
      "Warning message:\n",
      "“package ‘rlang’ was built under R version 4.0.2”\n",
      "\n",
      "Attaching package: ‘rlang’\n",
      "\n",
      "\n",
      "The following objects are masked from ‘package:testthat’:\n",
      "\n",
      "    is_false, is_null, is_true\n",
      "\n",
      "\n",
      "The following objects are masked from ‘package:purrr’:\n",
      "\n",
      "    %@%, as_function, flatten, flatten_chr, flatten_dbl, flatten_int,\n",
      "    flatten_lgl, flatten_raw, invoke, list_along, modify, prepend,\n",
      "    splice\n",
      "\n",
      "\n"
     ]
    }
   ],
   "source": [
    "### Run this cell before continuing.\n",
    "library(tidyverse)\n",
    "library(testthat)\n",
    "library(digest)\n",
    "library(repr)\n",
    "library(tidymodels)\n",
    "library(GGally)\n",
    "library(ISLR)\n",
    "options(repr.matrix.max.rows = 6)\n",
    "source(\"tests.R\")\n",
    "source(\"cleanup.R\")"
   ]
  },
  {
   "cell_type": "markdown",
   "metadata": {
    "deletable": false,
    "editable": false,
    "nbgrader": {
     "cell_type": "markdown",
     "checksum": "4dcf7fc04c1db294415cac5732c32b8a",
     "grade": false,
     "grade_id": "cell-c422b97008fe2c60",
     "locked": true,
     "schema_version": 3,
     "solution": false,
     "task": false
    }
   },
   "source": [
    "## Predicting credit card balance\n",
    "\n",
    "<img src='https://media.giphy.com/media/LCdPNT81vlv3y/giphy-downsized-large.gif' align=\"left\" width='400'>"
   ]
  },
  {
   "cell_type": "markdown",
   "metadata": {
    "deletable": false,
    "editable": false,
    "nbgrader": {
     "cell_type": "markdown",
     "checksum": "333345e00ec1f82749f73a17935beb96",
     "grade": false,
     "grade_id": "cell-7383d2428d0d989a",
     "locked": true,
     "schema_version": 3,
     "solution": false,
     "task": false
    }
   },
   "source": [
    "Source: https://media.giphy.com/media/LCdPNT81vlv3y/giphy-downsized-large.gif\n",
    "\n",
    "Here in this worksheet we will work with a simulated data set that contains information that we can use to create a model to predict customer credit card balance. A bank might use such information to predict which customers might be the most profitable to lend to (customers who carry a balance, but do not default, for example).\n",
    "\n",
    "Specifically, we wish to build a model to predict credit card balance (`Balance` column) based on income (`Income` column) and credit rating (`Rating` column)."
   ]
  },
  {
   "cell_type": "markdown",
   "metadata": {
    "deletable": false,
    "editable": false,
    "nbgrader": {
     "cell_type": "markdown",
     "checksum": "a2f13adf7bd031073ae6d7e5feab44ce",
     "grade": false,
     "grade_id": "cell-802418710dd13a37",
     "locked": true,
     "schema_version": 3,
     "solution": false,
     "task": false
    }
   },
   "source": [
    "We access this data set by accessing it from an R data package that we loaded at the beginning of the worksheet, `ISLR`. Loading that package gives access to a variety of data sets, including the `Credit` data set that we will be working with."
   ]
  },
  {
   "cell_type": "code",
   "execution_count": 2,
   "metadata": {
    "deletable": false,
    "editable": false,
    "nbgrader": {
     "cell_type": "code",
     "checksum": "6f11cc950de706c03a615dc10ac13ed5",
     "grade": false,
     "grade_id": "cell-7429888f4a5a274a",
     "locked": true,
     "schema_version": 3,
     "solution": false,
     "task": false
    }
   },
   "outputs": [
    {
     "data": {
      "text/html": [
       "<table>\n",
       "<caption>A data.frame: 400 × 12</caption>\n",
       "<thead>\n",
       "\t<tr><th scope=col>ID</th><th scope=col>Income</th><th scope=col>Limit</th><th scope=col>Rating</th><th scope=col>Cards</th><th scope=col>Age</th><th scope=col>Education</th><th scope=col>Gender</th><th scope=col>Student</th><th scope=col>Married</th><th scope=col>Ethnicity</th><th scope=col>Balance</th></tr>\n",
       "\t<tr><th scope=col>&lt;int&gt;</th><th scope=col>&lt;dbl&gt;</th><th scope=col>&lt;int&gt;</th><th scope=col>&lt;int&gt;</th><th scope=col>&lt;int&gt;</th><th scope=col>&lt;int&gt;</th><th scope=col>&lt;int&gt;</th><th scope=col>&lt;fct&gt;</th><th scope=col>&lt;fct&gt;</th><th scope=col>&lt;fct&gt;</th><th scope=col>&lt;fct&gt;</th><th scope=col>&lt;int&gt;</th></tr>\n",
       "</thead>\n",
       "<tbody>\n",
       "\t<tr><td>1</td><td> 14.891</td><td>3606</td><td>283</td><td>2</td><td>34</td><td>11</td><td> Male </td><td>No </td><td>Yes</td><td>Caucasian</td><td>333</td></tr>\n",
       "\t<tr><td>2</td><td>106.025</td><td>6645</td><td>483</td><td>3</td><td>82</td><td>15</td><td>Female</td><td>Yes</td><td>Yes</td><td>Asian    </td><td>903</td></tr>\n",
       "\t<tr><td>3</td><td>104.593</td><td>7075</td><td>514</td><td>4</td><td>71</td><td>11</td><td> Male </td><td>No </td><td>No </td><td>Asian    </td><td>580</td></tr>\n",
       "\t<tr><td>⋮</td><td>⋮</td><td>⋮</td><td>⋮</td><td>⋮</td><td>⋮</td><td>⋮</td><td>⋮</td><td>⋮</td><td>⋮</td><td>⋮</td><td>⋮</td></tr>\n",
       "\t<tr><td>398</td><td>57.872</td><td>4171</td><td>321</td><td>5</td><td>67</td><td>12</td><td>Female</td><td>No</td><td>Yes</td><td>Caucasian</td><td>138</td></tr>\n",
       "\t<tr><td>399</td><td>37.728</td><td>2525</td><td>192</td><td>1</td><td>44</td><td>13</td><td> Male </td><td>No</td><td>Yes</td><td>Caucasian</td><td>  0</td></tr>\n",
       "\t<tr><td>400</td><td>18.701</td><td>5524</td><td>415</td><td>5</td><td>64</td><td> 7</td><td>Female</td><td>No</td><td>No </td><td>Asian    </td><td>966</td></tr>\n",
       "</tbody>\n",
       "</table>\n"
      ],
      "text/latex": [
       "A data.frame: 400 × 12\n",
       "\\begin{tabular}{llllllllllll}\n",
       " ID & Income & Limit & Rating & Cards & Age & Education & Gender & Student & Married & Ethnicity & Balance\\\\\n",
       " <int> & <dbl> & <int> & <int> & <int> & <int> & <int> & <fct> & <fct> & <fct> & <fct> & <int>\\\\\n",
       "\\hline\n",
       "\t 1 &  14.891 & 3606 & 283 & 2 & 34 & 11 &  Male  & No  & Yes & Caucasian & 333\\\\\n",
       "\t 2 & 106.025 & 6645 & 483 & 3 & 82 & 15 & Female & Yes & Yes & Asian     & 903\\\\\n",
       "\t 3 & 104.593 & 7075 & 514 & 4 & 71 & 11 &  Male  & No  & No  & Asian     & 580\\\\\n",
       "\t ⋮ & ⋮ & ⋮ & ⋮ & ⋮ & ⋮ & ⋮ & ⋮ & ⋮ & ⋮ & ⋮ & ⋮\\\\\n",
       "\t 398 & 57.872 & 4171 & 321 & 5 & 67 & 12 & Female & No & Yes & Caucasian & 138\\\\\n",
       "\t 399 & 37.728 & 2525 & 192 & 1 & 44 & 13 &  Male  & No & Yes & Caucasian &   0\\\\\n",
       "\t 400 & 18.701 & 5524 & 415 & 5 & 64 &  7 & Female & No & No  & Asian     & 966\\\\\n",
       "\\end{tabular}\n"
      ],
      "text/markdown": [
       "\n",
       "A data.frame: 400 × 12\n",
       "\n",
       "| ID &lt;int&gt; | Income &lt;dbl&gt; | Limit &lt;int&gt; | Rating &lt;int&gt; | Cards &lt;int&gt; | Age &lt;int&gt; | Education &lt;int&gt; | Gender &lt;fct&gt; | Student &lt;fct&gt; | Married &lt;fct&gt; | Ethnicity &lt;fct&gt; | Balance &lt;int&gt; |\n",
       "|---|---|---|---|---|---|---|---|---|---|---|---|\n",
       "| 1 |  14.891 | 3606 | 283 | 2 | 34 | 11 |  Male  | No  | Yes | Caucasian | 333 |\n",
       "| 2 | 106.025 | 6645 | 483 | 3 | 82 | 15 | Female | Yes | Yes | Asian     | 903 |\n",
       "| 3 | 104.593 | 7075 | 514 | 4 | 71 | 11 |  Male  | No  | No  | Asian     | 580 |\n",
       "| ⋮ | ⋮ | ⋮ | ⋮ | ⋮ | ⋮ | ⋮ | ⋮ | ⋮ | ⋮ | ⋮ | ⋮ |\n",
       "| 398 | 57.872 | 4171 | 321 | 5 | 67 | 12 | Female | No | Yes | Caucasian | 138 |\n",
       "| 399 | 37.728 | 2525 | 192 | 1 | 44 | 13 |  Male  | No | Yes | Caucasian |   0 |\n",
       "| 400 | 18.701 | 5524 | 415 | 5 | 64 |  7 | Female | No | No  | Asian     | 966 |\n",
       "\n"
      ],
      "text/plain": [
       "    ID  Income  Limit Rating Cards Age Education Gender Student Married\n",
       "1   1    14.891 3606  283    2     34  11         Male  No      Yes    \n",
       "2   2   106.025 6645  483    3     82  15        Female Yes     Yes    \n",
       "3   3   104.593 7075  514    4     71  11         Male  No      No     \n",
       "⋮   ⋮   ⋮       ⋮     ⋮      ⋮     ⋮   ⋮         ⋮      ⋮       ⋮      \n",
       "398 398 57.872  4171  321    5     67  12        Female No      Yes    \n",
       "399 399 37.728  2525  192    1     44  13         Male  No      Yes    \n",
       "400 400 18.701  5524  415    5     64   7        Female No      No     \n",
       "    Ethnicity Balance\n",
       "1   Caucasian 333    \n",
       "2   Asian     903    \n",
       "3   Asian     580    \n",
       "⋮   ⋮         ⋮      \n",
       "398 Caucasian 138    \n",
       "399 Caucasian   0    \n",
       "400 Asian     966    "
      ]
     },
     "metadata": {},
     "output_type": "display_data"
    }
   ],
   "source": [
    "Credit"
   ]
  },
  {
   "cell_type": "code",
   "execution_count": 6,
   "metadata": {},
   "outputs": [
    {
     "data": {
      "text/html": [
       "-1.912"
      ],
      "text/latex": [
       "-1.912"
      ],
      "text/markdown": [
       "-1.912"
      ],
      "text/plain": [
       "[1] -1.912"
      ]
     },
     "metadata": {},
     "output_type": "display_data"
    },
    {
     "data": {
      "text/html": [
       "-9.05876"
      ],
      "text/latex": [
       "-9.05876"
      ],
      "text/markdown": [
       "-9.05876"
      ],
      "text/plain": [
       "[1] -9.05876"
      ]
     },
     "metadata": {},
     "output_type": "display_data"
    },
    {
     "data": {
      "text/html": [
       "25.93757"
      ],
      "text/latex": [
       "25.93757"
      ],
      "text/markdown": [
       "25.93757"
      ],
      "text/plain": [
       "[1] 25.93757"
      ]
     },
     "metadata": {},
     "output_type": "display_data"
    }
   ],
   "source": [
    "hp = -0.01912*100\n",
    "hp\n",
    "\n",
    "cyl = -2.26469*4\n",
    "cyl\n",
    "\n",
    "mpg = 36.90833 + hp + cyl\n",
    "mpg"
   ]
  },
  {
   "cell_type": "markdown",
   "metadata": {
    "deletable": false,
    "editable": false,
    "nbgrader": {
     "cell_type": "markdown",
     "checksum": "ca4a729d729182201f0505f69a97f730",
     "grade": false,
     "grade_id": "cell-50099db20db03328",
     "locked": true,
     "schema_version": 3,
     "solution": false,
     "task": false
    }
   },
   "source": [
    "**Question 1.1**\n",
    "<br> {points: 1}\n",
    "\n",
    "Select only the columns of data we are interested in using for our prediction (both the predictors and the response variable) and use the `as_tibble` function to convert it to a tibble (it is currently a base R data frame). Name the modified data frame `credit` (using a lowercase c).\n",
    "\n",
    "*Note: We could alternatively just leave these variables in and use our recipe formula below to specify our predictors and response. But for this worksheet, let's select the relevant columns first.*"
   ]
  },
  {
   "cell_type": "code",
   "execution_count": 5,
   "metadata": {
    "deletable": false,
    "nbgrader": {
     "cell_type": "code",
     "checksum": "9981c9c66ba813fab33808a277d6bed9",
     "grade": false,
     "grade_id": "cell-f8ecf1ab64d52b66",
     "locked": false,
     "schema_version": 3,
     "solution": true
    }
   },
   "outputs": [],
   "source": [
    "credit <- Credit %>%\n",
    "    as_tibble() %>%\n",
    "    select(Balance, Income, Rating)"
   ]
  },
  {
   "cell_type": "code",
   "execution_count": 6,
   "metadata": {
    "deletable": false,
    "editable": false,
    "nbgrader": {
     "cell_type": "code",
     "checksum": "44b636523dfd8e9c705dc4e1d899f584",
     "grade": true,
     "grade_id": "cell-9342aee7f4b97ddf",
     "locked": true,
     "points": 1,
     "schema_version": 3,
     "solution": false
    }
   },
   "outputs": [
    {
     "name": "stdout",
     "output_type": "stream",
     "text": [
      "[1] \"Success!\"\n"
     ]
    }
   ],
   "source": [
    "test_1.1()"
   ]
  },
  {
   "cell_type": "markdown",
   "metadata": {
    "deletable": false,
    "editable": false,
    "nbgrader": {
     "cell_type": "markdown",
     "checksum": "2f272644edbfc9334ad082035c268ef0",
     "grade": false,
     "grade_id": "cell-505c4d1e16fc257f",
     "locked": true,
     "schema_version": 3,
     "solution": false,
     "task": false
    }
   },
   "source": [
    "**Question 1.2**\n",
    "<br> {points: 1}\n",
    "\n",
    "**Before** we perform exploratory data analysis, we should create our training and testing data sets. First, split the `credit` data set. Use 60% of the data and set the variables we want to predict as the `strata` argument. Assign your answer to an object called `credit_split`.\n",
    "\n",
    "Assign your training data set to an object called `credit_training` and your testing data set to an object called `credit_testing`. "
   ]
  },
  {
   "cell_type": "code",
   "execution_count": 15,
   "metadata": {
    "deletable": false,
    "nbgrader": {
     "cell_type": "code",
     "checksum": "7c1dc4f5df9c94a67389c26ad8c7fdea",
     "grade": false,
     "grade_id": "cell-0a1b215548c7e884",
     "locked": false,
     "schema_version": 3,
     "solution": true,
     "task": false
    }
   },
   "outputs": [],
   "source": [
    "set.seed(2000)\n",
    "credit_split <- initial_split(credit, prop = 0.6, strata = Balance)\n",
    "credit_training <- training(credit_split)\n",
    "credit_testing <- testing(credit_split)"
   ]
  },
  {
   "cell_type": "code",
   "execution_count": 16,
   "metadata": {
    "deletable": false,
    "editable": false,
    "nbgrader": {
     "cell_type": "code",
     "checksum": "604bb85335aeb36060d97cad61218144",
     "grade": true,
     "grade_id": "cell-c6bf91ef0c8f21b5",
     "locked": true,
     "points": 1,
     "schema_version": 3,
     "solution": false,
     "task": false
    }
   },
   "outputs": [
    {
     "name": "stdout",
     "output_type": "stream",
     "text": [
      "[1] \"Success!\"\n"
     ]
    }
   ],
   "source": [
    "test_1.2()"
   ]
  },
  {
   "cell_type": "markdown",
   "metadata": {
    "deletable": false,
    "editable": false,
    "nbgrader": {
     "cell_type": "markdown",
     "checksum": "06a4fdd0c0da4afebec0a3b4b1c4ba51",
     "grade": false,
     "grade_id": "cell-8fb9e925bafe7b08",
     "locked": true,
     "schema_version": 3,
     "solution": false,
     "task": false
    }
   },
   "source": [
    "**Question 1.3**\n",
    "<br> {points: 1}\n",
    "\n",
    "Using only the observations in the training data set, create a `ggpairs` scatterplot of all the columns we are interested in including in our model. Name the plot object `credit_eda`."
   ]
  },
  {
   "cell_type": "code",
   "execution_count": 17,
   "metadata": {
    "deletable": false,
    "nbgrader": {
     "cell_type": "code",
     "checksum": "4f28fc05d652aff5389b55f5d31f123b",
     "grade": false,
     "grade_id": "cell-4a1c52e071e0b23e",
     "locked": false,
     "schema_version": 3,
     "solution": true
    }
   },
   "outputs": [
    {
     "data": {
      "image/png": "[encoded data removed]",
      "text/plain": [
       "plot without title"
      ]
     },
     "metadata": {
      "image/png": {
       "height": 420,
       "width": 420
      }
     },
     "output_type": "display_data"
    }
   ],
   "source": [
    "credit_eda <- ggpairs(credit_training)\n",
    "credit_eda"
   ]
  },
  {
   "cell_type": "code",
   "execution_count": 18,
   "metadata": {
    "deletable": false,
    "editable": false,
    "nbgrader": {
     "cell_type": "code",
     "checksum": "c827fe4e57f5e815d41100847b4a554b",
     "grade": true,
     "grade_id": "cell-883edd273699e4b7",
     "locked": true,
     "points": 1,
     "schema_version": 3,
     "solution": false
    }
   },
   "outputs": [
    {
     "name": "stdout",
     "output_type": "stream",
     "text": [
      "[1] \"Success!\"\n"
     ]
    }
   ],
   "source": [
    "test_1.3()"
   ]
  },
  {
   "cell_type": "markdown",
   "metadata": {
    "deletable": false,
    "editable": false,
    "nbgrader": {
     "cell_type": "markdown",
     "checksum": "ca9eaca8a37dcc89f1d9f8d9ee248cb8",
     "grade": false,
     "grade_id": "cell-8c160d0c2cc2e44b",
     "locked": true,
     "schema_version": 3,
     "solution": false,
     "task": false
    }
   },
   "source": [
    "**Question 1.4** Multiple Choice:\n",
    "<br> {points: 1} \n",
    "\n",
    "Looking at the `ggpairs` plot above, which of the following statements is **incorrect**?\n",
    "\n",
    "A. There is a strong positive relationship between the response variable (`Balance`) and the `Rating` predictor\n",
    "\n",
    "B. There is a strong positive relationship between the two predictors (`Income` and `Rating`)\n",
    "\n",
    "C. There is a strong positive relationship between the response variable (`Balance`) and the `Income` predictor\n",
    "\n",
    "D. None of the above statements are incorrect\n",
    "\n",
    "*Assign your answer to an object called `answer1.4`. Make sure your answer is an uppercase letter and is surrounded by quotation marks (e.g. `\"F\"`).*"
   ]
  },
  {
   "cell_type": "code",
   "execution_count": 25,
   "metadata": {
    "deletable": false,
    "nbgrader": {
     "cell_type": "code",
     "checksum": "d9100063d5fb43eaec13a065d9f68c60",
     "grade": false,
     "grade_id": "cell-60cc3240844fe505",
     "locked": false,
     "schema_version": 3,
     "solution": true,
     "task": false
    }
   },
   "outputs": [],
   "source": [
    "answer1.4 <- \"C\""
   ]
  },
  {
   "cell_type": "code",
   "execution_count": 26,
   "metadata": {
    "deletable": false,
    "editable": false,
    "nbgrader": {
     "cell_type": "code",
     "checksum": "2369e42290b0e281baf37ee37176e922",
     "grade": true,
     "grade_id": "cell-921cf1869c166f49",
     "locked": true,
     "points": 1,
     "schema_version": 3,
     "solution": false,
     "task": false
    }
   },
   "outputs": [
    {
     "name": "stdout",
     "output_type": "stream",
     "text": [
      "[1] \"Success!\"\n"
     ]
    }
   ],
   "source": [
    "test_1.4()"
   ]
  },
  {
   "cell_type": "markdown",
   "metadata": {
    "deletable": false,
    "editable": false,
    "nbgrader": {
     "cell_type": "markdown",
     "checksum": "882278e84431f486d8ec778b6621a600",
     "grade": false,
     "grade_id": "cell-ec78a305c07838f3",
     "locked": true,
     "schema_version": 3,
     "solution": false,
     "task": false
    }
   },
   "source": [
    "**Question 1.5**\n",
    "<br> {points: 1}\n",
    "\n",
    "Now that we have our training data, we will fit a linear regression model.\n",
    "\n",
    "- Create and assign your linear regression model specification to an object called `lm_spec`.  \n",
    "- Create a recipe for the model. Assign your answer to an object called `credit_recipe`."
   ]
  },
  {
   "cell_type": "code",
   "execution_count": 30,
   "metadata": {
    "deletable": false,
    "nbgrader": {
     "cell_type": "code",
     "checksum": "591584ea817ae977213aa48f70fbb35b",
     "grade": false,
     "grade_id": "cell-9736241c0c2966b9",
     "locked": false,
     "schema_version": 3,
     "solution": true
    }
   },
   "outputs": [
    {
     "name": "stdout",
     "output_type": "stream",
     "text": [
      "Linear Regression Model Specification (regression)\n",
      "\n",
      "Computational engine: lm \n",
      "\n",
      "Data Recipe\n",
      "\n",
      "Inputs:\n",
      "\n",
      "      role #variables\n",
      "   outcome          1\n",
      " predictor          2\n"
     ]
    }
   ],
   "source": [
    "set.seed(2020) #DO NOT REMOVE\n",
    "\n",
    "lm_spec <- linear_reg() %>%\n",
    "    set_engine(\"lm\") %>%\n",
    "    set_mode(\"regression\")\n",
    "\n",
    "credit_recipe <- recipe(Balance ~ ., data = credit_training)\n",
    "\n",
    "print(lm_spec)\n",
    "print(credit_recipe)"
   ]
  },
  {
   "cell_type": "code",
   "execution_count": 31,
   "metadata": {
    "deletable": false,
    "editable": false,
    "nbgrader": {
     "cell_type": "code",
     "checksum": "ee9f1217e0b2f9d0c22b0e5ac8e0e58c",
     "grade": true,
     "grade_id": "cell-a647adab28a3dfb2",
     "locked": true,
     "points": 1,
     "schema_version": 3,
     "solution": false
    }
   },
   "outputs": [
    {
     "name": "stdout",
     "output_type": "stream",
     "text": [
      "[1] \"Success!\"\n"
     ]
    }
   ],
   "source": [
    "test_1.5()"
   ]
  },
  {
   "cell_type": "markdown",
   "metadata": {
    "deletable": false,
    "editable": false,
    "nbgrader": {
     "cell_type": "markdown",
     "checksum": "bd2a0a4c5e85cacef68b09d90e93ee16",
     "grade": false,
     "grade_id": "cell-caf742da4236e6a8",
     "locked": true,
     "schema_version": 3,
     "solution": false,
     "task": false
    }
   },
   "source": [
    "**Question 1.6**\n",
    "<br> {points: 1}\n",
    "\n",
    "Now that we have our model specification and recipe, let's put them together in a workflow, and fit our simple linear regression model. Assign the fit to an object called `credit_fit`. "
   ]
  },
  {
   "cell_type": "code",
   "execution_count": 35,
   "metadata": {
    "deletable": false,
    "nbgrader": {
     "cell_type": "code",
     "checksum": "d84efb98584068f8bb6c1f9b134fbb3e",
     "grade": false,
     "grade_id": "cell-6131349a47c37876",
     "locked": false,
     "schema_version": 3,
     "solution": true
    }
   },
   "outputs": [
    {
     "data": {
      "text/plain": [
       "══ Workflow [trained] ══════════════════════════════════════════════════════════\n",
       "\u001b[3mPreprocessor:\u001b[23m Recipe\n",
       "\u001b[3mModel:\u001b[23m linear_reg()\n",
       "\n",
       "── Preprocessor ────────────────────────────────────────────────────────────────\n",
       "0 Recipe Steps\n",
       "\n",
       "── Model ───────────────────────────────────────────────────────────────────────\n",
       "\n",
       "Call:\n",
       "stats::lm(formula = ..y ~ ., data = data)\n",
       "\n",
       "Coefficients:\n",
       "(Intercept)       Income       Rating  \n",
       "   -531.116       -7.960        3.985  \n"
      ]
     },
     "metadata": {},
     "output_type": "display_data"
    }
   ],
   "source": [
    "set.seed(2020) # DO NOT REMOVE\n",
    "\n",
    "credit_fit <- workflow() %>%\n",
    "    add_recipe(credit_recipe) %>%\n",
    "    add_model(lm_spec) %>%\n",
    "    fit(credit_training)\n",
    "credit_fit"
   ]
  },
  {
   "cell_type": "code",
   "execution_count": 34,
   "metadata": {
    "deletable": false,
    "editable": false,
    "nbgrader": {
     "cell_type": "code",
     "checksum": "35ca6cb0153e4dcb4a095e6981d7f0e4",
     "grade": true,
     "grade_id": "cell-4664079ebe7d0892",
     "locked": true,
     "points": 1,
     "schema_version": 3,
     "solution": false
    }
   },
   "outputs": [
    {
     "name": "stdout",
     "output_type": "stream",
     "text": [
      "[1] \"Success!\"\n"
     ]
    }
   ],
   "source": [
    "test_1.6()"
   ]
  },
  {
   "cell_type": "markdown",
   "metadata": {
    "deletable": false,
    "editable": false,
    "nbgrader": {
     "cell_type": "markdown",
     "checksum": "fcbb15d829dee3e8bbcdf575f208cb11",
     "grade": false,
     "grade_id": "cell-7719909c65940401",
     "locked": true,
     "schema_version": 3,
     "solution": false,
     "task": false
    }
   },
   "source": [
    "**Question 1.7** Multiple Choice:\n",
    "<br> {points: 1}\n",
    "\n",
    "Looking at the slopes/coefficients above from each of the predictors, which of the following mathematical equations is correct for your prediction model?\n",
    "\n",
    "A. $credit\\: card \\: balance = -531.116 -7.960*income  + 3.985*credit\\: card\\: rating$\n",
    "\n",
    "B. $credit\\: card \\: balance = -531.116 + 3.985*income  -7.960*credit\\: card\\: rating$\n",
    "\n",
    "C. $credit\\: card \\: balance = 531.116 -7.960*income  - 3.985*credit\\: card\\: rating$\n",
    "\n",
    "D. $credit\\: card \\: balance = 531.116 - 3.985*income  + 7.960*credit\\: card\\: rating$\n",
    "\n",
    "*Assign your answer to an object called `answer1.7`. Make sure your answer is an uppercase letter and is surrounded by quotation marks (e.g. `\"F\"`).*"
   ]
  },
  {
   "cell_type": "code",
   "execution_count": 36,
   "metadata": {
    "deletable": false,
    "nbgrader": {
     "cell_type": "code",
     "checksum": "975b6169f7da0281e5027c6c4a88f430",
     "grade": false,
     "grade_id": "cell-9f0416355ca0cc31",
     "locked": false,
     "schema_version": 3,
     "solution": true,
     "task": false
    }
   },
   "outputs": [],
   "source": [
    "answer1.7 <- \"A\""
   ]
  },
  {
   "cell_type": "code",
   "execution_count": 37,
   "metadata": {
    "deletable": false,
    "editable": false,
    "nbgrader": {
     "cell_type": "code",
     "checksum": "b309e1d1b797c05c9d20c2f5bb6a3c0a",
     "grade": true,
     "grade_id": "cell-7cb05955d5df0d29",
     "locked": true,
     "points": 1,
     "schema_version": 3,
     "solution": false,
     "task": false
    }
   },
   "outputs": [
    {
     "name": "stdout",
     "output_type": "stream",
     "text": [
      "[1] \"Success!\"\n"
     ]
    }
   ],
   "source": [
    "test_1.7()"
   ]
  },
  {
   "cell_type": "markdown",
   "metadata": {
    "deletable": false,
    "editable": false,
    "nbgrader": {
     "cell_type": "markdown",
     "checksum": "fc6ace68a03d16950d92357844aa4374",
     "grade": false,
     "grade_id": "cell-7b9b2114fd06d867",
     "locked": true,
     "schema_version": 3,
     "solution": false,
     "task": false
    }
   },
   "source": [
    "**Question 1.8**\n",
    "<br> {points: 1}\n",
    "\n",
    "Calculate the $RMSE$ to assess goodness of fit on `credit_fit` (remember this is how well it predicts on the training data used to fit the model). Return a single numerical value named `lm_rmse`."
   ]
  },
  {
   "cell_type": "code",
   "execution_count": 45,
   "metadata": {
    "deletable": false,
    "nbgrader": {
     "cell_type": "code",
     "checksum": "798ceb981c84bec8bbfd7afe1da0e9e6",
     "grade": false,
     "grade_id": "cell-12064d256dd640e2",
     "locked": false,
     "schema_version": 3,
     "solution": true
    }
   },
   "outputs": [
    {
     "data": {
      "text/html": [
       "160.678010412829"
      ],
      "text/latex": [
       "160.678010412829"
      ],
      "text/markdown": [
       "160.678010412829"
      ],
      "text/plain": [
       "[1] 160.678"
      ]
     },
     "metadata": {},
     "output_type": "display_data"
    }
   ],
   "source": [
    "set.seed(2020) # DO NOT REMOVE\n",
    "\n",
    "#... <- credit_fit %>%\n",
    "#         predict(...) %>%\n",
    "#         bind_cols(...) %>%\n",
    "#         ...(truth = ..., estimate = ...) %>%\n",
    "#         filter(.metric == ...) %>%\n",
    "#         select(...) %>%\n",
    "#         pull()\n",
    "\n",
    "lm_rmse <- credit_fit %>%\n",
    "    predict(credit_training) %>%\n",
    "    bind_cols(credit_training) %>%\n",
    "    metrics(truth = Balance, estimate = .pred) %>%\n",
    "    filter(.metric == \"rmse\") %>%\n",
    "    select(.estimate) %>%\n",
    "    pull()\n",
    "lm_rmse"
   ]
  },
  {
   "cell_type": "code",
   "execution_count": 46,
   "metadata": {
    "deletable": false,
    "editable": false,
    "nbgrader": {
     "cell_type": "code",
     "checksum": "0141a8dfd315ed19b0fa814745c758b9",
     "grade": true,
     "grade_id": "cell-8de81bb18dedbb48",
     "locked": true,
     "points": 1,
     "schema_version": 3,
     "solution": false
    }
   },
   "outputs": [
    {
     "name": "stdout",
     "output_type": "stream",
     "text": [
      "[1] \"Success!\"\n"
     ]
    }
   ],
   "source": [
    "test_1.8()"
   ]
  },
  {
   "cell_type": "markdown",
   "metadata": {
    "deletable": false,
    "editable": false,
    "nbgrader": {
     "cell_type": "markdown",
     "checksum": "7c4f24ec39c37c951718172bfd25303e",
     "grade": false,
     "grade_id": "cell-f873952538d4f725",
     "locked": true,
     "schema_version": 3,
     "solution": false,
     "task": false
    }
   },
   "source": [
    "**Question 1.9**\n",
    "<br> {points: 1}\n",
    "\n",
    "Calculate $RMSPE$ using the test data. Return a single numerical value named `lm_rmspe`."
   ]
  },
  {
   "cell_type": "code",
   "execution_count": 50,
   "metadata": {
    "deletable": false,
    "nbgrader": {
     "cell_type": "code",
     "checksum": "8ebda83d7f617c3622b563526f69d179",
     "grade": false,
     "grade_id": "cell-5f42a9ac9068cfdf",
     "locked": false,
     "schema_version": 3,
     "solution": true
    }
   },
   "outputs": [
    {
     "data": {
      "text/html": [
       "165.079457996667"
      ],
      "text/latex": [
       "165.079457996667"
      ],
      "text/markdown": [
       "165.079457996667"
      ],
      "text/plain": [
       "[1] 165.0795"
      ]
     },
     "metadata": {},
     "output_type": "display_data"
    }
   ],
   "source": [
    "set.seed(2020) # DO NOT REMOVE\n",
    "\n",
    "lm_rmspe <- credit_fit %>%\n",
    "    predict(credit_testing) %>%\n",
    "    bind_cols(credit_testing) %>%\n",
    "    metrics(truth = Balance, estimate = .pred) %>%\n",
    "    filter(.metric == \"rmse\") %>%\n",
    "    select(.estimate) %>%\n",
    "    pull()\n",
    "lm_rmspe"
   ]
  },
  {
   "cell_type": "code",
   "execution_count": 51,
   "metadata": {
    "deletable": false,
    "editable": false,
    "nbgrader": {
     "cell_type": "code",
     "checksum": "8c12c50a3c2f06b3e3f78f547f0fb80a",
     "grade": true,
     "grade_id": "cell-41031aad5e75b436",
     "locked": true,
     "points": 1,
     "schema_version": 3,
     "solution": false
    }
   },
   "outputs": [
    {
     "name": "stdout",
     "output_type": "stream",
     "text": [
      "[1] \"Success!\"\n"
     ]
    }
   ],
   "source": [
    "test_1.9()"
   ]
  },
  {
   "cell_type": "markdown",
   "metadata": {
    "deletable": false,
    "editable": false,
    "nbgrader": {
     "cell_type": "markdown",
     "checksum": "46b1d4b6acad8ef649ae96315cd098f5",
     "grade": false,
     "grade_id": "cell-f26f28bfc681966f",
     "locked": true,
     "schema_version": 3,
     "solution": false,
     "task": false
    }
   },
   "source": [
    "**Question 1.9.1**\n",
    "<br> {points: 3}\n",
    "\n",
    "Redo this analysis using $k$-nn regression instead of linear regression. Use `set.seed(2000)` at the beginning of this code cell to make it reproducible. Use the same predictors and train - test data splits as you used for linear regression, and use 5-fold cross validation to choose $k$ from the range 1-20. Remember to scale and shift your predictors on your training data, and to apply that same standardization to your test data! \n",
    "Assign a single numeric value for $RMSPE$ for your k-nn model as your answer, and name it `knn_rmspe`. "
   ]
  },
  {
   "cell_type": "code",
   "execution_count": 21,
   "metadata": {
    "deletable": false,
    "nbgrader": {
     "cell_type": "code",
     "checksum": "45fb86a0ae1c06151284f4806d810d02",
     "grade": true,
     "grade_id": "cell-99f8a777ffd9b3e7",
     "locked": false,
     "points": 3,
     "schema_version": 3,
     "solution": true,
     "task": false
    }
   },
   "outputs": [
    {
     "data": {
      "text/html": [
       "6"
      ],
      "text/latex": [
       "6"
      ],
      "text/markdown": [
       "6"
      ],
      "text/plain": [
       "[1] 6"
      ]
     },
     "metadata": {},
     "output_type": "display_data"
    },
    {
     "data": {
      "text/html": [
       "181.976106835814"
      ],
      "text/latex": [
       "181.976106835814"
      ],
      "text/markdown": [
       "181.976106835814"
      ],
      "text/plain": [
       "[1] 181.9761"
      ]
     },
     "metadata": {},
     "output_type": "display_data"
    }
   ],
   "source": [
    "set.seed(2000) # DO NOT REMOVE\n",
    "\n",
    "knn_spec <- nearest_neighbor(weight_func = \"rectangular\", neighbor = tune()) %>%\n",
    "    set_engine(\"kknn\") %>%\n",
    "    set_mode(\"regression\")\n",
    "\n",
    "knn_recipe <- recipe(Balance ~ ., neighbors = tune()) %>%\n",
    "    step_center(all_predictors()) %>%\n",
    "    step_scale(all_predictors()) \n",
    "\n",
    "knn_vfold <- vfold_cv(credit_training, v = 5, strata = Balance)\n",
    "\n",
    "knn_workflow <- workflow() %>%\n",
    "    add_recipe(knn_recipe) %>%\n",
    "    add_model\n",
    "\n",
    "# credit_knn_recipe <- recipe(Balance ~., data = credit_training) %>%\n",
    "#                         step_center(all_predictors()) %>%\n",
    "#                         step_scale(all_predictors())\n",
    "\n",
    "# credit_knn_spec <- nearest_neighbor(weight_func = \"rectangular\", neighbors = tune()) %>%\n",
    "#                       set_engine(\"kknn\") %>%\n",
    "#                       set_mode(\"regression\")\n",
    "\n",
    "# credit_vfold <- vfold_cv(credit_training, v = 5, strata = Balance)\n",
    "\n",
    "# credit_knn_workflow <- workflow() %>%\n",
    "#                         add_recipe(credit_knn_recipe) %>%\n",
    "#                         add_model(credit_knn_spec)\n",
    "\n",
    "# gridvals <- tibble(neighbors = seq(1,20))\n",
    "\n",
    "# credit_knn_results <- credit_knn_workflow %>%\n",
    "#                        tune_grid(resamples = credit_vfold, grid = gridvals) %>%\n",
    "#                        collect_metrics() \n",
    "\n",
    "# #select the value of k resulting in best RMSE\n",
    "# kmin <- credit_knn_results %>%\n",
    "#                filter(.metric == 'rmse') %>%\n",
    "#                filter(mean == min(mean))  %>% \n",
    "#                pull(neighbors)\n",
    "\n",
    "# #retrain the model using that final k, predict on held-out data\n",
    "# credit_spec <- nearest_neighbor(weight_func = \"rectangular\", neighbors = kmin) %>%\n",
    "#   set_engine(\"kknn\") %>%\n",
    "#   set_mode(\"regression\")\n",
    "\n",
    "# credit_fit <- workflow() %>%\n",
    "#   add_recipe(credit_knn_recipe) %>%\n",
    "#   add_model(credit_spec) %>%\n",
    "#   fit(data = credit_training)\n",
    "\n",
    "# knn_rmspe <- credit_fit %>%\n",
    "#   predict(credit_testing) %>%\n",
    "#   bind_cols(credit_testing) %>%\n",
    "#   metrics(truth = Balance, estimate = .pred)%>%\n",
    "#   filter(.metric == 'rmse') %>%\n",
    "#   pull(.estimate) "
   ]
  },
  {
   "cell_type": "markdown",
   "metadata": {
    "deletable": false,
    "editable": false,
    "nbgrader": {
     "cell_type": "markdown",
     "checksum": "eac4896007ac91fc952be6aedf227196",
     "grade": false,
     "grade_id": "cell-8826c38ee017c109",
     "locked": true,
     "schema_version": 3,
     "solution": false,
     "task": false
    }
   },
   "source": [
    "**Question 1.9.2** \n",
    "<br> {points: 3}\n",
    "\n",
    "Discuss which model, linear regression versus $k$-nn regression, gives better predictions and why you think that might be happening."
   ]
  },
  {
   "cell_type": "markdown",
   "metadata": {
    "deletable": false,
    "nbgrader": {
     "cell_type": "markdown",
     "checksum": "c22fcd3031290228e3df02c09fecc609",
     "grade": true,
     "grade_id": "cell-051a638d3bfe7568",
     "locked": false,
     "points": 3,
     "schema_version": 3,
     "solution": true,
     "task": false
    }
   },
   "source": [
    "The linear regression gives better prediction than the KNN regression as the rmspe value is lower for the linear regression model. The linear regression model is also more interpretable because we can mathematically calculate and explain how each predictor is influencing the predictions. For the reason why KNN regression having a higher RMSPE value than the linear regression is that the model overfits the data, the model is influenced too much by the training data compare to the linear regression model"
   ]
  },
  {
   "cell_type": "markdown",
   "metadata": {
    "deletable": false,
    "editable": false,
    "nbgrader": {
     "cell_type": "markdown",
     "checksum": "64289e0aede7c718007b9f18070269fc",
     "grade": false,
     "grade_id": "cell-053902c100826449",
     "locked": true,
     "schema_version": 3,
     "solution": false,
     "task": false
    }
   },
   "source": [
    "## 2. Ames Housing Prices\n",
    "\n",
    "<img src=\"https://media.giphy.com/media/xUPGGuzpmG3jfeYWIg/giphy.gif\" width = \"600\"/>\n",
    "\n",
    "Source: https://media.giphy.com/media/xUPGGuzpmG3jfeYWIg/giphy.gif\n",
    "\n",
    "If we take a look at the Business Insider report [What do millenials want in a home?](https://www.businessinsider.com/what-do-millennials-want-in-a-home-2017-2), we can see that millenials like newer houses that have their own defined spaces. Today we are going to be looking at housing data to understand how the sale price of a house is determined. Finding highly detailed housing data with the final sale prices is very hard, however researchers from Truman State Univeristy have studied and made available a dataset containing multiple variables for the city of Ames, Iowa. The data set describes the sale of individual residential property in Ames, Iowa\n",
    "from 2006 to 2010. You can read more about the data set [here](http://jse.amstat.org/v19n3/decock.pdf). Today we will be looking at 5 different variables to predict the sale price of a house. These variables are: \n",
    "\n",
    "- Lot Area: `lot_area`\n",
    "- Year Built: `year_built`\n",
    "- Basement Square Footage: `bsmt_sf`\n",
    "- First Floor Square Footage: `first_sf`\n",
    "- Second Floor Square Footage: `second_sf`\n",
    "\n",
    "First, load the data with the script given below. "
   ]
  },
  {
   "cell_type": "code",
   "execution_count": 52,
   "metadata": {
    "deletable": false,
    "editable": false,
    "nbgrader": {
     "cell_type": "code",
     "checksum": "f8e6d4dfe1e602cb4edb67ce6da7d969",
     "grade": false,
     "grade_id": "cell-789ffdb0a2a88b3b",
     "locked": true,
     "schema_version": 3,
     "solution": false,
     "task": false
    }
   },
   "outputs": [
    {
     "name": "stderr",
     "output_type": "stream",
     "text": [
      "Warning message:\n",
      "“13 parsing failures.\n",
      " row     col           expected actual            file\n",
      "1064 Pool.QC 1/0/T/F/TRUE/FALSE     Ex 'data/ames.csv'\n",
      "1499 Pool.QC 1/0/T/F/TRUE/FALSE     Gd 'data/ames.csv'\n",
      "1567 Pool.QC 1/0/T/F/TRUE/FALSE     Gd 'data/ames.csv'\n",
      "1761 Pool.QC 1/0/T/F/TRUE/FALSE     Ex 'data/ames.csv'\n",
      "1941 Pool.QC 1/0/T/F/TRUE/FALSE     TA 'data/ames.csv'\n",
      ".... ....... .................. ...... ...............\n",
      "See problems(...) for more details.\n",
      "”\n"
     ]
    },
    {
     "data": {
      "text/html": [
       "<table>\n",
       "<caption>A tibble: 2929 × 6</caption>\n",
       "<thead>\n",
       "\t<tr><th scope=col>lot_area</th><th scope=col>year_built</th><th scope=col>bsmt_sf</th><th scope=col>first_sf</th><th scope=col>second_sf</th><th scope=col>sale_price</th></tr>\n",
       "\t<tr><th scope=col>&lt;dbl&gt;</th><th scope=col>&lt;dbl&gt;</th><th scope=col>&lt;dbl&gt;</th><th scope=col>&lt;dbl&gt;</th><th scope=col>&lt;dbl&gt;</th><th scope=col>&lt;dbl&gt;</th></tr>\n",
       "</thead>\n",
       "<tbody>\n",
       "\t<tr><td>31770</td><td>1960</td><td>1080</td><td>1656</td><td>0</td><td>215000</td></tr>\n",
       "\t<tr><td>11622</td><td>1961</td><td> 882</td><td> 896</td><td>0</td><td>105000</td></tr>\n",
       "\t<tr><td>14267</td><td>1958</td><td>1329</td><td>1329</td><td>0</td><td>172000</td></tr>\n",
       "\t<tr><td>⋮</td><td>⋮</td><td>⋮</td><td>⋮</td><td>⋮</td><td>⋮</td></tr>\n",
       "\t<tr><td>10441</td><td>1992</td><td> 912</td><td> 970</td><td>   0</td><td>132000</td></tr>\n",
       "\t<tr><td>10010</td><td>1974</td><td>1389</td><td>1389</td><td>   0</td><td>170000</td></tr>\n",
       "\t<tr><td> 9627</td><td>1993</td><td> 996</td><td> 996</td><td>1004</td><td>188000</td></tr>\n",
       "</tbody>\n",
       "</table>\n"
      ],
      "text/latex": [
       "A tibble: 2929 × 6\n",
       "\\begin{tabular}{llllll}\n",
       " lot\\_area & year\\_built & bsmt\\_sf & first\\_sf & second\\_sf & sale\\_price\\\\\n",
       " <dbl> & <dbl> & <dbl> & <dbl> & <dbl> & <dbl>\\\\\n",
       "\\hline\n",
       "\t 31770 & 1960 & 1080 & 1656 & 0 & 215000\\\\\n",
       "\t 11622 & 1961 &  882 &  896 & 0 & 105000\\\\\n",
       "\t 14267 & 1958 & 1329 & 1329 & 0 & 172000\\\\\n",
       "\t ⋮ & ⋮ & ⋮ & ⋮ & ⋮ & ⋮\\\\\n",
       "\t 10441 & 1992 &  912 &  970 &    0 & 132000\\\\\n",
       "\t 10010 & 1974 & 1389 & 1389 &    0 & 170000\\\\\n",
       "\t  9627 & 1993 &  996 &  996 & 1004 & 188000\\\\\n",
       "\\end{tabular}\n"
      ],
      "text/markdown": [
       "\n",
       "A tibble: 2929 × 6\n",
       "\n",
       "| lot_area &lt;dbl&gt; | year_built &lt;dbl&gt; | bsmt_sf &lt;dbl&gt; | first_sf &lt;dbl&gt; | second_sf &lt;dbl&gt; | sale_price &lt;dbl&gt; |\n",
       "|---|---|---|---|---|---|\n",
       "| 31770 | 1960 | 1080 | 1656 | 0 | 215000 |\n",
       "| 11622 | 1961 |  882 |  896 | 0 | 105000 |\n",
       "| 14267 | 1958 | 1329 | 1329 | 0 | 172000 |\n",
       "| ⋮ | ⋮ | ⋮ | ⋮ | ⋮ | ⋮ |\n",
       "| 10441 | 1992 |  912 |  970 |    0 | 132000 |\n",
       "| 10010 | 1974 | 1389 | 1389 |    0 | 170000 |\n",
       "|  9627 | 1993 |  996 |  996 | 1004 | 188000 |\n",
       "\n"
      ],
      "text/plain": [
       "     lot_area year_built bsmt_sf first_sf second_sf sale_price\n",
       "1    31770    1960       1080    1656     0         215000    \n",
       "2    11622    1961        882     896     0         105000    \n",
       "3    14267    1958       1329    1329     0         172000    \n",
       "⋮    ⋮        ⋮          ⋮       ⋮        ⋮         ⋮         \n",
       "2927 10441    1992        912     970        0      132000    \n",
       "2928 10010    1974       1389    1389        0      170000    \n",
       "2929  9627    1993        996     996     1004      188000    "
      ]
     },
     "metadata": {},
     "output_type": "display_data"
    }
   ],
   "source": [
    "# run this cell\n",
    "\n",
    "ames_data <- read_csv('data/ames.csv', col_types = cols()) %>%\n",
    "    select(lot_area = Lot.Area, \n",
    "           year_built = Year.Built, \n",
    "           bsmt_sf = Total.Bsmt.SF, \n",
    "           first_sf = `X1st.Flr.SF`, \n",
    "           second_sf = `X2nd.Flr.SF`, \n",
    "           sale_price = SalePrice) %>%\n",
    "    filter(!is.na(bsmt_sf))\n",
    "\n",
    "ames_data"
   ]
  },
  {
   "cell_type": "markdown",
   "metadata": {
    "deletable": false,
    "editable": false,
    "nbgrader": {
     "cell_type": "markdown",
     "checksum": "233dcca362a292997c5d3789b6714dfd",
     "grade": false,
     "grade_id": "cell-e5207881e329c2a0",
     "locked": true,
     "schema_version": 3,
     "solution": false,
     "task": false
    }
   },
   "source": [
    "**Question 2.1**\n",
    "<br> {points: 3}\n",
    "\n",
    "Split the data into a train dataset and a test dataset, based on a 70%-30% train-test split. Use `set.seed(2019)`. Remember that we want to predict the `sale_price` based on all of the other variables. \n",
    "\n",
    "Assign the objects to `ames_split`, `ames_training`, and `ames_testing`, respectively. \n",
    "\n",
    "*Use 2019 as your seed for the split.*"
   ]
  },
  {
   "cell_type": "code",
   "execution_count": 53,
   "metadata": {
    "deletable": false,
    "nbgrader": {
     "cell_type": "code",
     "checksum": "fd42296cc0e8349d1e2a7869c2d0b370",
     "grade": false,
     "grade_id": "cell-4677940cbd08ded9",
     "locked": false,
     "schema_version": 3,
     "solution": true
    }
   },
   "outputs": [],
   "source": [
    "set.seed(2019) # DO NOT CHANGE!\n",
    "\n",
    "ames_split <- initial_split(ames_data, props = 0.7, strata = sale_price)\n",
    "ames_training <- training(ames_split) \n",
    "ames_testing <- testing(ames_split)"
   ]
  },
  {
   "cell_type": "code",
   "execution_count": 54,
   "metadata": {
    "deletable": false,
    "editable": false,
    "nbgrader": {
     "cell_type": "code",
     "checksum": "75c275b538ff04853e4d3a9145e882bc",
     "grade": true,
     "grade_id": "cell-416374a3ce562c44",
     "locked": true,
     "points": 3,
     "schema_version": 3,
     "solution": false
    }
   },
   "outputs": [],
   "source": [
    "# We check that you've created objects with the right names below\n",
    "# But all other tests were intentionally hidden so that you can practice deciding \n",
    "# when you have the correct answer.\n",
    "test_that('Did not create objects named ames_split, ames_training and ames_testing', {\n",
    "    expect_true(exists(\"ames_split\")) \n",
    "    expect_true(exists(\"ames_training\")) \n",
    "    expect_true(exists(\"ames_testing\"))  \n",
    "    })"
   ]
  },
  {
   "cell_type": "markdown",
   "metadata": {
    "deletable": false,
    "editable": false,
    "nbgrader": {
     "cell_type": "markdown",
     "checksum": "552618d5d5278b4e1b4873c2930dafcd",
     "grade": false,
     "grade_id": "cell-1060b3c866d44767",
     "locked": true,
     "schema_version": 3,
     "solution": false,
     "task": false
    }
   },
   "source": [
    "**Question 2.2**\n",
    "<br> {points: 3}\n",
    "\n",
    "Let's start by exploring the training data. Use the `ggpairs()` function from the GGally package to explore the relationships between the different variables. \n",
    "\n",
    "Assign your plot object to a variable named `answer2.2`. "
   ]
  },
  {
   "cell_type": "code",
   "execution_count": 55,
   "metadata": {
    "deletable": false,
    "nbgrader": {
     "cell_type": "code",
     "checksum": "6dd2144c428f60171732366d7d422c2e",
     "grade": false,
     "grade_id": "cell-93bef9e4a6864e86",
     "locked": false,
     "schema_version": 3,
     "solution": true
    }
   },
   "outputs": [
    {
     "data": {
      "image/png": "[encoded data removed]",
      "text/plain": [
       "plot without title"
      ]
     },
     "metadata": {
      "image/png": {
       "height": 420,
       "width": 420
      }
     },
     "output_type": "display_data"
    }
   ],
   "source": [
    "set.seed(2020) # DO NOT REMOVE\n",
    "\n",
    "answer2.2 <- ggpairs(ames_training) \n",
    "answer2.2"
   ]
  },
  {
   "cell_type": "code",
   "execution_count": 56,
   "metadata": {
    "deletable": false,
    "editable": false,
    "nbgrader": {
     "cell_type": "code",
     "checksum": "9d9f172ce12e0691b6119d96c4aff046",
     "grade": true,
     "grade_id": "cell-ee3115b616837197",
     "locked": true,
     "points": 3,
     "schema_version": 3,
     "solution": false
    }
   },
   "outputs": [],
   "source": [
    "# We check that you've created objects with the right names below\n",
    "# But all other tests were intentionally hidden so that you can practice deciding \n",
    "# when you have the correct answer.\n",
    "test_that('Did not create a plot named answer2.2', {\n",
    "    expect_true(exists(\"answer2.2\")) \n",
    "})\n"
   ]
  },
  {
   "cell_type": "markdown",
   "metadata": {
    "deletable": false,
    "editable": false,
    "nbgrader": {
     "cell_type": "markdown",
     "checksum": "767dc1a3aa9a7e9d71c0c7ef04224ff9",
     "grade": false,
     "grade_id": "cell-e69b196736971fb3",
     "locked": true,
     "schema_version": 3,
     "solution": false,
     "task": false
    }
   },
   "source": [
    "**Question 2.3** Multiple Choice:\n",
    "<br> {points: 1}\n",
    "\n",
    "Now that we have seen all the relationships between the variables, which of the following variables would *not* be a  strong predictor for `sale_price`?\n",
    "\n",
    "A. `bsmt_sf`\n",
    "\n",
    "B. `year_built`\n",
    "\n",
    "C. `first_sf`\n",
    "\n",
    "D. `lot_area`\n",
    "\n",
    "E. `second_sf`\n",
    "\n",
    "F. It isn't clear from these plots\n",
    "\n",
    "*Assign your answer to an object called `answer2.3`. Make sure your answer is an uppercase letter and is surrounded by quotation marks (e.g. `\"F\"`).*"
   ]
  },
  {
   "cell_type": "code",
   "execution_count": 72,
   "metadata": {
    "deletable": false,
    "nbgrader": {
     "cell_type": "code",
     "checksum": "0240bfa9c6d9530fab790f2ffa08d874",
     "grade": false,
     "grade_id": "cell-1a14adeddf034fe9",
     "locked": false,
     "schema_version": 3,
     "solution": true,
     "task": false
    }
   },
   "outputs": [],
   "source": [
    "answer2.3 <- \"F\""
   ]
  },
  {
   "cell_type": "code",
   "execution_count": 71,
   "metadata": {
    "deletable": false,
    "editable": false,
    "nbgrader": {
     "cell_type": "code",
     "checksum": "f24706206e253fadeb2ee9535b505d3c",
     "grade": true,
     "grade_id": "cell-020aa6e5f8a70372",
     "locked": true,
     "points": 1,
     "schema_version": 3,
     "solution": false,
     "task": false
    }
   },
   "outputs": [],
   "source": [
    "# We check that you've created objects with the right names below\n",
    "# But all other tests were intentionally hidden so that you can practice deciding \n",
    "# when you have the correct answer.\n",
    "test_that('Did not create an object called answer2.3', {\n",
    "    expect_true(exists('answer2.3'))\n",
    "})"
   ]
  },
  {
   "cell_type": "markdown",
   "metadata": {
    "deletable": false,
    "editable": false,
    "nbgrader": {
     "cell_type": "markdown",
     "checksum": "3fb9246ee5b427164dd30ea792b607e6",
     "grade": false,
     "grade_id": "cell-f133a2d80fdd9cd3",
     "locked": true,
     "schema_version": 3,
     "solution": false,
     "task": false
    }
   },
   "source": [
    "**Question 2.4 - Linear Regression**\n",
    "<br> {points: 3}\n",
    "\n",
    "Fit a linear regression model using `tidymodels` with `ames_training` using **all** the variables in the data set. \n",
    "- create a model specification called `lm_spec`\n",
    "- create a recipe called `ames_recipe`\n",
    "- create a workflow with your model spec and recipe, and then create the model fit and name it `ames_fit`"
   ]
  },
  {
   "cell_type": "code",
   "execution_count": 74,
   "metadata": {
    "deletable": false,
    "nbgrader": {
     "cell_type": "code",
     "checksum": "4ffcf69255fc2560de92be92a4697a9b",
     "grade": false,
     "grade_id": "cell-a81625dc68efe574",
     "locked": false,
     "schema_version": 3,
     "solution": true
    }
   },
   "outputs": [
    {
     "data": {
      "text/plain": [
       "══ Workflow [trained] ══════════════════════════════════════════════════════════\n",
       "\u001b[3mPreprocessor:\u001b[23m Recipe\n",
       "\u001b[3mModel:\u001b[23m linear_reg()\n",
       "\n",
       "── Preprocessor ────────────────────────────────────────────────────────────────\n",
       "0 Recipe Steps\n",
       "\n",
       "── Model ───────────────────────────────────────────────────────────────────────\n",
       "\n",
       "Call:\n",
       "stats::lm(formula = ..y ~ ., data = data)\n",
       "\n",
       "Coefficients:\n",
       "(Intercept)     lot_area   year_built      bsmt_sf     first_sf    second_sf  \n",
       " -1.623e+06    4.932e-01    8.225e+02    4.310e+01    9.185e+01    7.751e+01  \n"
      ]
     },
     "metadata": {},
     "output_type": "display_data"
    }
   ],
   "source": [
    "set.seed(2020) # DO NOT REMOVE\n",
    "\n",
    "lm_spec <- linear_reg() %>%\n",
    "    set_engine(\"lm\") %>%\n",
    "    set_mode(\"regression\")\n",
    "\n",
    "ames_recipe <- recipe(sale_price ~ ., data = ames_training)\n",
    "\n",
    "ames_fit <- workflow() %>%\n",
    "    add_recipe(ames_recipe) %>%\n",
    "    add_model(lm_spec) %>%\n",
    "    fit(data =ames_training)\n",
    "ames_fit\n"
   ]
  },
  {
   "cell_type": "code",
   "execution_count": 75,
   "metadata": {
    "deletable": false,
    "editable": false,
    "nbgrader": {
     "cell_type": "code",
     "checksum": "a33c60e4eb530eef20c2bfc07ec9a698",
     "grade": true,
     "grade_id": "cell-664d89562f972a45",
     "locked": true,
     "points": 3,
     "schema_version": 3,
     "solution": false
    }
   },
   "outputs": [],
   "source": [
    "# We check that you've created objects with the right names below\n",
    "# But all other tests were intentionally hidden so that you can practice deciding \n",
    "# when you have the correct answer.\n",
    "test_that('Did not create an object named lm_spec', {\n",
    "    expect_true(exists(\"lm_spec\")) \n",
    "    })\n",
    "test_that('Did not create an object named ames_recipe', {\n",
    "    expect_true(exists(\"ames_recipe\")) \n",
    "    })\n",
    "test_that('Did not create an object named ames_fit', {\n",
    "    expect_true(exists(\"ames_fit\")) \n",
    "    })\n"
   ]
  },
  {
   "cell_type": "markdown",
   "metadata": {
    "deletable": false,
    "editable": false,
    "nbgrader": {
     "cell_type": "markdown",
     "checksum": "32585d4cd22317e98945a370c2c71f41",
     "grade": false,
     "grade_id": "cell-f5aa9d2d7559db6b",
     "locked": true,
     "schema_version": 3,
     "solution": false,
     "task": false
    }
   },
   "source": [
    "**Question 2.5** True or False:\n",
    "<br> {points: 1}\n",
    "\n",
    "Aside from the intercept, all the variables have a positive relationship with the `sale_price`. This can be interpreted as the value of the variables decrease, the prices of the houses increase. \n",
    "\n",
    "*Assign your answer to an object called `answer2.5`. Make sure your answer is in lowercase letters and is surrounded by quotation marks (e.g. `\"true\"` or `\"false\"`).*"
   ]
  },
  {
   "cell_type": "code",
   "execution_count": 64,
   "metadata": {
    "deletable": false,
    "nbgrader": {
     "cell_type": "code",
     "checksum": "f5923486188c4827dabe1fa9a5bed28a",
     "grade": false,
     "grade_id": "cell-b2700d5cb1ebe069",
     "locked": false,
     "schema_version": 3,
     "solution": true,
     "task": false
    }
   },
   "outputs": [],
   "source": [
    "answer2.5 <- \"false\""
   ]
  },
  {
   "cell_type": "code",
   "execution_count": 32,
   "metadata": {
    "deletable": false,
    "editable": false,
    "nbgrader": {
     "cell_type": "code",
     "checksum": "78db2d74d229297957d65c3d7f926947",
     "grade": true,
     "grade_id": "cell-d02d466ab600f590",
     "locked": true,
     "points": 1,
     "schema_version": 3,
     "solution": false,
     "task": false
    }
   },
   "outputs": [],
   "source": [
    "# We check that you've created objects with the right names below\n",
    "# But all other tests were intentionally hidden so that you can practice deciding \n",
    "# when you have the correct answer.\n",
    "test_that('Did not create an object named answer2.5', {\n",
    "    expect_true(exists(\"answer2.5\")) \n",
    "    })"
   ]
  },
  {
   "cell_type": "code",
   "execution_count": 67,
   "metadata": {
    "deletable": false,
    "editable": false,
    "nbgrader": {
     "cell_type": "code",
     "checksum": "9705d4715800f2635b5a7a4bc499a787",
     "grade": false,
     "grade_id": "cell-bb9de39d3d1ef72f",
     "locked": true,
     "schema_version": 3,
     "solution": false,
     "task": false
    }
   },
   "outputs": [
    {
     "data": {
      "text/plain": [
       "NULL"
      ]
     },
     "metadata": {},
     "output_type": "display_data"
    }
   ],
   "source": [
    "# run this cell\n",
    "ames_fit$fit$fit$fit$coefficients"
   ]
  },
  {
   "cell_type": "markdown",
   "metadata": {
    "deletable": false,
    "editable": false,
    "nbgrader": {
     "cell_type": "markdown",
     "checksum": "d81aa1ca86b155426f5dc6cfabebb568",
     "grade": false,
     "grade_id": "cell-ffcca6c97ae145c9",
     "locked": true,
     "schema_version": 3,
     "solution": false,
     "task": false
    }
   },
   "source": [
    "**Question 2.6**\n",
    "<br> {points: 3}\n",
    "\n",
    "Looking at the coefficients and intercept produced from the cell block above, write down the equation for the linear model.\n",
    "\n",
    "Make sure to use correct math typesetting syntax (i.e., surround your answer with dollar signs, $a = b$)"
   ]
  },
  {
   "cell_type": "markdown",
   "metadata": {
    "deletable": false,
    "nbgrader": {
     "cell_type": "markdown",
     "checksum": "885eb92a051da5f3bff81612c6175550",
     "grade": true,
     "grade_id": "cell-8234d8869e1be009",
     "locked": false,
     "points": 3,
     "schema_version": 3,
     "solution": true,
     "task": false
    }
   },
   "source": [
    "$sales price = -1644195.487 + 0.533β0 + 832.288β1 + 41.380β2 + 94.265β3 + 78.795β4$"
   ]
  },
  {
   "cell_type": "markdown",
   "metadata": {
    "deletable": false,
    "editable": false,
    "nbgrader": {
     "cell_type": "markdown",
     "checksum": "9001f42c1ee56b21deddaced6167c3bb",
     "grade": false,
     "grade_id": "cell-33e696f6e5c6f880",
     "locked": true,
     "schema_version": 3,
     "solution": false,
     "task": false
    }
   },
   "source": [
    "**Question 2.7** Multiple Choice:\n",
    "<br> {points: 1}\n",
    "\n",
    "Why can we not easily visualize the model above as a line or a plane in a single plot?\n",
    "\n",
    "A. This is not true, we can actually easily visualize the model\n",
    "\n",
    "B. The intercept is much larger (6 digits) than the coefficients (single/double digits)\n",
    "\n",
    "C. There are more than 2 predictors\n",
    "\n",
    "D. None of the above\n",
    "\n",
    "*Assign your answer to an object called `answer2.7`. Make sure your answer is an uppercase letter and is surrounded by quotation marks (e.g. `\"F\"`).*"
   ]
  },
  {
   "cell_type": "code",
   "execution_count": 68,
   "metadata": {
    "deletable": false,
    "nbgrader": {
     "cell_type": "code",
     "checksum": "db866fef00cd7c616cee04861c3aefd0",
     "grade": false,
     "grade_id": "cell-9780a869a47de365",
     "locked": false,
     "schema_version": 3,
     "solution": true,
     "task": false
    }
   },
   "outputs": [],
   "source": [
    "answer2.7 <- \"C\""
   ]
  },
  {
   "cell_type": "code",
   "execution_count": 69,
   "metadata": {
    "deletable": false,
    "editable": false,
    "nbgrader": {
     "cell_type": "code",
     "checksum": "693749303cb1f12080c8958f9e2a58bd",
     "grade": true,
     "grade_id": "cell-e9fe30e9345df159",
     "locked": true,
     "points": 1,
     "schema_version": 3,
     "solution": false,
     "task": false
    }
   },
   "outputs": [],
   "source": [
    "# We check that you've created objects with the right names below\n",
    "# But all other tests were intentionally hidden so that you can practice deciding \n",
    "# when you have the correct answer.\n",
    "test_that('Did not create an object named answer2.7', {\n",
    "    expect_true(exists(\"answer2.7\")) \n",
    "    })"
   ]
  },
  {
   "cell_type": "markdown",
   "metadata": {
    "deletable": false,
    "editable": false,
    "nbgrader": {
     "cell_type": "markdown",
     "checksum": "8d03e13df884c417dd362853097a4cdc",
     "grade": false,
     "grade_id": "cell-10c2a24200d6582f",
     "locked": true,
     "schema_version": 3,
     "solution": false,
     "task": false
    }
   },
   "source": [
    "**Question 2.8**\n",
    "<br> {points: 3}\n",
    "\n",
    "We need to evaluate how well our model is doing. For this question, calculate the $RMSPE$ (a single numerical value) of the linear regression model using the test data set and assign it to an object named `ames_rmspe`."
   ]
  },
  {
   "cell_type": "code",
   "execution_count": 38,
   "metadata": {
    "deletable": false,
    "nbgrader": {
     "cell_type": "code",
     "checksum": "90c72d9eadc24ba632f1ad34cbfbd22d",
     "grade": false,
     "grade_id": "cell-d3d15c7887e2325a",
     "locked": false,
     "schema_version": 3,
     "solution": true
    }
   },
   "outputs": [
    {
     "data": {
      "text/html": [
       "45677.1386941731"
      ],
      "text/latex": [
       "45677.1386941731"
      ],
      "text/markdown": [
       "45677.1386941731"
      ],
      "text/plain": [
       "[1] 45677.14"
      ]
     },
     "metadata": {},
     "output_type": "display_data"
    }
   ],
   "source": [
    "set.seed(2020) # DO NOT REMOVE\n",
    "\n",
    "ames_rmspe <- ames_fit %>%\n",
    "    predict(ames_testing) %>%\n",
    "    bind_cols(ames_testing) %>%\n",
    "    metrics(truth = sales_price, estimate = .pred) %>%\n",
    "    filter(.metric == 'rmse')\n",
    "\n",
    "\n",
    "ames_rmspe <- ames_fit %>% \n",
    "    predict(ames_testing) %>%\n",
    "    bind_cols(ames_testing) %>%\n",
    "    metrics(truth = sale_price, estimate = .pred) %>%\n",
    "    filter(.metric == \"rmse\") %>%\n",
    "    select(.estimate) %>%\n",
    "    pull()\n",
    "ames_rmspe"
   ]
  },
  {
   "cell_type": "code",
   "execution_count": 39,
   "metadata": {
    "deletable": false,
    "editable": false,
    "nbgrader": {
     "cell_type": "code",
     "checksum": "51b53ca3beee93e621493fc310262595",
     "grade": true,
     "grade_id": "cell-83731b933e194459",
     "locked": true,
     "points": 3,
     "schema_version": 3,
     "solution": false
    }
   },
   "outputs": [],
   "source": [
    "# We check that you've created objects with the right names below\n",
    "# But all other tests were intentionally hidden so that you can practice deciding \n",
    "# when you have the correct answer.\n",
    "test_that('Did not create an object named ames_rmspe', {\n",
    "    expect_true(exists(\"ames_rmspe\")) \n",
    "    })"
   ]
  },
  {
   "cell_type": "markdown",
   "metadata": {
    "deletable": false,
    "editable": false,
    "nbgrader": {
     "cell_type": "markdown",
     "checksum": "76a6751d4e5196f5ddf40f5ad2159a81",
     "grade": false,
     "grade_id": "cell-7075ba3a0703c792",
     "locked": true,
     "schema_version": 3,
     "solution": false,
     "task": false
    }
   },
   "source": [
    "**Question 2.9** Multiple Choice:\n",
    "<br> {points: 1}\n",
    "\n",
    "Which of the following statements is **incorrect**?\n",
    "\n",
    "A. $RMSE$ is a measure of goodness of fit \n",
    "\n",
    "B. $RMSE$ measures how well the model predicts on data it was trained with \n",
    "\n",
    "C. $RMSPE$ measures how well the model predicts on data it was not trained with \n",
    "\n",
    "D. $RMSPE$ measures how well the model predicts on data it was trained with\n",
    "\n",
    "*Assign your answer to an object called `answer2.9`. Make sure your answer is an uppercase letter and is surrounded by quotation marks (e.g. `\"F\"`).*"
   ]
  },
  {
   "cell_type": "code",
   "execution_count": 40,
   "metadata": {
    "deletable": false,
    "nbgrader": {
     "cell_type": "code",
     "checksum": "71e364b6d204d2b9d01ca8b315e1d3a8",
     "grade": false,
     "grade_id": "cell-776d29fda029b788",
     "locked": false,
     "schema_version": 3,
     "solution": true,
     "task": false
    }
   },
   "outputs": [],
   "source": [
    "answer2.9 <- \"D\""
   ]
  },
  {
   "cell_type": "code",
   "execution_count": 41,
   "metadata": {
    "deletable": false,
    "editable": false,
    "nbgrader": {
     "cell_type": "code",
     "checksum": "cefa03460bcd9772003fcc33a86e1632",
     "grade": true,
     "grade_id": "cell-3831c36308e7c582",
     "locked": true,
     "points": 1,
     "schema_version": 3,
     "solution": false,
     "task": false
    }
   },
   "outputs": [],
   "source": [
    "# We check that you've created objects with the right names below\n",
    "# But all other tests were intentionally hidden so that you can practice deciding \n",
    "# when you have the correct answer.\n",
    "test_that('Did not create an object named answer2.9', {\n",
    "    expect_true(exists(\"answer2.9\")) \n",
    "    })"
   ]
  },
  {
   "cell_type": "code",
   "execution_count": 42,
   "metadata": {
    "deletable": false,
    "editable": false,
    "nbgrader": {
     "cell_type": "code",
     "checksum": "05ab974f885349494a16e690d13c923a",
     "grade": false,
     "grade_id": "cell-e90c30e28fd8694e",
     "locked": true,
     "schema_version": 3,
     "solution": false,
     "task": false
    }
   },
   "outputs": [],
   "source": [
    "source(\"cleanup.R\")"
   ]
  },
  {
   "cell_type": "code",
   "execution_count": null,
   "metadata": {},
   "outputs": [],
   "source": []
  }
 ],
 "metadata": {
  "kernelspec": {
   "display_name": "R",
   "language": "R",
   "name": "ir"
  },
  "language_info": {
   "codemirror_mode": "r",
   "file_extension": ".r",
   "mimetype": "text/x-r-source",
   "name": "R",
   "pygments_lexer": "r",
   "version": "4.0.0"
  }
 },
 "nbformat": 4,
 "nbformat_minor": 4
}
